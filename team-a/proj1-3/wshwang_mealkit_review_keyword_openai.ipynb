{
 "cells": [
  {
   "cell_type": "markdown",
   "metadata": {},
   "source": [
    "* [Overview - OpenAI API](https://platform.openai.com/docs/overview)\n",
    "* 모델 목록 : https://platform.openai.com/docs/models\n",
    "* 플레이그라운드에서 미리 사용해 보기 : https://platform.openai.com/playground/chat?models=gpt-4o\n",
    "* API 키 발급 : https://platform.openai.com/api-keys\n",
    "* 과금 확인 : https://platform.openai.com/usage"
   ]
  },
  {
   "cell_type": "markdown",
   "metadata": {
    "editable": true,
    "id": "V_3Yt2oUJ-KB",
    "slideshow": {
     "slide_type": ""
    },
    "tags": []
   },
   "source": [
    "## OpanAI API 활용 - ctrip 번역"
   ]
  },
  {
   "cell_type": "markdown",
   "metadata": {},
   "source": [
    "### ENV - install library"
   ]
  },
  {
   "cell_type": "code",
   "execution_count": null,
   "metadata": {},
   "outputs": [],
   "source": [
    "#!pip install pandas\n",
    "#!pip install openai    # OpenAI API\n",
    "#!pip install openpyxl  # excel"
   ]
  },
  {
   "cell_type": "markdown",
   "metadata": {},
   "source": [
    "### ENV - import"
   ]
  },
  {
   "cell_type": "code",
   "execution_count": 1,
   "metadata": {},
   "outputs": [],
   "source": [
    "import pandas as pd\n",
    "import sqlite3\n",
    "import json\n",
    "from openai import OpenAI\n",
    "from tqdm import tqdm\n",
    "tqdm.pandas()"
   ]
  },
  {
   "cell_type": "code",
   "execution_count": 2,
   "metadata": {
    "id": "qn__QR_CGUwl"
   },
   "outputs": [],
   "source": [
    "df = pd.read_csv('data/OpenAI_API/ctrip_3000.csv')"
   ]
  },
  {
   "cell_type": "code",
   "execution_count": 3,
   "metadata": {
    "id": "mtw8BU3jGJy_"
   },
   "outputs": [
    {
     "data": {
      "text/html": [
       "<div>\n",
       "<style scoped>\n",
       "    .dataframe tbody tr th:only-of-type {\n",
       "        vertical-align: middle;\n",
       "    }\n",
       "\n",
       "    .dataframe tbody tr th {\n",
       "        vertical-align: top;\n",
       "    }\n",
       "\n",
       "    .dataframe thead th {\n",
       "        text-align: right;\n",
       "    }\n",
       "</style>\n",
       "<table border=\"1\" class=\"dataframe\">\n",
       "  <thead>\n",
       "    <tr style=\"text-align: right;\">\n",
       "      <th></th>\n",
       "      <th>poiId</th>\n",
       "      <th>poiName</th>\n",
       "      <th>commentCount</th>\n",
       "      <th>commentScore</th>\n",
       "      <th>districtName</th>\n",
       "      <th>zoneName</th>\n",
       "      <th>distanceStr</th>\n",
       "      <th>coverImageUrl</th>\n",
       "      <th>openStatus</th>\n",
       "      <th>latitude</th>\n",
       "      <th>longitude</th>\n",
       "      <th>detailUrl</th>\n",
       "    </tr>\n",
       "  </thead>\n",
       "  <tbody>\n",
       "    <tr>\n",
       "      <th>0</th>\n",
       "      <td>134029217</td>\n",
       "      <td>史努比乐园</td>\n",
       "      <td>315</td>\n",
       "      <td>4.7</td>\n",
       "      <td>济州市</td>\n",
       "      <td>城山日出峰/表善面</td>\n",
       "      <td>距市中心23.3km</td>\n",
       "      <td>https://dimg04.c-ctrip.com/images/1lo0j12000fm...</td>\n",
       "      <td>18:00闭园</td>\n",
       "      <td>33.444196</td>\n",
       "      <td>126.778305</td>\n",
       "      <td>https://you.ctrip.com/sight/jeju1446512/134029...</td>\n",
       "    </tr>\n",
       "    <tr>\n",
       "      <th>1</th>\n",
       "      <td>81803</td>\n",
       "      <td>牛岛</td>\n",
       "      <td>1379</td>\n",
       "      <td>4.7</td>\n",
       "      <td>济州市</td>\n",
       "      <td>城山日出峰/表善面</td>\n",
       "      <td>距市中心38.8km</td>\n",
       "      <td>https://dimg04.c-ctrip.com/images/100w1f000001...</td>\n",
       "      <td>NaN</td>\n",
       "      <td>33.504298</td>\n",
       "      <td>126.954048</td>\n",
       "      <td>https://you.ctrip.com/sight/jeju1446512/25765....</td>\n",
       "    </tr>\n",
       "    <tr>\n",
       "      <th>2</th>\n",
       "      <td>10759495</td>\n",
       "      <td>乱打秀(济州剧场)</td>\n",
       "      <td>633</td>\n",
       "      <td>4.7</td>\n",
       "      <td>济州市</td>\n",
       "      <td>东门市场/济州市政府</td>\n",
       "      <td>距市中心6.0km</td>\n",
       "      <td>https://dimg04.c-ctrip.com/images/0101e12000as...</td>\n",
       "      <td>16:30开园</td>\n",
       "      <td>33.445597</td>\n",
       "      <td>126.547558</td>\n",
       "      <td>https://you.ctrip.com/sight/jeju1446512/140813...</td>\n",
       "    </tr>\n",
       "    <tr>\n",
       "      <th>3</th>\n",
       "      <td>131170473</td>\n",
       "      <td>ARTE全沉浸式美术馆-韩国济州</td>\n",
       "      <td>355</td>\n",
       "      <td>4.8</td>\n",
       "      <td>济州市</td>\n",
       "      <td>涯月邑</td>\n",
       "      <td>距市中心21.1km</td>\n",
       "      <td>https://dimg04.c-ctrip.com/images/0100612000f6...</td>\n",
       "      <td>NaN</td>\n",
       "      <td>33.396475</td>\n",
       "      <td>126.344614</td>\n",
       "      <td>https://you.ctrip.com/sight/jeju1446512/571893...</td>\n",
       "    </tr>\n",
       "    <tr>\n",
       "      <th>4</th>\n",
       "      <td>23909829</td>\n",
       "      <td>济州Ecoland生态主题乐园</td>\n",
       "      <td>400</td>\n",
       "      <td>4.5</td>\n",
       "      <td>济州市</td>\n",
       "      <td>咸德/朝天/旧左</td>\n",
       "      <td>距市中心13.2km</td>\n",
       "      <td>https://dimg04.c-ctrip.com/images/100f1f000001...</td>\n",
       "      <td>17:00闭园</td>\n",
       "      <td>33.455530</td>\n",
       "      <td>126.668187</td>\n",
       "      <td>https://you.ctrip.com/sight/jeju1446512/178942...</td>\n",
       "    </tr>\n",
       "    <tr>\n",
       "      <th>...</th>\n",
       "      <td>...</td>\n",
       "      <td>...</td>\n",
       "      <td>...</td>\n",
       "      <td>...</td>\n",
       "      <td>...</td>\n",
       "      <td>...</td>\n",
       "      <td>...</td>\n",
       "      <td>...</td>\n",
       "      <td>...</td>\n",
       "      <td>...</td>\n",
       "      <td>...</td>\n",
       "      <td>...</td>\n",
       "    </tr>\n",
       "    <tr>\n",
       "      <th>2995</th>\n",
       "      <td>136837021</td>\n",
       "      <td>5·18 현황조각 및 추모승화공간</td>\n",
       "      <td>0</td>\n",
       "      <td>0.0</td>\n",
       "      <td>光州</td>\n",
       "      <td>NaN</td>\n",
       "      <td>NaN</td>\n",
       "      <td>https://dimg04.c-ctrip.com/images/fd/tg/g2/M02...</td>\n",
       "      <td>NaN</td>\n",
       "      <td>35.157393</td>\n",
       "      <td>126.857818</td>\n",
       "      <td>https://you.ctrip.com/sight/gwangju433/1368370...</td>\n",
       "    </tr>\n",
       "    <tr>\n",
       "      <th>2996</th>\n",
       "      <td>136837051</td>\n",
       "      <td>염색장 정관채 전수교육관</td>\n",
       "      <td>0</td>\n",
       "      <td>0.0</td>\n",
       "      <td>罗州市</td>\n",
       "      <td>NaN</td>\n",
       "      <td>NaN</td>\n",
       "      <td>https://dimg04.c-ctrip.com/images/fd/tg/g1/M08...</td>\n",
       "      <td>18:00闭园</td>\n",
       "      <td>34.997241</td>\n",
       "      <td>126.634259</td>\n",
       "      <td>https://you.ctrip.com/sight/najusi1595529/1368...</td>\n",
       "    </tr>\n",
       "    <tr>\n",
       "      <th>2997</th>\n",
       "      <td>136837167</td>\n",
       "      <td>구례관광특구</td>\n",
       "      <td>0</td>\n",
       "      <td>0.0</td>\n",
       "      <td>求礼郡</td>\n",
       "      <td>NaN</td>\n",
       "      <td>NaN</td>\n",
       "      <td>https://dimg04.c-ctrip.com/images/fd/tg/g1/M06...</td>\n",
       "      <td>NaN</td>\n",
       "      <td>35.202857</td>\n",
       "      <td>127.526397</td>\n",
       "      <td>https://you.ctrip.com/sight/gurye120565/136837...</td>\n",
       "    </tr>\n",
       "    <tr>\n",
       "      <th>2998</th>\n",
       "      <td>136837224</td>\n",
       "      <td>Han Hee Won Art Museum</td>\n",
       "      <td>0</td>\n",
       "      <td>0.0</td>\n",
       "      <td>光州</td>\n",
       "      <td>NaN</td>\n",
       "      <td>NaN</td>\n",
       "      <td>https://dimg04.c-ctrip.com/images/fd/tg/g1/M06...</td>\n",
       "      <td>NaN</td>\n",
       "      <td>35.141078</td>\n",
       "      <td>126.914141</td>\n",
       "      <td>https://you.ctrip.com/sight/gwangju433/1368372...</td>\n",
       "    </tr>\n",
       "    <tr>\n",
       "      <th>2999</th>\n",
       "      <td>136837529</td>\n",
       "      <td>한국농어촌공사 새만금33센터</td>\n",
       "      <td>0</td>\n",
       "      <td>0.0</td>\n",
       "      <td>群山</td>\n",
       "      <td>NaN</td>\n",
       "      <td>NaN</td>\n",
       "      <td>https://dimg04.c-ctrip.com/images/fd/tg/g1/M06...</td>\n",
       "      <td>NaN</td>\n",
       "      <td>35.813221</td>\n",
       "      <td>126.481010</td>\n",
       "      <td>https://you.ctrip.com/sight/gunsan14766/136837...</td>\n",
       "    </tr>\n",
       "  </tbody>\n",
       "</table>\n",
       "<p>3000 rows × 12 columns</p>\n",
       "</div>"
      ],
      "text/plain": [
       "          poiId                 poiName  commentCount  commentScore  \\\n",
       "0     134029217                   史努比乐园           315           4.7   \n",
       "1         81803                      牛岛          1379           4.7   \n",
       "2      10759495               乱打秀(济州剧场)           633           4.7   \n",
       "3     131170473        ARTE全沉浸式美术馆-韩国济州           355           4.8   \n",
       "4      23909829         济州Ecoland生态主题乐园           400           4.5   \n",
       "...         ...                     ...           ...           ...   \n",
       "2995  136837021      5·18 현황조각 및 추모승화공간             0           0.0   \n",
       "2996  136837051           염색장 정관채 전수교육관             0           0.0   \n",
       "2997  136837167                  구례관광특구             0           0.0   \n",
       "2998  136837224  Han Hee Won Art Museum             0           0.0   \n",
       "2999  136837529         한국농어촌공사 새만금33센터             0           0.0   \n",
       "\n",
       "     districtName    zoneName distanceStr  \\\n",
       "0             济州市   城山日出峰/表善面  距市中心23.3km   \n",
       "1             济州市   城山日出峰/表善面  距市中心38.8km   \n",
       "2             济州市  东门市场/济州市政府   距市中心6.0km   \n",
       "3             济州市         涯月邑  距市中心21.1km   \n",
       "4             济州市    咸德/朝天/旧左  距市中心13.2km   \n",
       "...           ...         ...         ...   \n",
       "2995           光州         NaN         NaN   \n",
       "2996          罗州市         NaN         NaN   \n",
       "2997          求礼郡         NaN         NaN   \n",
       "2998           光州         NaN         NaN   \n",
       "2999           群山         NaN         NaN   \n",
       "\n",
       "                                          coverImageUrl openStatus   latitude  \\\n",
       "0     https://dimg04.c-ctrip.com/images/1lo0j12000fm...    18:00闭园  33.444196   \n",
       "1     https://dimg04.c-ctrip.com/images/100w1f000001...        NaN  33.504298   \n",
       "2     https://dimg04.c-ctrip.com/images/0101e12000as...    16:30开园  33.445597   \n",
       "3     https://dimg04.c-ctrip.com/images/0100612000f6...        NaN  33.396475   \n",
       "4     https://dimg04.c-ctrip.com/images/100f1f000001...    17:00闭园  33.455530   \n",
       "...                                                 ...        ...        ...   \n",
       "2995  https://dimg04.c-ctrip.com/images/fd/tg/g2/M02...        NaN  35.157393   \n",
       "2996  https://dimg04.c-ctrip.com/images/fd/tg/g1/M08...    18:00闭园  34.997241   \n",
       "2997  https://dimg04.c-ctrip.com/images/fd/tg/g1/M06...        NaN  35.202857   \n",
       "2998  https://dimg04.c-ctrip.com/images/fd/tg/g1/M06...        NaN  35.141078   \n",
       "2999  https://dimg04.c-ctrip.com/images/fd/tg/g1/M06...        NaN  35.813221   \n",
       "\n",
       "       longitude                                          detailUrl  \n",
       "0     126.778305  https://you.ctrip.com/sight/jeju1446512/134029...  \n",
       "1     126.954048  https://you.ctrip.com/sight/jeju1446512/25765....  \n",
       "2     126.547558  https://you.ctrip.com/sight/jeju1446512/140813...  \n",
       "3     126.344614  https://you.ctrip.com/sight/jeju1446512/571893...  \n",
       "4     126.668187  https://you.ctrip.com/sight/jeju1446512/178942...  \n",
       "...          ...                                                ...  \n",
       "2995  126.857818  https://you.ctrip.com/sight/gwangju433/1368370...  \n",
       "2996  126.634259  https://you.ctrip.com/sight/najusi1595529/1368...  \n",
       "2997  127.526397  https://you.ctrip.com/sight/gurye120565/136837...  \n",
       "2998  126.914141  https://you.ctrip.com/sight/gwangju433/1368372...  \n",
       "2999  126.481010  https://you.ctrip.com/sight/gunsan14766/136837...  \n",
       "\n",
       "[3000 rows x 12 columns]"
      ]
     },
     "execution_count": 3,
     "metadata": {},
     "output_type": "execute_result"
    }
   ],
   "source": [
    "df\n",
    "# df[\"poiName\"].to_dict()"
   ]
  },
  {
   "cell_type": "code",
   "execution_count": 7,
   "metadata": {},
   "outputs": [
    {
     "name": "stdout",
     "output_type": "stream",
     "text": [
      "<class 'pandas.core.frame.DataFrame'>\n",
      "RangeIndex: 3000 entries, 0 to 2999\n",
      "Data columns (total 12 columns):\n",
      " #   Column         Non-Null Count  Dtype  \n",
      "---  ------         --------------  -----  \n",
      " 0   poiId          3000 non-null   int64  \n",
      " 1   poiName        3000 non-null   object \n",
      " 2   commentCount   3000 non-null   int64  \n",
      " 3   commentScore   3000 non-null   float64\n",
      " 4   districtName   3000 non-null   object \n",
      " 5   zoneName       1326 non-null   object \n",
      " 6   distanceStr    1255 non-null   object \n",
      " 7   coverImageUrl  3000 non-null   object \n",
      " 8   openStatus     543 non-null    object \n",
      " 9   latitude       3000 non-null   float64\n",
      " 10  longitude      3000 non-null   float64\n",
      " 11  detailUrl      3000 non-null   object \n",
      "dtypes: float64(3), int64(2), object(7)\n",
      "memory usage: 281.4+ KB\n"
     ]
    }
   ],
   "source": [
    "df.info()"
   ]
  },
  {
   "cell_type": "code",
   "execution_count": 9,
   "metadata": {},
   "outputs": [
    {
     "name": "stdout",
     "output_type": "stream",
     "text": [
      "'poi_data' 테이블이 'poi_database.db' 데이터베이스에 성공적으로 저장되었습니다.\n"
     ]
    }
   ],
   "source": [
    "# 데이터베이스 설정\n",
    "db_name = 'poi_database.db'\n",
    "table_name = 'poi_data'\n",
    "columns_to_translate = ['poiName', 'districtName', 'zoneName', 'distanceStr']\n",
    "\n",
    "# SQLite 데이터베이스 연결 및 테이블 저장\n",
    "conn = sqlite3.connect(db_name)\n",
    "try:\n",
    "    # 데이터프레임을 SQLite 테이블에 저장\n",
    "    # if_exists 파라미터 : 'replace' - 이미 있으면 삭제 후 새로 생성, 'append' - 이미 있으면 데이터만 추가, fail - 이미 있으면 오류 발생\n",
    "    df.to_sql(table_name, conn, if_exists='replace', index=False)\n",
    "    print(f\"'{table_name}' 테이블이 '{db_name}' 데이터베이스에 성공적으로 저장되었습니다.\")\n",
    "except Exception as e:\n",
    "    print(f\"DB 저장 에러 발생: {e}\")\n",
    "finally:\n",
    "    conn.close()"
   ]
  },
  {
   "cell_type": "code",
   "execution_count": 13,
   "metadata": {},
   "outputs": [
    {
     "name": "stdout",
     "output_type": "stream",
     "text": [
      "          poiId                 poiName  commentCount  commentScore  \\\n",
      "0     134029217                   史努比乐园           315           4.7   \n",
      "1         81803                      牛岛          1379           4.7   \n",
      "2      10759495               乱打秀(济州剧场)           633           4.7   \n",
      "3     131170473        ARTE全沉浸式美术馆-韩国济州           355           4.8   \n",
      "4      23909829         济州Ecoland生态主题乐园           400           4.5   \n",
      "...         ...                     ...           ...           ...   \n",
      "2995  136837021      5·18 현황조각 및 추모승화공간             0           0.0   \n",
      "2996  136837051           염색장 정관채 전수교육관             0           0.0   \n",
      "2997  136837167                  구례관광특구             0           0.0   \n",
      "2998  136837224  Han Hee Won Art Museum             0           0.0   \n",
      "2999  136837529         한국농어촌공사 새만금33센터             0           0.0   \n",
      "\n",
      "     districtName    zoneName distanceStr  \\\n",
      "0             济州市   城山日出峰/表善面  距市中心23.3km   \n",
      "1             济州市   城山日出峰/表善面  距市中心38.8km   \n",
      "2             济州市  东门市场/济州市政府   距市中心6.0km   \n",
      "3             济州市         涯月邑  距市中心21.1km   \n",
      "4             济州市    咸德/朝天/旧左  距市中心13.2km   \n",
      "...           ...         ...         ...   \n",
      "2995           光州        None        None   \n",
      "2996          罗州市        None        None   \n",
      "2997          求礼郡        None        None   \n",
      "2998           光州        None        None   \n",
      "2999           群山        None        None   \n",
      "\n",
      "                                          coverImageUrl openStatus   latitude  \\\n",
      "0     https://dimg04.c-ctrip.com/images/1lo0j12000fm...    18:00闭园  33.444196   \n",
      "1     https://dimg04.c-ctrip.com/images/100w1f000001...       None  33.504298   \n",
      "2     https://dimg04.c-ctrip.com/images/0101e12000as...    16:30开园  33.445597   \n",
      "3     https://dimg04.c-ctrip.com/images/0100612000f6...       None  33.396475   \n",
      "4     https://dimg04.c-ctrip.com/images/100f1f000001...    17:00闭园  33.455530   \n",
      "...                                                 ...        ...        ...   \n",
      "2995  https://dimg04.c-ctrip.com/images/fd/tg/g2/M02...       None  35.157393   \n",
      "2996  https://dimg04.c-ctrip.com/images/fd/tg/g1/M08...    18:00闭园  34.997241   \n",
      "2997  https://dimg04.c-ctrip.com/images/fd/tg/g1/M06...       None  35.202857   \n",
      "2998  https://dimg04.c-ctrip.com/images/fd/tg/g1/M06...       None  35.141078   \n",
      "2999  https://dimg04.c-ctrip.com/images/fd/tg/g1/M06...       None  35.813221   \n",
      "\n",
      "       longitude                                          detailUrl  \n",
      "0     126.778305  https://you.ctrip.com/sight/jeju1446512/134029...  \n",
      "1     126.954048  https://you.ctrip.com/sight/jeju1446512/25765....  \n",
      "2     126.547558  https://you.ctrip.com/sight/jeju1446512/140813...  \n",
      "3     126.344614  https://you.ctrip.com/sight/jeju1446512/571893...  \n",
      "4     126.668187  https://you.ctrip.com/sight/jeju1446512/178942...  \n",
      "...          ...                                                ...  \n",
      "2995  126.857818  https://you.ctrip.com/sight/gwangju433/1368370...  \n",
      "2996  126.634259  https://you.ctrip.com/sight/najusi1595529/1368...  \n",
      "2997  127.526397  https://you.ctrip.com/sight/gurye120565/136837...  \n",
      "2998  126.914141  https://you.ctrip.com/sight/gwangju433/1368372...  \n",
      "2999  126.481010  https://you.ctrip.com/sight/gunsan14766/136837...  \n",
      "\n",
      "[3000 rows x 12 columns]\n"
     ]
    }
   ],
   "source": [
    "# SQLite DB에서 dataframe으로 불러오기\n",
    "conn = sqlite3.connect(db_name)\n",
    "try:\n",
    "    df_read = pd.read_sql_query(\"SELECT * FROM poi_data\", conn)\n",
    "    print(df_read)\n",
    "except Exception as e:\n",
    "    print(f\"dataframe으로 불러오기 에러 발생: {e}\")\n",
    "finally:\n",
    "    conn.close()"
   ]
  },
  {
   "cell_type": "markdown",
   "metadata": {},
   "source": [
    "### ENV - OpenAI 클라이언트 초기화 : colab"
   ]
  },
  {
   "cell_type": "code",
   "execution_count": null,
   "metadata": {
    "id": "w94Z-EVrIDjt"
   },
   "outputs": [],
   "source": [
    "# from google.colab import userdata\n",
    "# OPENAI_API_KEY = userdata.get('OPENAI_API_KEY')\n",
    "\n",
    "# OpenAI 클라이언트 초기화\n",
    "client = OpenAI()\n",
    "# client = OpenAI(api_key=OPENAI_API_KEY)\n",
    "client"
   ]
  },
  {
   "cell_type": "markdown",
   "metadata": {},
   "source": [
    "### ENV - OpenAI 클라이언트 초기화 : jupyter notebook"
   ]
  },
  {
   "cell_type": "code",
   "execution_count": 25,
   "metadata": {},
   "outputs": [
    {
     "name": "stdout",
     "output_type": "stream",
     "text": [
      "The history saving thread hit an unexpected error (OperationalError('attempt to write a readonly database')).History will not be written to the database.\n"
     ]
    },
    {
     "data": {
      "text/plain": [
       "<openai.OpenAI at 0x12fd67220>"
      ]
     },
     "execution_count": 25,
     "metadata": {},
     "output_type": "execute_result"
    }
   ],
   "source": [
    "OPENAI_API_KEY = 'MY_KEY'\n",
    "# OpenAI 클라이언트 초기화\n",
    "client = OpenAI(api_key=OPENAI_API_KEY)\n",
    "client"
   ]
  },
  {
   "cell_type": "markdown",
   "metadata": {},
   "source": [
    "### Func : 데이터베이스에 _ko 컬럼 추가"
   ]
  },
  {
   "cell_type": "code",
   "execution_count": 16,
   "metadata": {
    "id": "SZcKj-4VNzMO"
   },
   "outputs": [],
   "source": [
    "def add_translation_columns():\n",
    "    conn = sqlite3.connect(db_name)\n",
    "    cur = conn.cursor()\n",
    "    \n",
    "    # 테이블 정보 조회\n",
    "    cur.execute(f\"PRAGMA table_info({table_name})\")\n",
    "    existing_columns = [row[1] for row in cur.fetchall()]\n",
    "\n",
    "    # 필요한 _ko 컬럼 추가\n",
    "    for col in columns_to_translate:\n",
    "        translated_col = f\"{col}_ko\"\n",
    "        if translated_col not in existing_columns:\n",
    "            alter_query = f\"ALTER TABLE {table_name} ADD COLUMN {translated_col} TEXT\"\n",
    "            cur.execute(alter_query)\n",
    "            print(f\"{translated_col} 컬럼 추가 완료.\")\n",
    "\n",
    "    conn.commit()\n",
    "    conn.close()"
   ]
  },
  {
   "cell_type": "markdown",
   "metadata": {},
   "source": [
    "### Func : 번역. 1행씩 처리"
   ]
  },
  {
   "cell_type": "code",
   "execution_count": 17,
   "metadata": {},
   "outputs": [],
   "source": [
    "def translate_and_update(row):\n",
    "    try:\n",
    "        # 번역할 텍스트를 json 형태로 구성 (NULL이 아닌 경우만)\n",
    "        to_translate = {col: row[col] for col in columns_to_translate if pd.notna(row[col])}\n",
    "\n",
    "        if not to_translate:\n",
    "            return\n",
    "\n",
    "        # API 요청\n",
    "        completion = client.chat.completions.create(\n",
    "            model=\"gpt-4o-mini\",\n",
    "            messages=[\n",
    "                {\n",
    "                    \"role\": \"user\",\n",
    "                    \"content\": f\"Translate the following Chinese place names to Korean. Return the result as JSON with each key suffixed by '_ko': {json.dumps(to_translate, ensure_ascii=False)}\"\n",
    "                }\n",
    "            ],\n",
    "            max_tokens=300,\n",
    "            temperature=0.7\n",
    "        )\n",
    "\n",
    "        # 마크다운 제거 및 JSON 파싱\n",
    "        response_text = completion.choices[0].message.content.strip()\n",
    "\n",
    "        if response_text.startswith(\"```json\"):\n",
    "            response_text = response_text.replace(\"```json\", \"\").replace(\"```\", \"\").strip()\n",
    "\n",
    "        # JSON 파싱\n",
    "        response_json = json.loads(response_text)\n",
    "\n",
    "        # 번역된 데이터베이스 업데이트\n",
    "        update_query = f\"\"\"\n",
    "        UPDATE {table_name}\n",
    "        SET {', '.join([f\"{key} = ?\" for key in response_json.keys()])}\n",
    "        WHERE poiId = ?\n",
    "        \"\"\"\n",
    "        values = list(response_json.values()) + [row['poiId']]\n",
    "\n",
    "        conn = sqlite3.connect(db_name)\n",
    "        cur = conn.cursor()\n",
    "        cur.execute(update_query, values)\n",
    "        conn.commit()\n",
    "        conn.close()\n",
    "\n",
    "        print(f\"poiId {row['poiId']} 업데이트 완료.\")\n",
    "\n",
    "    except Exception as e:\n",
    "        print(f\"Error at poiId {row['poiId']}: {e}\")"
   ]
  },
  {
   "cell_type": "markdown",
   "metadata": {},
   "source": [
    "### RUN : 데이터베이스에 필요한 컬럼 추가"
   ]
  },
  {
   "cell_type": "code",
   "execution_count": 18,
   "metadata": {},
   "outputs": [
    {
     "name": "stdout",
     "output_type": "stream",
     "text": [
      "poiName_ko 컬럼 추가 완료.\n",
      "districtName_ko 컬럼 추가 완료.\n",
      "zoneName_ko 컬럼 추가 완료.\n",
      "distanceStr_ko 컬럼 추가 완료.\n"
     ]
    }
   ],
   "source": [
    "add_translation_columns()"
   ]
  },
  {
   "cell_type": "markdown",
   "metadata": {},
   "source": [
    "### RUN : 데이터베이스 연결 후 번역이 필요한 데이터 불러오기"
   ]
  },
  {
   "cell_type": "code",
   "execution_count": 20,
   "metadata": {},
   "outputs": [
    {
     "name": "stdout",
     "output_type": "stream",
     "text": [
      "poiId 134029217 업데이트 완료.\n",
      "poiId 81803 업데이트 완료.\n",
      "poiId 10759495 업데이트 완료.\n",
      "poiId 131170473 업데이트 완료.\n",
      "poiId 23909829 업데이트 완료.\n",
      "모든 행 업데이트 완료.\n"
     ]
    }
   ],
   "source": [
    "conn = sqlite3.connect(db_name)\n",
    "query = f\"\"\"\n",
    "SELECT * FROM {table_name}\n",
    "WHERE zoneName_ko IS NULL OR distanceStr_ko IS NULL LIMIT 5\n",
    "\"\"\"\n",
    "df = pd.read_sql(query, conn)\n",
    "conn.close()\n",
    "\n",
    "# 번역 및 업데이트 수행\n",
    "df.apply(lambda row: translate_and_update(row), axis=1)\n",
    "\n",
    "print(\"모든 행 업데이트 완료.\")"
   ]
  },
  {
   "cell_type": "markdown",
   "metadata": {},
   "source": [
    "### Check : 번역된 데이터 확인"
   ]
  },
  {
   "cell_type": "code",
   "execution_count": 22,
   "metadata": {},
   "outputs": [
    {
     "data": {
      "text/html": [
       "<div>\n",
       "<style scoped>\n",
       "    .dataframe tbody tr th:only-of-type {\n",
       "        vertical-align: middle;\n",
       "    }\n",
       "\n",
       "    .dataframe tbody tr th {\n",
       "        vertical-align: top;\n",
       "    }\n",
       "\n",
       "    .dataframe thead th {\n",
       "        text-align: right;\n",
       "    }\n",
       "</style>\n",
       "<table border=\"1\" class=\"dataframe\">\n",
       "  <thead>\n",
       "    <tr style=\"text-align: right;\">\n",
       "      <th></th>\n",
       "      <th>poiId</th>\n",
       "      <th>poiName</th>\n",
       "      <th>commentCount</th>\n",
       "      <th>commentScore</th>\n",
       "      <th>districtName</th>\n",
       "      <th>zoneName</th>\n",
       "      <th>distanceStr</th>\n",
       "      <th>coverImageUrl</th>\n",
       "      <th>openStatus</th>\n",
       "      <th>latitude</th>\n",
       "      <th>longitude</th>\n",
       "      <th>detailUrl</th>\n",
       "      <th>poiName_ko</th>\n",
       "      <th>districtName_ko</th>\n",
       "      <th>zoneName_ko</th>\n",
       "      <th>distanceStr_ko</th>\n",
       "    </tr>\n",
       "  </thead>\n",
       "  <tbody>\n",
       "    <tr>\n",
       "      <th>0</th>\n",
       "      <td>134029217</td>\n",
       "      <td>史努比乐园</td>\n",
       "      <td>315</td>\n",
       "      <td>4.7</td>\n",
       "      <td>济州市</td>\n",
       "      <td>城山日出峰/表善面</td>\n",
       "      <td>距市中心23.3km</td>\n",
       "      <td>https://dimg04.c-ctrip.com/images/1lo0j12000fm...</td>\n",
       "      <td>18:00闭园</td>\n",
       "      <td>33.444196</td>\n",
       "      <td>126.778305</td>\n",
       "      <td>https://you.ctrip.com/sight/jeju1446512/134029...</td>\n",
       "      <td>스누피랜드</td>\n",
       "      <td>제주 시</td>\n",
       "      <td>성산일출봉/표선면</td>\n",
       "      <td>시내 중심에서 23.3km</td>\n",
       "    </tr>\n",
       "    <tr>\n",
       "      <th>1</th>\n",
       "      <td>81803</td>\n",
       "      <td>牛岛</td>\n",
       "      <td>1379</td>\n",
       "      <td>4.7</td>\n",
       "      <td>济州市</td>\n",
       "      <td>城山日出峰/表善面</td>\n",
       "      <td>距市中心38.8km</td>\n",
       "      <td>https://dimg04.c-ctrip.com/images/100w1f000001...</td>\n",
       "      <td>None</td>\n",
       "      <td>33.504298</td>\n",
       "      <td>126.954048</td>\n",
       "      <td>https://you.ctrip.com/sight/jeju1446512/25765....</td>\n",
       "      <td>우도</td>\n",
       "      <td>제주시</td>\n",
       "      <td>성산일출봉/표선면</td>\n",
       "      <td>시내 중심가에서 38.8km 거리</td>\n",
       "    </tr>\n",
       "    <tr>\n",
       "      <th>2</th>\n",
       "      <td>10759495</td>\n",
       "      <td>乱打秀(济州剧场)</td>\n",
       "      <td>633</td>\n",
       "      <td>4.7</td>\n",
       "      <td>济州市</td>\n",
       "      <td>东门市场/济州市政府</td>\n",
       "      <td>距市中心6.0km</td>\n",
       "      <td>https://dimg04.c-ctrip.com/images/0101e12000as...</td>\n",
       "      <td>16:30开园</td>\n",
       "      <td>33.445597</td>\n",
       "      <td>126.547558</td>\n",
       "      <td>https://you.ctrip.com/sight/jeju1446512/140813...</td>\n",
       "      <td>난타쇼(제주극장)</td>\n",
       "      <td>제주시</td>\n",
       "      <td>동문시장/제주시청</td>\n",
       "      <td>시내 중심에서 6.0km</td>\n",
       "    </tr>\n",
       "    <tr>\n",
       "      <th>3</th>\n",
       "      <td>131170473</td>\n",
       "      <td>ARTE全沉浸式美术馆-韩国济州</td>\n",
       "      <td>355</td>\n",
       "      <td>4.8</td>\n",
       "      <td>济州市</td>\n",
       "      <td>涯月邑</td>\n",
       "      <td>距市中心21.1km</td>\n",
       "      <td>https://dimg04.c-ctrip.com/images/0100612000f6...</td>\n",
       "      <td>None</td>\n",
       "      <td>33.396475</td>\n",
       "      <td>126.344614</td>\n",
       "      <td>https://you.ctrip.com/sight/jeju1446512/571893...</td>\n",
       "      <td>ARTE 전immersive 미술관 - 한국 제주</td>\n",
       "      <td>제주시</td>\n",
       "      <td>아월읍</td>\n",
       "      <td>시내 중심에서 21.1km</td>\n",
       "    </tr>\n",
       "    <tr>\n",
       "      <th>4</th>\n",
       "      <td>23909829</td>\n",
       "      <td>济州Ecoland生态主题乐园</td>\n",
       "      <td>400</td>\n",
       "      <td>4.5</td>\n",
       "      <td>济州市</td>\n",
       "      <td>咸德/朝天/旧左</td>\n",
       "      <td>距市中心13.2km</td>\n",
       "      <td>https://dimg04.c-ctrip.com/images/100f1f000001...</td>\n",
       "      <td>17:00闭园</td>\n",
       "      <td>33.455530</td>\n",
       "      <td>126.668187</td>\n",
       "      <td>https://you.ctrip.com/sight/jeju1446512/178942...</td>\n",
       "      <td>제주 에코랜드 생태 테마파크</td>\n",
       "      <td>제주 시</td>\n",
       "      <td>함덕/조천/구좌</td>\n",
       "      <td>시 중심에서 13.2km</td>\n",
       "    </tr>\n",
       "  </tbody>\n",
       "</table>\n",
       "</div>"
      ],
      "text/plain": [
       "       poiId           poiName  commentCount  commentScore districtName  \\\n",
       "0  134029217             史努比乐园           315           4.7          济州市   \n",
       "1      81803                牛岛          1379           4.7          济州市   \n",
       "2   10759495         乱打秀(济州剧场)           633           4.7          济州市   \n",
       "3  131170473  ARTE全沉浸式美术馆-韩国济州           355           4.8          济州市   \n",
       "4   23909829   济州Ecoland生态主题乐园           400           4.5          济州市   \n",
       "\n",
       "     zoneName distanceStr                                      coverImageUrl  \\\n",
       "0   城山日出峰/表善面  距市中心23.3km  https://dimg04.c-ctrip.com/images/1lo0j12000fm...   \n",
       "1   城山日出峰/表善面  距市中心38.8km  https://dimg04.c-ctrip.com/images/100w1f000001...   \n",
       "2  东门市场/济州市政府   距市中心6.0km  https://dimg04.c-ctrip.com/images/0101e12000as...   \n",
       "3         涯月邑  距市中心21.1km  https://dimg04.c-ctrip.com/images/0100612000f6...   \n",
       "4    咸德/朝天/旧左  距市中心13.2km  https://dimg04.c-ctrip.com/images/100f1f000001...   \n",
       "\n",
       "  openStatus   latitude   longitude  \\\n",
       "0    18:00闭园  33.444196  126.778305   \n",
       "1       None  33.504298  126.954048   \n",
       "2    16:30开园  33.445597  126.547558   \n",
       "3       None  33.396475  126.344614   \n",
       "4    17:00闭园  33.455530  126.668187   \n",
       "\n",
       "                                           detailUrl  \\\n",
       "0  https://you.ctrip.com/sight/jeju1446512/134029...   \n",
       "1  https://you.ctrip.com/sight/jeju1446512/25765....   \n",
       "2  https://you.ctrip.com/sight/jeju1446512/140813...   \n",
       "3  https://you.ctrip.com/sight/jeju1446512/571893...   \n",
       "4  https://you.ctrip.com/sight/jeju1446512/178942...   \n",
       "\n",
       "                    poiName_ko districtName_ko zoneName_ko      distanceStr_ko  \n",
       "0                        스누피랜드            제주 시   성산일출봉/표선면      시내 중심에서 23.3km  \n",
       "1                           우도             제주시   성산일출봉/표선면  시내 중심가에서 38.8km 거리  \n",
       "2                    난타쇼(제주극장)             제주시   동문시장/제주시청       시내 중심에서 6.0km  \n",
       "3  ARTE 전immersive 미술관 - 한국 제주             제주시         아월읍      시내 중심에서 21.1km  \n",
       "4              제주 에코랜드 생태 테마파크            제주 시    함덕/조천/구좌       시 중심에서 13.2km  "
      ]
     },
     "execution_count": 22,
     "metadata": {},
     "output_type": "execute_result"
    }
   ],
   "source": [
    "conn = sqlite3.connect(db_name)\n",
    "query = f\"\"\"\n",
    "SELECT * FROM {table_name}\n",
    "WHERE zoneName_ko IS NOT NULL OR distanceStr_ko IS NOT NULL\n",
    "\"\"\"\n",
    "df_result = pd.read_sql(query, conn)\n",
    "conn.close()\n",
    "\n",
    "df_result"
   ]
  },
  {
   "cell_type": "markdown",
   "metadata": {},
   "source": [
    "### Convert : df2csv, df2xlsx (Colab)"
   ]
  },
  {
   "cell_type": "code",
   "execution_count": null,
   "metadata": {},
   "outputs": [],
   "source": [
    "# prompt: 위 df 엑셀, csv 파일로 저장할 것 파일 이름은 ctrip_jeju 로 할 것\n",
    "\n",
    "df_result.to_csv('ctrip_jeju.csv')\n",
    "files.download('ctrip_jeju.csv')\n",
    "\n",
    "df_result.to_excel('ctrip_jeju.xlsx')\n",
    "files.download('ctrip_jeju.xlsx')"
   ]
  },
  {
   "cell_type": "markdown",
   "metadata": {},
   "source": [
    "### Convert : df2csv, df2xlsx (jupyter notebook)"
   ]
  },
  {
   "cell_type": "code",
   "execution_count": 23,
   "metadata": {
    "id": "y75ghG8jJemx"
   },
   "outputs": [],
   "source": [
    "df_result.to_csv('ctrip_jeju.csv')\n",
    "\n",
    "df_result.to_excel('ctrip_jeju.xlsx')"
   ]
  },
  {
   "cell_type": "markdown",
   "metadata": {},
   "source": [
    "### Check : 한글 컬럼 확인"
   ]
  },
  {
   "cell_type": "code",
   "execution_count": 24,
   "metadata": {
    "id": "Sk1wkObhIdFO"
   },
   "outputs": [
    {
     "data": {
      "text/plain": [
       "0                          스누피랜드\n",
       "1                             우도\n",
       "2                      난타쇼(제주극장)\n",
       "3    ARTE 전immersive 미술관 - 한국 제주\n",
       "4                제주 에코랜드 생태 테마파크\n",
       "Name: poiName_ko, dtype: object"
      ]
     },
     "execution_count": 24,
     "metadata": {},
     "output_type": "execute_result"
    }
   ],
   "source": [
    "df_result['poiName_ko']"
   ]
  }
 ],
 "metadata": {
  "colab": {
   "private_outputs": true,
   "provenance": []
  },
  "kernelspec": {
   "display_name": "Python 3 (ipykernel)",
   "language": "python",
   "name": "python3"
  },
  "language_info": {
   "codemirror_mode": {
    "name": "ipython",
    "version": 3
   },
   "file_extension": ".py",
   "mimetype": "text/x-python",
   "name": "python",
   "nbconvert_exporter": "python",
   "pygments_lexer": "ipython3",
   "version": "3.10.13"
  }
 },
 "nbformat": 4,
 "nbformat_minor": 4
}
