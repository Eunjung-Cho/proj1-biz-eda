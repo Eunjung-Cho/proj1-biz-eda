{
  "nbformat": 4,
  "nbformat_minor": 0,
  "metadata": {
    "colab": {
      "provenance": []
    },
    "kernelspec": {
      "name": "python3",
      "display_name": "Python 3"
    },
    "language_info": {
      "name": "python"
    }
  },
  "cells": [
    {
      "cell_type": "markdown",
      "source": [
        "### import"
      ],
      "metadata": {
        "id": "pXeW7-Gd2RDs"
      }
    },
    {
      "cell_type": "code",
      "source": [
        "import requests\n",
        "from bs4 import BeautifulSoup\n",
        "import pandas as pd\n",
        "import time\n",
        "from datetime import datetime"
      ],
      "metadata": {
        "id": "AhUcmbeu2QBM"
      },
      "execution_count": null,
      "outputs": []
    },
    {
      "cell_type": "markdown",
      "source": [
        "### 함수 : 상품명 전처리"
      ],
      "metadata": {
        "id": "S-3acH4s2UqY"
      }
    },
    {
      "cell_type": "code",
      "source": [
        "# prompt: 파라미터로 전달되는 상품명에 대해 앞위 공백 제거 후 끝 문자가 g 또는 G 인 경우 바로 앞 공백까지 제거하여 반환하는 함수\n",
        "\n",
        "def preprocess_product_name(product_name):\n",
        "    \"\"\"\n",
        "    상품명에 대한 전처리 함수.\n",
        "\n",
        "    Args:\n",
        "        product_name: 전처리할 상품명.\n",
        "\n",
        "    Returns:\n",
        "        전처리된 상품명.\n",
        "    \"\"\"\n",
        "    product_name = product_name.strip()  # 앞뒤 공백 제거\n",
        "    if product_name and (product_name[-1] == 'g' or product_name[-1] == 'G'):\n",
        "        # 끝 문자가 g 또는 G 이면서 상품명이 비어있지 않은 경우\n",
        "        for i in range(len(product_name) - 2, -1, -1):\n",
        "            if product_name[i] == ' ':\n",
        "                product_name = product_name[:i]\n",
        "                break\n",
        "        else:\n",
        "            product_name = product_name[:-1]  # 공백 없으면 g 또는 G만 제거\n",
        "    return product_name"
      ],
      "metadata": {
        "id": "PzuGg-702W9W"
      },
      "execution_count": null,
      "outputs": []
    },
    {
      "cell_type": "markdown",
      "source": [
        "### 함수 : 상품 목록 수집"
      ],
      "metadata": {
        "id": "7crS4j3WZYJj"
      }
    },
    {
      "cell_type": "code",
      "execution_count": null,
      "metadata": {
        "id": "FHpwJ18dbh-p"
      },
      "outputs": [],
      "source": [
        "def get_product_list(get_cnt):\n",
        "    url = \"https://emart.ssg.com/disp/ajaxCategory.ssg\"\n",
        "    params = {\n",
        "        \"dispCtgId\": \"6000217707\",\n",
        "        \"sort\": \"sale\",\n",
        "        \"page\": 1\n",
        "    }\n",
        "    headers = {\n",
        "        'User-Agent': 'Mozilla/5.0 (Windows NT 10.0; Win64; x64) AppleWebKit/537.36 (KHTML, like Gecko) Chrome/120.0.0.0 Safari/537.36'\n",
        "    }\n",
        "\n",
        "    response = requests.get(url, params=params, headers=headers)\n",
        "    soup = BeautifulSoup(response.text, 'html.parser')\n",
        "\n",
        "    products = []\n",
        "    items = soup.find_all('li', class_='mnemitem_grid_item')[:get_cnt]\n",
        "\n",
        "    for item in items:\n",
        "        product_id = item.select_one('div.mnemitem_unit')['data-react-unit-id']\n",
        "        product_nm_tmp = item.select_one('span.mnemitem_goods_tit').text.strip()\n",
        "        product_name = item.find('span', class_='mnemitem_goods_tit').text.strip()\n",
        "        product_nm = preprocess_product_name(product_nm_tmp)\n",
        "        products.append({'product_id': product_id, 'product_name': product_name})\n",
        "\n",
        "    return products"
      ]
    },
    {
      "cell_type": "markdown",
      "source": [
        "### 함수 : 리뷰 수집"
      ],
      "metadata": {
        "id": "Iii7x5rC3Adi"
      }
    },
    {
      "cell_type": "code",
      "source": [
        "def get_reviews(product_id):\n",
        "    print(f\"상품 '{product_id}'의 리뷰 수집....\")\n",
        "\n",
        "    reviews = []\n",
        "    page = 1\n",
        "\n",
        "    while True:\n",
        "        url = \"https://emart.ssg.com/item/ajaxItemCommentList.ssg\"\n",
        "        params = {\n",
        "            \"itemId\": product_id,\n",
        "            \"siteNo\": \"7009\",\n",
        "            \"page\": page,\n",
        "            \"pageSize\": 10\n",
        "        }\n",
        "        headers = {\n",
        "            'User-Agent': 'Mozilla/5.0 (Macintosh; Intel Mac OS X 10_15_7) AppleWebKit/537.36 (KHTML, like Gecko) Chrome/131.0.0.0 Safari/537.36',\n",
        "            'Accept': 'text/html, */*; q=0.01',\n",
        "            'Accept-Language': 'ko-KR,ko;q=0.9,en-US;q=0.8,en;q=0.7',\n",
        "            'Referer': f'https://emart.ssg.com/item/itemView.ssg?itemId={product_id}&siteNo=7009&salestrNo=2493'\n",
        "        }\n",
        "\n",
        "        response = requests.get(url, params=params, headers=headers)\n",
        "        soup = BeautifulSoup(response.text, 'html.parser')\n",
        "\n",
        "        review_items = soup.select('li.rvw_expansion_panel.v2')\n",
        "        if not review_items:\n",
        "            print(f\"상품 '{product_id}'의 모든 리뷰를 가져왔습니다.\")\n",
        "            break\n",
        "\n",
        "        for item in review_items:\n",
        "            try:\n",
        "                rating = item.select_one('span.blind em').text\n",
        "                content = item.select_one('p.rvw_item_text').text.strip()\n",
        "                date = item.select_one('div.rvw_item_date').text.strip()\n",
        "\n",
        "                reviews.append({\n",
        "                    'rating': int(rating),\n",
        "                    'content': content,\n",
        "                    'date': date\n",
        "                })\n",
        "            except:\n",
        "                continue\n",
        "\n",
        "        page += 1\n",
        "        time.sleep(1)  # 서버 부하 방지\n",
        "\n",
        "    return reviews"
      ],
      "metadata": {
        "id": "GWPQG2XP3Bnv"
      },
      "execution_count": null,
      "outputs": []
    },
    {
      "cell_type": "markdown",
      "source": [
        "### 실행"
      ],
      "metadata": {
        "id": "jF1ugnZX2lP4"
      }
    },
    {
      "cell_type": "code",
      "source": [
        "def main():\n",
        "    # 전체 데이터를 저장할 리스트\n",
        "    all_data = []\n",
        "\n",
        "    # 상품 목록 가져오기\n",
        "    products = get_product_list(20)\n",
        "\n",
        "    rank = 1\n",
        "\n",
        "    # 각 상품별 리뷰 수집\n",
        "    for product in products:\n",
        "        product_id = product['product_id']\n",
        "        product_name = product['product_name']\n",
        "\n",
        "        print(f\"상품ID: '{product_id}', 상품명: '{product_name}' 리뷰 수집 시작\")\n",
        "\n",
        "        reviews = get_reviews(product_id)\n",
        "\n",
        "        # 각 리뷰에 상품 정보 추가\n",
        "        for review in reviews:\n",
        "            review['product_id'] = product_id\n",
        "            review['product_name'] = product_name\n",
        "            review['rank'] = rank\n",
        "            all_data.append(review)\n",
        "\n",
        "        print(f\"상품 '{product_name}' 리뷰 수집 완료 ({len(reviews)}개)\")\n",
        "        rank += 1\n",
        "        time.sleep(2)  # 서버 부하 방지를 위한 지연\n",
        "\n",
        "    # DataFrame 생성 및 CSV 저장\n",
        "    df = pd.DataFrame(all_data)\n",
        "    current_time = datetime.now().strftime(\"%Y%m%d_%H%M\")\n",
        "    df.to_csv(f'emart_reviews_{current_time}.csv', index=False, encoding='utf-8-sig')\n",
        "    print(f\"전체 {len(all_data)}개의 리뷰 수집 완료\")\n",
        "\n",
        "if __name__ == \"__main__\":\n",
        "    main()"
      ],
      "metadata": {
        "colab": {
          "base_uri": "https://localhost:8080/"
        },
        "id": "fJsVFu5t2m9i",
        "outputId": "6edd851a-7e8b-43dc-ddef-6f84ef3a51e9"
      },
      "execution_count": null,
      "outputs": [
        {
          "output_type": "stream",
          "name": "stdout",
          "text": [
            "상품ID: '1000604385774', 상품명: '송탄식 부대찌개 1.538kg' 리뷰 수집 시작\n",
            "상품 '1000604385774'의 리뷰 수집....\n",
            "상품 '1000604385774'의 모든 리뷰를 가져왔습니다.\n",
            "상품 '송탄식 부대찌개 1.538kg' 리뷰 수집 완료 (1223개)\n",
            "상품ID: '1000575098562', 상품명: '샤브샤브 요리재료 870g' 리뷰 수집 시작\n",
            "상품 '1000575098562'의 리뷰 수집....\n",
            "상품 '1000575098562'의 모든 리뷰를 가져왔습니다.\n",
            "상품 '샤브샤브 요리재료 870g' 리뷰 수집 완료 (2032개)\n",
            "상품ID: '1000595812799', 상품명: '강릉식 짬뽕순두부 밀키트 1.035 kg' 리뷰 수집 시작\n",
            "상품 '1000595812799'의 리뷰 수집....\n",
            "상품 '1000595812799'의 모든 리뷰를 가져왔습니다.\n",
            "상품 '강릉식 짬뽕순두부 밀키트 1.035 kg' 리뷰 수집 완료 (625개)\n",
            "상품ID: '1000599436903', 상품명: '햄폭탄 부대찌개 798g' 리뷰 수집 시작\n",
            "상품 '1000599436903'의 리뷰 수집....\n",
            "상품 '1000599436903'의 모든 리뷰를 가져왔습니다.\n",
            "상품 '햄폭탄 부대찌개 798g' 리뷰 수집 완료 (541개)\n",
            "상품ID: '1000049359710', 상품명: '순두부찌개 요리재료 804g' 리뷰 수집 시작\n",
            "상품 '1000049359710'의 리뷰 수집....\n",
            "상품 '1000049359710'의 모든 리뷰를 가져왔습니다.\n",
            "상품 '순두부찌개 요리재료 804g' 리뷰 수집 완료 (6475개)\n",
            "상품ID: '1000552428426', 상품명: '우삼겹 순두부찌개615g' 리뷰 수집 시작\n",
            "상품 '1000552428426'의 리뷰 수집....\n",
            "상품 '1000552428426'의 모든 리뷰를 가져왔습니다.\n",
            "상품 '우삼겹 순두부찌개615g' 리뷰 수집 완료 (4548개)\n",
            "상품ID: '1000633879761', 상품명: '[SSG ONLY] 소시지듬뿍 의정부식 부대찌개 660g' 리뷰 수집 시작\n",
            "상품 '1000633879761'의 리뷰 수집....\n",
            "상품 '1000633879761'의 모든 리뷰를 가져왔습니다.\n",
            "상품 '[SSG ONLY] 소시지듬뿍 의정부식 부대찌개 660g' 리뷰 수집 완료 (1477개)\n",
            "상품ID: '1000581051191', 상품명: '소불고기 718g' 리뷰 수집 시작\n",
            "상품 '1000581051191'의 리뷰 수집....\n",
            "상품 '1000581051191'의 모든 리뷰를 가져왔습니다.\n",
            "상품 '소불고기 718g' 리뷰 수집 완료 (471개)\n",
            "상품ID: '1000060790087', 상품명: '냉이된장찌개 밀키트' 리뷰 수집 시작\n",
            "상품 '1000060790087'의 리뷰 수집....\n",
            "상품 '1000060790087'의 모든 리뷰를 가져왔습니다.\n",
            "상품 '냉이된장찌개 밀키트' 리뷰 수집 완료 (374개)\n",
            "상품ID: '1000579627633', 상품명: '우삼겹 고깃집 된장찌개 600g' 리뷰 수집 시작\n",
            "상품 '1000579627633'의 리뷰 수집....\n",
            "상품 '1000579627633'의 모든 리뷰를 가져왔습니다.\n",
            "상품 '우삼겹 고깃집 된장찌개 600g' 리뷰 수집 완료 (296개)\n",
            "상품ID: '1000594184482', 상품명: '고기듬뿍 마라탕 985g' 리뷰 수집 시작\n",
            "상품 '1000594184482'의 리뷰 수집....\n",
            "상품 '1000594184482'의 모든 리뷰를 가져왔습니다.\n",
            "상품 '고기듬뿍 마라탕 985g' 리뷰 수집 완료 (328개)\n",
            "상품ID: '1000577671536', 상품명: '새우듬뿍 감바스 544g' 리뷰 수집 시작\n",
            "상품 '1000577671536'의 리뷰 수집....\n",
            "상품 '1000577671536'의 모든 리뷰를 가져왔습니다.\n",
            "상품 '새우듬뿍 감바스 544g' 리뷰 수집 완료 (576개)\n",
            "상품ID: '1000581571518', 상품명: '소고기 밀푀유나베 1,003g' 리뷰 수집 시작\n",
            "상품 '1000581571518'의 리뷰 수집....\n",
            "상품 '1000581571518'의 모든 리뷰를 가져왔습니다.\n",
            "상품 '소고기 밀푀유나베 1,003g' 리뷰 수집 완료 (450개)\n",
            "상품ID: '1000052494018', 상품명: '마라샹궈 408g' 리뷰 수집 시작\n",
            "상품 '1000052494018'의 리뷰 수집....\n",
            "상품 '1000052494018'의 모든 리뷰를 가져왔습니다.\n",
            "상품 '마라샹궈 408g' 리뷰 수집 완료 (1626개)\n",
            "상품ID: '1000600712078', 상품명: '유동 어부지리 새꼬막 매콤비빔 밀키트' 리뷰 수집 시작\n",
            "상품 '1000600712078'의 리뷰 수집....\n",
            "상품 '1000600712078'의 모든 리뷰를 가져왔습니다.\n",
            "상품 '유동 어부지리 새꼬막 매콤비빔 밀키트' 리뷰 수집 완료 (107개)\n",
            "상품ID: '1000580702094', 상품명: '얼큰칼칼한 소곱창전골 1.48kg' 리뷰 수집 시작\n",
            "상품 '1000580702094'의 리뷰 수집....\n",
            "상품 '1000580702094'의 모든 리뷰를 가져왔습니다.\n",
            "상품 '얼큰칼칼한 소곱창전골 1.48kg' 리뷰 수집 완료 (148개)\n",
            "상품ID: '1000604385779', 상품명: '푸짐한 대구매운탕 1.033kg' 리뷰 수집 시작\n",
            "상품 '1000604385779'의 리뷰 수집....\n",
            "상품 '1000604385779'의 모든 리뷰를 가져왔습니다.\n",
            "상품 '푸짐한 대구매운탕 1.033kg' 리뷰 수집 완료 (210개)\n",
            "상품ID: '1000604385769', 상품명: '원주식 장칼국수 607g' 리뷰 수집 시작\n",
            "상품 '1000604385769'의 리뷰 수집....\n",
            "상품 '1000604385769'의 모든 리뷰를 가져왔습니다.\n",
            "상품 '원주식 장칼국수 607g' 리뷰 수집 완료 (554개)\n",
            "상품ID: '1000642504460', 상품명: '오돌뼈볶음&주먹밥세트 770g' 리뷰 수집 시작\n",
            "상품 '1000642504460'의 리뷰 수집....\n",
            "상품 '1000642504460'의 모든 리뷰를 가져왔습니다.\n",
            "상품 '오돌뼈볶음&주먹밥세트 770g' 리뷰 수집 완료 (2개)\n",
            "상품ID: '1000634007730', 상품명: '영월식 청국장 930g' 리뷰 수집 시작\n",
            "상품 '1000634007730'의 리뷰 수집....\n",
            "상품 '1000634007730'의 모든 리뷰를 가져왔습니다.\n",
            "상품 '영월식 청국장 930g' 리뷰 수집 완료 (9개)\n",
            "전체 22072개의 리뷰 수집 완료\n"
          ]
        }
      ]
    }
  ]
}