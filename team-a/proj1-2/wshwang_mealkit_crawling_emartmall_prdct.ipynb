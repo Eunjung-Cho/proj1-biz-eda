{
  "nbformat": 4,
  "nbformat_minor": 0,
  "metadata": {
    "colab": {
      "provenance": [],
      "collapsed_sections": [
        "n0hHEXO3Z-jE",
        "0Jdr9rvgaRJO"
      ]
    },
    "kernelspec": {
      "name": "python3",
      "display_name": "Python 3"
    },
    "language_info": {
      "name": "python"
    }
  },
  "cells": [
    {
      "cell_type": "markdown",
      "source": [
        "## 설명\n",
        "* 이마트몰 밀키트 카테고리(ID: 6000217707) 에서 판매처/상품명/가격 스크래핑\n",
        "\n",
        "### Code Assist\n",
        "* python code AI assistant : claude\n",
        "\n",
        "### revision\n",
        "* 1 : 이마트몰 밀키트 카테고리에서 판매처와 상품명, 가격 스크래핑\n",
        "* 2 : 밀키트 카테고리 검색시 판매량 순으로 정렬 및 순위 지정. 한국식 음식으로 카테고리 분류\n",
        "* 3\n",
        "  * 평점, 리뷰수 수집 추가\n",
        "  * 전처리 : '판매처'명이 \"--\" 인 경우 상품명에서 추출\n",
        "  * 전처리 : 상품명에 무게를 뜻하는 'g'이 표기된 것이 많아 해당 무게값 제거"
      ],
      "metadata": {
        "id": "yoOh3fR6n1TQ"
      }
    },
    {
      "cell_type": "markdown",
      "source": [
        "### 환경 : import"
      ],
      "metadata": {
        "id": "n0hHEXO3Z-jE"
      }
    },
    {
      "cell_type": "code",
      "source": [
        "import requests\n",
        "import logging\n",
        "import time\n",
        "from datetime import datetime\n",
        "from bs4 import BeautifulSoup\n",
        "import pandas as pd"
      ],
      "metadata": {
        "id": "sdtUHlvQOG9L"
      },
      "execution_count": 1,
      "outputs": []
    },
    {
      "cell_type": "markdown",
      "source": [
        "### 환경 : 로깅 설정"
      ],
      "metadata": {
        "id": "0Jdr9rvgaRJO"
      }
    },
    {
      "cell_type": "code",
      "source": [
        "# 로깅 설정\n",
        "logging.basicConfig(\n",
        "    level=logging.INFO,\n",
        "    format='%(asctime)s - %(levelname)s: %(message)s',\n",
        "    handlers=[\n",
        "        logging.FileHandler('mealkit_emartmall_prdct_crawler.log'),\n",
        "        logging.StreamHandler()\n",
        "    ]\n",
        ")"
      ],
      "metadata": {
        "id": "GuFJKGBLaWxl"
      },
      "execution_count": 2,
      "outputs": []
    },
    {
      "cell_type": "markdown",
      "source": [
        "### 환경 : 전역 변수 선언"
      ],
      "metadata": {
        "id": "gzkbjth4a1U5"
      }
    },
    {
      "cell_type": "code",
      "source": [
        "csv_filename = 'mealkit_products_salesranked_emart.csv'"
      ],
      "metadata": {
        "id": "lPYUjVbnog48"
      },
      "execution_count": 13,
      "outputs": []
    },
    {
      "cell_type": "markdown",
      "source": [
        "### 함수 : 상품명 전처리\n",
        "* 상품명 끝에 g 또는 G 문자가 있는 경우 무게값으로 간주하여 바로 앞 공백까지 삭제"
      ],
      "metadata": {
        "id": "0kC06y_koL2c"
      }
    },
    {
      "cell_type": "code",
      "source": [
        "# prompt: 파라미터로 전달되는 상품명에 대해 앞위 공백 제거 후 끝 문자가 g 또는 G 인 경우 바로 앞 공백까지 제거하여 반환하는 함수\n",
        "\n",
        "def preprocess_product_name(product_name):\n",
        "    \"\"\"\n",
        "    상품명에 대한 전처리 함수.\n",
        "\n",
        "    Args:\n",
        "        product_name: 전처리할 상품명.\n",
        "\n",
        "    Returns:\n",
        "        전처리된 상품명.\n",
        "    \"\"\"\n",
        "    product_name = product_name.strip()  # 앞뒤 공백 제거\n",
        "    if product_name and (product_name[-1] == 'g' or product_name[-1] == 'G'):\n",
        "        # 끝 문자가 g 또는 G 이면서 상품명이 비어있지 않은 경우\n",
        "        for i in range(len(product_name) - 2, -1, -1):\n",
        "            if product_name[i] == ' ':\n",
        "                product_name = product_name[:i]\n",
        "                break\n",
        "        else:\n",
        "            product_name = product_name[:-1]  # 공백 없으면 g 또는 G만 제거\n",
        "    return product_name"
      ],
      "metadata": {
        "id": "7bi7k5Wpocn4"
      },
      "execution_count": 5,
      "outputs": []
    },
    {
      "cell_type": "markdown",
      "source": [
        "### 함수 : 상품명에 대한 한국 음식 카테고리명 반환"
      ],
      "metadata": {
        "id": "VDDs8aHOpQi8"
      }
    },
    {
      "cell_type": "code",
      "source": [
        "# prompt: 파라미터로 전달되는 상품명을 기준으로 한국식 음식으로 카테고리 분류 후 카테고리명 방환 함수\n",
        "\n",
        "def categorize_korean_food(product_name):\n",
        "    \"\"\"\n",
        "    상품명을 기준으로 한국식 음식 카테고리를 분류합니다.\n",
        "\n",
        "    Args:\n",
        "        product_name: 상품명.\n",
        "\n",
        "    Returns:\n",
        "        카테고리명 (str).\n",
        "    \"\"\"\n",
        "    product_name = product_name.lower()  # 소문자 변환으로 대소문자 구분 없이 처리\n",
        "\n",
        "    # 카테고리 분류 규칙 (예시) - 필요에 따라 추가 및 수정\n",
        "    if any(keyword in product_name for keyword in [\"쌀국수\", \"베트남식\"]):\n",
        "        return \"베트남식\"\n",
        "    elif any(keyword in product_name for keyword in [\"찌개\", \"김치찌개\", \"된장찌개\", \"부대찌개\", \"순두부찌개\"]):\n",
        "        return \"찌개류\"\n",
        "    elif any(keyword in product_name for keyword in [\"볶음밥\", \"비빔밥\", \"김밥\", \"잡채\", \"볶음\"]):\n",
        "        return \"밥/면류\"\n",
        "    elif any(keyword in product_name for keyword in [\"불고기\", \"갈비\", \"제육볶음\", \"돼지갈비\", \"닭갈비\"]):\n",
        "        return \"고기류\"\n",
        "    elif any(keyword in product_name for keyword in [\"전\", \"빈대떡\", \"파전\", \"김치전\"]):\n",
        "        return \"전류\"\n",
        "    elif any(keyword in product_name for keyword in [\"찜\", \"갈비찜\", \"닭볶음탕\"]):\n",
        "        return \"찜류\"\n",
        "    elif any(keyword in product_name for keyword in [\"국\", \"미역국\", \"된장국\", \"떡국\"]):\n",
        "        return \"국류\"\n",
        "    elif any(keyword in product_name for keyword in [\"구이\", \"삼겹살\", \"목살\"]):\n",
        "        return \"구이류\"\n",
        "    elif any(keyword in product_name for keyword in [\"닭\", \"닭볶음탕\", \"닭갈비\"]):\n",
        "        return \"닭요리\"\n",
        "    elif any(keyword in product_name for keyword in [\"해물\", \"생선\", \"회\"]):\n",
        "        return \"해물/생선류\"\n",
        "    elif any(keyword in product_name for keyword in [\"짬뽕\", \"짜장\", \"탕수육\"]):\n",
        "        return \"중식\"\n",
        "    elif any(keyword in product_name for keyword in [\"오꼬노미야끼\", \"야키소바\", \"라멘\"]):\n",
        "        return \"일식\"\n",
        "    elif any(keyword in product_name for keyword in [\"떡볶이\", \"순대\", \"튀김\", \"김말이\"]):\n",
        "        return \"분식류\"\n",
        "    elif any(keyword in product_name for keyword in [\"김치\", \"된장\", \"깍두기\", \"열무김치\", \"배추김치\"]):\n",
        "        return \"기타한식류\"\n",
        "    else:\n",
        "        return \"기타\""
      ],
      "metadata": {
        "id": "XdQFBDWLpYRO"
      },
      "execution_count": 6,
      "outputs": []
    },
    {
      "cell_type": "markdown",
      "source": [
        "### 함수 : 이마트 상품 단위 페이지 크롤링"
      ],
      "metadata": {
        "id": "oXz14kSfjl12"
      }
    },
    {
      "cell_type": "code",
      "source": [
        "# prompt: Request URL:\n",
        "# https://emart.ssg.com/disp/ajaxCategory.ssg?dispCtgId=6000217707&sort=sale&page=\n",
        "# Request Method:\n",
        "# GET\n",
        "# 에서 각 페이지의 <li class=\"mnemitem_grid_item\"> 요소에서 아래 사항을 데이터프레이으로 반환하는데,\n",
        "# '순서'라는 컬럼명으로 1번부터 시작하는 값 저장\n",
        "# 상품ID 컬럼에 <div class=\"mnemitem_unit \"> 아래 data-react-unit-id 값 저장\n",
        "# 판매처 컬럼에 <div class=\"mnemitem_tit \"> 아래 <span class=\"mnemitem_goods_brand\"> 값을 저장하는데, 없는 경우 공백으로 저장\n",
        "# 상품명 컬럼에 <div class=\"mnemitem_tit \"> 아래 <span class=\"mnemitem_goods_tit\"> 값 저장\n",
        "# 가격 컬럼에 <div class=\"mnemitem_prd_per\"> 아래 <em class=\"ssg_price\"> 값을 정수로 저장\n",
        "# 평점 컬럼에 <div class=\"mnemitem_review_score\"> 아래 첫번째 <span class=\"review_text\"> 값을 저장하는데, 없는 경우 공백으로 저장\n",
        "# 리뷰수 컬럼에 <div class=\"mnemitem_review_score\"> 아래 두번째 <span class=\"review_text\"> 값을 저장하는데, 없는 경우 공백으로 저장\n",
        "# 100g당 가격에 <div class=\"unit_price\">100g 당 1,147원</div> 에서 1,147값을 저장하는데, 없는 경우 공백으로 저장\n",
        "# 하는 파이썬 코드\n",
        "\n",
        "def get_product_info(page_num):\n",
        "    \"\"\"\n",
        "    지정된 페이지에서 상품 정보(순서, 판매처, 상품명, 가격)를 수집하는 함수\n",
        "\n",
        "    Args:\n",
        "        page_num (int): 수집할 페이지 번호\n",
        "\n",
        "    Returns:\n",
        "        list: 상품 정보 (순서, 상품ID, 판매처, 상품명, 가격, 평점, 리뷰수, 100g당 가격) 튜플의 리스트\n",
        "    \"\"\"\n",
        "    url = f\"https://emart.ssg.com/disp/ajaxCategory.ssg?dispCtgId=6000217707&sort=sale&page={page_num}\"\n",
        "    headers = {\n",
        "        'User-Agent': 'Mozilla/5.0 (Windows NT 10.0; Win64; x64) AppleWebKit/537.36 (KHTML, like Gecko) Chrome/120.0.0.0 Safari/537.36'\n",
        "    }\n",
        "\n",
        "    try:\n",
        "        response = requests.get(url, headers=headers)\n",
        "        response.raise_for_status()\n",
        "        soup = BeautifulSoup(response.text, 'html.parser')\n",
        "\n",
        "        products = []\n",
        "        items = soup.select('li.mnemitem_grid_item')\n",
        "        start_index = (page_num - 1) * len(items) + 1\n",
        "\n",
        "        for idx, item in enumerate(items, start=start_index):\n",
        "            try:\n",
        "                product_nm_tmp = item.select_one('span.mnemitem_goods_tit').text.strip()\n",
        "\n",
        "                product_id = item.select_one('div.mnemitem_unit')['data-react-unit-id']\n",
        "                brand_nm = item.select_one('span.mnemitem_goods_brand')\n",
        "                brand_nm = brand_nm.text.strip() if brand_nm else \"\"\n",
        "                product_nm = preprocess_product_name(product_nm_tmp)\n",
        "\n",
        "                if brand_nm == \"\" and product_nm.startswith('['):\n",
        "                    end_bracket = product_nm.find(']')\n",
        "                    if end_bracket != -1:\n",
        "                        brand_nm = product_nm[1:end_bracket]\n",
        "                        product_nm = product_nm[end_bracket + 1:].strip()\n",
        "\n",
        "                price = int(\"\".join(filter(str.isdigit, item.select_one('em.ssg_price').text.strip())))\n",
        "                review_scores = item.select('span.review_text')\n",
        "                rating = review_scores[0].text.strip() if len(review_scores) > 0 else \"\"\n",
        "                review_count = review_scores[1].text.strip() if len(review_scores) > 1 else \"\"\n",
        "                review_count = \"\".join(filter(str.isdigit, review_count))\n",
        "                unit_price_elem = item.select_one('div.unit_price')\n",
        "                unit_price = \"\".join(filter(str.isdigit, unit_price_elem.text.strip())) if unit_price_elem else \"\"\n",
        "                categorize_nm = categorize_korean_food(product_nm)\n",
        "\n",
        "                products.append([idx, product_id, brand_nm, product_nm, price, rating, review_count, unit_price, categorize_nm])\n",
        "\n",
        "            except Exception as e:\n",
        "                print(f\"상품 정보 추출 중 오류 (순서: {idx}): {str(e)}\")\n",
        "                continue\n",
        "        return products\n",
        "\n",
        "    except requests.exceptions.RequestException as e:\n",
        "        print(f\"페이지 {page_num} 요청 중 오류 발생: {str(e)}\")\n",
        "        return []"
      ],
      "metadata": {
        "id": "BSmINOFYOZDh"
      },
      "execution_count": 9,
      "outputs": []
    },
    {
      "cell_type": "markdown",
      "source": [
        "### 함수 : 여러 페이지의 상품 정보 수집"
      ],
      "metadata": {
        "id": "qoeSvd4rnJyu"
      }
    },
    {
      "cell_type": "code",
      "source": [
        "def scrape_multiple_pages(start_page, end_page):\n",
        "    \"\"\"\n",
        "    여러 페이지의 상품 정보를 수집하는 함수\n",
        "\n",
        "    Args:\n",
        "        start_page (int): 시작 페이지 번호\n",
        "        end_page (int): 끝 페이지 번호\n",
        "\n",
        "    Returns:\n",
        "        pandas.DataFrame: 수집된 상품 정보\n",
        "    \"\"\"\n",
        "    all_products = []\n",
        "    for page in range(start_page, end_page + 1):\n",
        "        print(f\"페이지 {page} 수집 중...\")\n",
        "        products = get_product_info(page)\n",
        "        all_products.extend(products)\n",
        "        time.sleep(2)  # 서버 부하를 줄이기 위한 딜레이 (2초)\n",
        "\n",
        "    df = pd.DataFrame(all_products, columns=['순서', '상품ID', '판매처', '상품명', '가격', '평점', '리뷰수', '100g당 가격', '분류'])\n",
        "    df = df.drop_duplicates()\n",
        "    df = df.sort_values('순서')\n",
        "    return df"
      ],
      "metadata": {
        "id": "TD7bHJdiObmo"
      },
      "execution_count": 10,
      "outputs": []
    },
    {
      "cell_type": "markdown",
      "source": [
        "## 실행 : 크롤링"
      ],
      "metadata": {
        "id": "WkuJ9Dk_jzrl"
      }
    },
    {
      "cell_type": "code",
      "source": [
        "def main():\n",
        "    \"\"\"\n",
        "    메인 실행 함수\n",
        "    \"\"\"\n",
        "    try:\n",
        "        start_time = datetime.now()\n",
        "        print(f\"수집 시작: {start_time}\")\n",
        "\n",
        "        # 1페이지부터 전체 12페이지까지 수집\n",
        "        df = scrape_multiple_pages(1, 12)\n",
        "\n",
        "        # 결과 저장\n",
        "        output_file = csv_filename\n",
        "        df.to_csv(output_file, index=False, encoding='utf-8-sig')\n",
        "\n",
        "        # 통계 출력\n",
        "        end_time = datetime.now()\n",
        "        duration = end_time - start_time\n",
        "\n",
        "        print(f\"\\n수집 완료!\")\n",
        "        print(f\"시작 시간: {start_time}\")\n",
        "        print(f\"종료 시간: {end_time}\")\n",
        "        print(f\"소요 시간: {duration}\")\n",
        "        print(f\"총 수집 상품 수: {len(df)}개\")\n",
        "        print(f\"저장 파일명: {output_file}\")\n",
        "\n",
        "    except Exception as e:\n",
        "        print(f\"프로그램 실행 중 오류 발생: {str(e)}\")\n",
        "\n",
        "if __name__ == \"__main__\":\n",
        "    main()"
      ],
      "metadata": {
        "colab": {
          "base_uri": "https://localhost:8080/"
        },
        "id": "jXR2M3FEOehS",
        "outputId": "b9215cba-0342-4f87-dffb-15855e2aca98"
      },
      "execution_count": 14,
      "outputs": [
        {
          "output_type": "stream",
          "name": "stdout",
          "text": [
            "수집 시작: 2025-01-13 12:45:29.344622\n",
            "페이지 1 수집 중...\n",
            "페이지 2 수집 중...\n",
            "페이지 3 수집 중...\n",
            "페이지 4 수집 중...\n",
            "페이지 5 수집 중...\n",
            "페이지 6 수집 중...\n",
            "페이지 7 수집 중...\n",
            "페이지 8 수집 중...\n",
            "페이지 9 수집 중...\n",
            "페이지 10 수집 중...\n",
            "페이지 11 수집 중...\n",
            "페이지 12 수집 중...\n",
            "\n",
            "수집 완료!\n",
            "시작 시간: 2025-01-13 12:45:29.344622\n",
            "종료 시간: 2025-01-13 12:46:18.630661\n",
            "소요 시간: 0:00:49.286039\n",
            "총 수집 상품 수: 943개\n",
            "저장 파일명: mealkit_products_salesranked_emart.csv\n"
          ]
        }
      ]
    }
  ]
}