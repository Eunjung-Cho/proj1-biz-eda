{
  "nbformat": 4,
  "nbformat_minor": 0,
  "metadata": {
    "colab": {
      "provenance": []
    },
    "kernelspec": {
      "name": "python3",
      "display_name": "Python 3"
    },
    "language_info": {
      "name": "python"
    }
  },
  "cells": [
    {
      "cell_type": "markdown",
      "source": [
        "### 설명\n",
        "* 이마트몰 밀키트 카테고리(ID: 6000217707) 에서 판매처/상품명/가격 스크래핑\n",
        "\n",
        "## Code Assist\n",
        "* python code AI assistant : claude\n",
        "* prompt\n",
        "```\n",
        "https://emart.ssg.com/disp/category.ssg?dispCtgId=6000217707&sort=sale&page=\n",
        "의 각 페이지의 <li class=\"mnemitem_grid_item\"> 요소에서\n",
        "'순서'라는 제목으로 순서값을 지정하고\n",
        "판매처에 해당하는 <div class=\"mnemitem_tit \"> 아래 <span class=\"mnemitem_goods_brand\"> 값과\n",
        "상품명에 해당하는 <div class=\"mnemitem_tit \"> 아래 <span class=\"mnemitem_goods_tit\"> 값과\n",
        "가격에 해당하는 <div class=\"mnemitem_prd_per\"> 아래 <em class=\"ssg_price\"> 값\n",
        "평점에 해당하는 <div class=\"mnemitem_review_score\"> 아래 첫번째 <span class=\"review_text\"> 값\n",
        "리뷰수에 해당하는 <div class=\"mnemitem_review_score\"> 아래 두번째 <span class=\"review_text\"> 값\n",
        "을 수집하는 파이썬 코드\n",
        "```\n",
        "\n",
        "## revision\n",
        "* 1 : 이마트몰 밀키트 카테고리에서 판매처와 상품명, 가격 스크래핑\n",
        "* 2 : 밀키트 카테고리 검색시 판매량 순으로 정렬 및 순위 지정. 한국식 음식으로 카테고리 분류\n",
        "* 3\n",
        "  * 평점, 리뷰수 수집 추가\n",
        "  * 전처리 : '판매처'명이 \"--\" 인 경우 상품명에서 추출\n",
        "  * 전처리 : 상품명에 무게를 뜻하는 'g'이 표기된 것이 많아 해당 무게값 제거"
      ],
      "metadata": {
        "id": "yoOh3fR6n1TQ"
      }
    },
    {
      "cell_type": "code",
      "source": [
        "import requests\n",
        "from bs4 import BeautifulSoup\n",
        "import pandas as pd\n",
        "import time\n",
        "from datetime import datetime"
      ],
      "metadata": {
        "id": "sdtUHlvQOG9L"
      },
      "execution_count": null,
      "outputs": []
    },
    {
      "cell_type": "code",
      "source": [
        "final_csv_name = 'emart_mealkit_prod_salesranked'"
      ],
      "metadata": {
        "id": "lPYUjVbnog48"
      },
      "execution_count": null,
      "outputs": []
    },
    {
      "cell_type": "code",
      "source": [
        "def get_product_info(page_num):\n",
        "    \"\"\"\n",
        "    지정된 페이지에서 상품 정보(순서, 판매처, 상품명, 가격)를 수집하는 함수\n",
        "\n",
        "    Args:\n",
        "        page_num (int): 수집할 페이지 번호\n",
        "\n",
        "    Returns:\n",
        "        list: 상품 정보 (순서, 판매처, 상품명, 가격, 평점, 리뷰수) 튜플의 리스트\n",
        "    \"\"\"\n",
        "    url = f\"https://emart.ssg.com/disp/category.ssg?dispCtgId=6000217707&sort=sale&page={page_num}\"\n",
        "\n",
        "    headers = {\n",
        "        'User-Agent': 'Mozilla/5.0 (Windows NT 10.0; Win64; x64) AppleWebKit/537.36 (KHTML, like Gecko) Chrome/120.0.0.0 Safari/537.36'\n",
        "    }\n",
        "\n",
        "    try:\n",
        "        response = requests.get(url, headers=headers)\n",
        "        response.raise_for_status()\n",
        "        soup = BeautifulSoup(response.text, 'html.parser')\n",
        "\n",
        "        products = []\n",
        "        items = soup.find_all('li', class_='mnemitem_grid_item')\n",
        "\n",
        "        # 페이지별 시작 순서 계산\n",
        "        start_index = (page_num - 1) * len(items) + 1\n",
        "\n",
        "        for idx, item in enumerate(items, start=start_index):\n",
        "            try:\n",
        "                # 판매처 찾기\n",
        "                brand_elem = item.find('span', class_='mnemitem_goods_brand')\n",
        "                brand = brand_elem.text.strip() if brand_elem else \"--\"\n",
        "\n",
        "                # 상품명 찾기\n",
        "                title_elem = item.find('span', class_='mnemitem_goods_tit')\n",
        "                title = title_elem.text.strip() if title_elem else \"--\"\n",
        "\n",
        "                # 가격 찾기\n",
        "                price_elem = item.find('em', class_='ssg_price')\n",
        "                price = price_elem.text.strip() if price_elem else \"0\"\n",
        "                price = ''.join(filter(str.isdigit, price))  # 숫자만 추출\n",
        "\n",
        "                # 평점과 리뷰 수 찾기\n",
        "                review_scores = item.select('span.review_text')\n",
        "                rating = review_scores[0].text.strip() if len(review_scores) > 0 else \"0\"\n",
        "                review_count = review_scores[1].text.strip() if len(review_scores) > 1 else \"0\"\n",
        "                review_count = ''.join(filter(str.isdigit, review_count))  # 숫자만 추출\n",
        "\n",
        "                # 순서와 함께 저장\n",
        "                products.append((idx, brand, title, price, rating, review_count))\n",
        "\n",
        "            except Exception as e:\n",
        "                print(f\"상품 정보 추출 중 오류 (순서: {idx}): {str(e)}\")\n",
        "                continue\n",
        "\n",
        "        return products\n",
        "\n",
        "    except Exception as e:\n",
        "        print(f\"페이지 {page_num} 요청 중 오류 발생: {str(e)}\")\n",
        "        return []"
      ],
      "metadata": {
        "id": "BSmINOFYOZDh"
      },
      "execution_count": null,
      "outputs": []
    },
    {
      "cell_type": "code",
      "source": [
        "def scrape_multiple_pages(start_page, end_page):\n",
        "    \"\"\"\n",
        "    여러 페이지의 상품 정보를 수집하는 함수\n",
        "\n",
        "    Args:\n",
        "        start_page (int): 시작 페이지 번호\n",
        "        end_page (int): 끝 페이지 번호\n",
        "\n",
        "    Returns:\n",
        "        pandas.DataFrame: 수집된 상품 정보\n",
        "    \"\"\"\n",
        "    all_products = []\n",
        "\n",
        "    for page in range(start_page, end_page + 1):\n",
        "        print(f\"페이지 {page} 수집 중...\")\n",
        "        products = get_product_info(page)\n",
        "        all_products.extend(products)\n",
        "\n",
        "        # 서버 부하를 줄이기 위한 딜레이 (2초)\n",
        "        time.sleep(2)\n",
        "\n",
        "    # DataFrame 생성 및 중복 제거\n",
        "    df = pd.DataFrame(all_products, columns=['순서', '판매처', '상품명', '가격', '평점', '리뷰수'])\n",
        "    df = df.drop_duplicates()\n",
        "\n",
        "    # 순서를 기준으로 정렬\n",
        "    df = df.sort_values('순서')\n",
        "\n",
        "    return df"
      ],
      "metadata": {
        "id": "TD7bHJdiObmo"
      },
      "execution_count": null,
      "outputs": []
    },
    {
      "cell_type": "code",
      "source": [
        "def main():\n",
        "    \"\"\"\n",
        "    메인 실행 함수\n",
        "    \"\"\"\n",
        "    try:\n",
        "        start_time = datetime.now()\n",
        "        print(f\"수집 시작: {start_time}\")\n",
        "\n",
        "        # 1페이지부터 전체 12페이지까지 수집\n",
        "        df = scrape_multiple_pages(1, 12)\n",
        "\n",
        "        # 결과 저장\n",
        "        output_file = final_csv_name + '-step1.csv'\n",
        "        df.to_csv(output_file, index=False, encoding='utf-8-sig')\n",
        "\n",
        "        # 통계 출력\n",
        "        end_time = datetime.now()\n",
        "        duration = end_time - start_time\n",
        "\n",
        "        print(f\"\\n수집 완료!\")\n",
        "        print(f\"시작 시간: {start_time}\")\n",
        "        print(f\"종료 시간: {end_time}\")\n",
        "        print(f\"소요 시간: {duration}\")\n",
        "        print(f\"총 수집 상품 수: {len(df)}개\")\n",
        "        print(f\"저장 파일명: {output_file}\")\n",
        "\n",
        "    except Exception as e:\n",
        "        print(f\"프로그램 실행 중 오류 발생: {str(e)}\")\n",
        "\n",
        "if __name__ == \"__main__\":\n",
        "    main()"
      ],
      "metadata": {
        "colab": {
          "base_uri": "https://localhost:8080/"
        },
        "id": "jXR2M3FEOehS",
        "outputId": "ab017d6f-88ca-49d6-d30c-986632d6d42c"
      },
      "execution_count": null,
      "outputs": [
        {
          "output_type": "stream",
          "name": "stdout",
          "text": [
            "수집 시작: 2025-01-06 13:03:01.920739\n",
            "페이지 1 수집 중...\n",
            "페이지 2 수집 중...\n",
            "페이지 3 수집 중...\n",
            "페이지 4 수집 중...\n",
            "페이지 5 수집 중...\n",
            "페이지 6 수집 중...\n",
            "페이지 7 수집 중...\n",
            "페이지 8 수집 중...\n",
            "페이지 9 수집 중...\n",
            "페이지 10 수집 중...\n",
            "페이지 11 수집 중...\n",
            "페이지 12 수집 중...\n",
            "\n",
            "수집 완료!\n",
            "시작 시간: 2025-01-06 13:03:01.920739\n",
            "종료 시간: 2025-01-06 13:03:53.941431\n",
            "소요 시간: 0:00:52.020692\n",
            "총 수집 상품 수: 943개\n",
            "저장 파일명: emart_mealkit_prod_salesranked-step1.csv\n"
          ]
        }
      ]
    },
    {
      "cell_type": "markdown",
      "source": [
        "## 전처리\n",
        "* 상품명에서 무게를 나타내는 g 내용 제거\n",
        "* 판매처명이 \"--\" 인 경우 상품명이 '['로 시작하는 경우 ']' 까지의 내용 사용"
      ],
      "metadata": {
        "id": "uJiVwU33ZFSd"
      }
    },
    {
      "cell_type": "code",
      "source": [
        "# prompt: final_csv_name + '-step1.csv' 파일에서 상품명 내용 마지막에 'g' 문자가 있는 경우 그 앞에 있는 공백 문자부터 'g'까지 값 제거\n",
        "\n",
        "try:\n",
        "    # CSV 파일 읽기\n",
        "    df = pd.read_csv(final_csv_name + '-step1.csv')\n",
        "\n",
        "    # 상품명에서 'g' 문자를 찾아 처리\n",
        "    def remove_weight(product_name):\n",
        "        if isinstance(product_name, str) and 'g' in product_name:\n",
        "            index = product_name.rfind('g')\n",
        "            # 'g' 앞의 공백부터 'g'까지 제거\n",
        "            return product_name[:product_name.rfind(' ', 0, index)].strip()\n",
        "        return product_name\n",
        "\n",
        "    df['상품명'] = df['상품명'].apply(remove_weight)\n",
        "\n",
        "    # 결과를 새로운 CSV 파일로 저장\n",
        "    df.to_csv(final_csv_name + '-step2.csv', index=False, encoding='utf-8-sig')\n",
        "    print(f\"상품명에서 'g' 값 제거가 완료되어 '{final_csv_name}-step2.csv' 파일로 저장되었습니다.\")\n",
        "\n",
        "except FileNotFoundError:\n",
        "    print(f\"{final_csv_name}-step1.csv' 파일을 찾을 수 없습니다.\")\n",
        "except Exception as e:\n",
        "    print(f\"오류 발생: {e}\")"
      ],
      "metadata": {
        "colab": {
          "base_uri": "https://localhost:8080/"
        },
        "id": "s0jh62dfcm1e",
        "outputId": "6551d2af-67ab-41a6-f0bc-fd19da2789ac"
      },
      "execution_count": null,
      "outputs": [
        {
          "output_type": "stream",
          "name": "stdout",
          "text": [
            "상품명에서 'g' 값 제거가 완료되어 'emart_mealkit_prod_salesranked-step2.csv' 파일로 저장되었습니다.\n"
          ]
        }
      ]
    },
    {
      "cell_type": "code",
      "source": [
        "# prompt: final_csv_name + '-step2.csv' 파일에서 판매처 값이 '--' 인 경우 상품명 내용 처음 문자가 '[' 인 경우 ']' 문자까지의 값을 판매처에 넣고 상품명에서는 그 내용 제거\n",
        "\n",
        "import pandas as pd\n",
        "\n",
        "try:\n",
        "    # CSV 파일 읽기\n",
        "    df = pd.read_csv(final_csv_name + '-step2.csv')\n",
        "\n",
        "    # 판매처 값이 '--' 이고 상품명이 '['로 시작하는 경우 처리\n",
        "    for index, row in df.iterrows():\n",
        "        if row['판매처'] == '--' and isinstance(row['상품명'], str) and row['상품명'].startswith('['):\n",
        "            end_bracket = row['상품명'].find(']')\n",
        "            if end_bracket != -1:\n",
        "                df.loc[index, '판매처'] = row['상품명'][1:end_bracket]\n",
        "                df.loc[index, '상품명'] = row['상품명'][end_bracket + 1:].strip()\n",
        "\n",
        "    # 결과를 새로운 CSV 파일로 저장\n",
        "    df.to_csv(final_csv_name + '.csv', index=False, encoding='utf-8-sig')\n",
        "    print(f\"판매처 및 상품명 수정이 완료되어 '{final_csv_name}.csv' 파일로 저장되었습니다.\")\n",
        "\n",
        "except FileNotFoundError:\n",
        "    print(f\"{final_csv_name}-type2.csv 파일을 찾을 수 없습니다.\")\n",
        "except Exception as e:\n",
        "    print(f\"오류 발생: {e}\")"
      ],
      "metadata": {
        "colab": {
          "base_uri": "https://localhost:8080/"
        },
        "id": "l7v7GlGbd-bK",
        "outputId": "88e2b431-eaee-455f-e4e6-e5647968faa4"
      },
      "execution_count": null,
      "outputs": [
        {
          "output_type": "stream",
          "name": "stdout",
          "text": [
            "판매처 및 상품명 수정이 완료되어 'emart_mealkit_prod_salesranked.csv' 파일로 저장되었습니다.\n"
          ]
        }
      ]
    },
    {
      "cell_type": "code",
      "source": [
        "# prompt: emart_mealkit_prod_salesranked.csv 파일에서 상품명을 기준으로 한국식 음식으로 카테고리 분류 후\n",
        "# emart_mealkit_prod_salesranked_with_type.csv 로 저장\n",
        "\n",
        "def categorize_korean_food(product_name):\n",
        "  \"\"\"\n",
        "  상품명을 기반으로 한국 음식 카테고리를 분류합니다.\n",
        "  \"\"\"\n",
        "  product_name = str(product_name).lower() # 소문자 변환\n",
        "\n",
        "  if any(keyword in product_name for keyword in [\"쌀국수\", \"베트남식\"]):\n",
        "      return \"베트남식\"\n",
        "  elif any(keyword in product_name for keyword in [\"찌개\", \"김치찌개\", \"된장찌개\", \"부대찌개\", \"순두부찌개\"]):\n",
        "    return \"찌개류\"\n",
        "  elif any(keyword in product_name for keyword in [\"볶음밥\", \"비빔밥\", \"김밥\", \"잡채\", \"볶음\"]):\n",
        "    return \"밥/면류\"\n",
        "  elif any(keyword in product_name for keyword in [\"불고기\", \"갈비\", \"제육볶음\", \"돼지갈비\", \"닭갈비\"]):\n",
        "    return \"고기류\"\n",
        "  elif any(keyword in product_name for keyword in [\"전\", \"빈대떡\", \"파전\", \"김치전\"]):\n",
        "    return \"전류\"\n",
        "  elif any(keyword in product_name for keyword in [\"찜\", \"갈비찜\", \"닭볶음탕\"]):\n",
        "    return \"찜류\"\n",
        "  elif any(keyword in product_name for keyword in [\"국\", \"미역국\", \"된장국\", \"떡국\"]):\n",
        "    return \"국류\"\n",
        "  elif any(keyword in product_name for keyword in [\"구이\", \"삼겹살\", \"목살\"]):\n",
        "    return \"구이류\"\n",
        "  elif any(keyword in product_name for keyword in [\"닭\", \"닭볶음탕\", \"닭갈비\"]):\n",
        "    return \"닭요리\"\n",
        "  elif any(keyword in product_name for keyword in [\"해물\", \"생선\", \"회\"]):\n",
        "    return \"해물/생선류\"\n",
        "  elif any(keyword in product_name for keyword in [\"짬뽕\", \"짜장\", \"탕수육\"]):\n",
        "      return \"중식\"\n",
        "  elif any(keyword in product_name for keyword in [\"오꼬노미야끼\", \"야키소바\", \"라멘\"]):\n",
        "      return \"일식\"\n",
        "  elif any(keyword in product_name for keyword in [\"떡볶이\", \"순대\", \"튀김\", \"김말이\"]):\n",
        "      return \"분식류\"\n",
        "  elif any(keyword in product_name for keyword in [\"김치\", \"된장\", \"깍두기\", \"열무김치\", \"배추김치\"]):\n",
        "      return \"기타한식류\"\n",
        "  else:\n",
        "    return \"기타\"\n",
        "\n",
        "try:\n",
        "    # CSV 파일 읽기\n",
        "    df = pd.read_csv(final_csv_name + '.csv')\n",
        "\n",
        "    # 상품명에 대한 카테고리 분류\n",
        "    df['카테고리'] = df['상품명'].apply(categorize_korean_food)\n",
        "\n",
        "    # 결과를 새로운 CSV 파일로 저장\n",
        "    df.to_csv(final_csv_name + '_with_type.csv', index=False, encoding='utf-8-sig')\n",
        "    print(f\"카테고리 분류가 완료되어 '{final_csv_name}_with_type.csv' 파일로 저장되었습니다.\")\n",
        "\n",
        "except FileNotFoundError:\n",
        "    print(f\"{final_csv_name}.csv 파일을 찾을 수 없습니다.\")\n",
        "except Exception as e:\n",
        "    print(f\"오류 발생: {e}\")"
      ],
      "metadata": {
        "colab": {
          "base_uri": "https://localhost:8080/"
        },
        "id": "8Lk0R01PnAhH",
        "outputId": "fa5ae26f-04f6-426b-dc5d-9214b693bbca"
      },
      "execution_count": null,
      "outputs": [
        {
          "output_type": "stream",
          "name": "stdout",
          "text": [
            "카테고리 분류가 완료되어 'emart_mealkit_prod_salesranked_with_type.csv' 파일로 저장되었습니다.\n"
          ]
        }
      ]
    }
  ]
}