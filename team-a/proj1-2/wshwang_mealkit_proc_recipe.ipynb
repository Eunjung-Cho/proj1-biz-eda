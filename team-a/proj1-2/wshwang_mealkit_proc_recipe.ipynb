{
  "nbformat": 4,
  "nbformat_minor": 0,
  "metadata": {
    "colab": {
      "provenance": []
    },
    "kernelspec": {
      "name": "python3",
      "display_name": "Python 3"
    },
    "language_info": {
      "name": "python"
    }
  },
  "cells": [
    {
      "cell_type": "markdown",
      "source": [
        "## 설명\n",
        "* '만개의레시피'에서 제공한 무료 레시피 데이터 전처리\n",
        "\n",
        "## 전처리\n",
        "* 2024년 데이터에만 있는 RCP_IMG_URL(레시피 이미지) 컬럼 삭제\n",
        "* 불필요한 FIRST_REG_DT(최초등록일시), RGTR_ID(등록자ID), RGTR_NM(등록자명) 컬럼 삭제\n",
        "* 내용이 다소 많은 CKG_IPDC(요리소개), RCP_TTL(레시피제목) 컬럼 삭제\n",
        "\n",
        "## revision\n",
        "* 1 : 3개 파일 병합. 불필요 컬럼 삭제 - RCP_IMG_URL(레시피 이미지), FIRST_REG_DT(최초등록일시), RGTR_ID(등록자ID), RGTR_NM(등록자명)\n",
        "* 2 : 불필요 컬럼 삭제 - CKG_IPDC(요리소개), RCP_TTL(레시피제목)\n",
        "* 3 : 요리재료내용 (CKG_MTRL_CN) 에서 재료수 (MATERIAL_CNT), 양념수 (SEASONING_CNT) 추출"
      ],
      "metadata": {
        "id": "S0TLLduwUE9U"
      }
    },
    {
      "cell_type": "code",
      "source": [
        "import pandas as pd\n",
        "import chardet\n",
        "import time\n",
        "from datetime import datetime\n",
        "import math"
      ],
      "metadata": {
        "id": "6GtHP--AUDl0"
      },
      "execution_count": 1,
      "outputs": []
    },
    {
      "cell_type": "markdown",
      "source": [
        "함수 : CSV 파일을 읽어서 지정된 불필요 컬럼(RCP_IMG_URL, FIRST_REG_DT, RGTR_ID, RGTR_NM, CKG_IPDC, RCP_TTL) 삭제"
      ],
      "metadata": {
        "id": "0qPrIcz5zVRK"
      }
    },
    {
      "cell_type": "code",
      "source": [
        "def proc_csv_remove_needless_column(input_filename: str, output_filename: str) -> None:\n",
        "    \"\"\"\n",
        "    CSV 파일을 읽어서 지정된 컬럼들을 삭제한 후 새로운 파일로 저장하는 함수\n",
        "\n",
        "    Parameters:\n",
        "    input_filename (str): 읽을 CSV 파일의 경로\n",
        "    output_filename (str): 저장할 CSV 파일의 경로\n",
        "\n",
        "    Returns:\n",
        "    None\n",
        "    \"\"\"\n",
        "    try:\n",
        "        # CSV 파일의 인코딩 정보 감지\n",
        "        with open(input_filename, 'rb') as rawdata:\n",
        "            result = chardet.detect(rawdata.read(100000))  # 처음 100KB 읽어서 인코딩 확인\n",
        "        csv_enc = result['encoding']\n",
        "\n",
        "        if csv_enc is None:\n",
        "            raise ValueError(\"CSV 파일의 인코딩을 감지할 수 없습니다.\")\n",
        "\n",
        "        # CSV 파일 읽기\n",
        "        df = pd.read_csv(input_filename, encoding=csv_enc)\n",
        "\n",
        "        # 지정된 컬럼 삭제\n",
        "        columns_to_drop = ['RCP_IMG_URL', 'FIRST_REG_DT', 'RGTR_ID', 'RGTR_NM', 'CKG_IPDC', 'RCP_TTL']\n",
        "        df = df.drop(columns=columns_to_drop, errors='ignore')\n",
        "\n",
        "        # 결과를 새로운 CSV 파일로 저장\n",
        "        df.to_csv(output_filename, index=False, encoding='utf-8-sig')\n",
        "        print(f\"파일이 성공적으로 처리되어 {output_filename}로 저장되었습니다.\")\n",
        "\n",
        "    except FileNotFoundError:\n",
        "        print(f\"에러: {input_filename} 파일을 찾을 수 없습니다.\")\n",
        "    except Exception as e:\n",
        "        print(f\"에러 발생: {str(e)}\")"
      ],
      "metadata": {
        "id": "ptaVKVBUSK0E"
      },
      "execution_count": 2,
      "outputs": []
    },
    {
      "cell_type": "markdown",
      "source": [
        "함수 : CSV 파일 병합"
      ],
      "metadata": {
        "id": "FrRu-Q5dzmLI"
      }
    },
    {
      "cell_type": "code",
      "source": [
        "def merge_csv_files(csv_files, output_filename):\n",
        "    \"\"\"\n",
        "    여러 CSV 파일을 하나로 병합하는 함수\n",
        "\n",
        "    Args:\n",
        "        csv_files (list): 병합할 CSV 파일 경로 목록\n",
        "        output_filename (str): 병합 결과를 저장할 파일 경로\n",
        "    \"\"\"\n",
        "    try:\n",
        "        # 빈 DataFrame 생성\n",
        "        merged_df = pd.DataFrame()\n",
        "\n",
        "        # 각 CSV 파일을 읽어서 병합\n",
        "        for file in csv_files:\n",
        "            try:\n",
        "                df = pd.read_csv(file, encoding='utf-8-sig')\n",
        "                merged_df = pd.concat([merged_df, df], ignore_index=True)\n",
        "            except FileNotFoundError:\n",
        "                print(f\"경고: 파일 '{file}'을 찾을 수 없습니다. 병합에서 제외합니다.\")\n",
        "            except pd.errors.ParserError:\n",
        "                print(f\"경고: 파일 '{file}'을 파싱하는데 문제가 발생했습니다. 병합에서 제외합니다.\")\n",
        "\n",
        "        # 병합된 DataFrame을 새로운 CSV 파일로 저장\n",
        "        merged_df.to_csv(output_filename, index=False, encoding='utf-8-sig')\n",
        "        print(f\"파일이 성공적으로 병합되어 '{output_filename}'로 저장되었습니다.\")\n",
        "\n",
        "    except Exception as e:\n",
        "        print(f\"에러 발생: {str(e)}\")"
      ],
      "metadata": {
        "id": "I1P8TZxgidc0"
      },
      "execution_count": 3,
      "outputs": []
    },
    {
      "cell_type": "markdown",
      "source": [
        "메인 실행 : 업로드된 3개 파일에 대해 불필요한 컬럼 삭제 후 병합"
      ],
      "metadata": {
        "id": "QxKx-BQczy6R"
      }
    },
    {
      "cell_type": "code",
      "source": [
        "def main():\n",
        "    \"\"\"\n",
        "    메인 실행 함수\n",
        "    \"\"\"\n",
        "    try:\n",
        "        start_time = datetime.now()\n",
        "        print(f\"수집 시작: {start_time}\")\n",
        "\n",
        "        # 2022년도 레시피 처리\n",
        "        input_file = \"TB_RECIPE_SEARCH-220701-utf8.csv\"\n",
        "        output_file = \"TB_RECIPE_2022.csv\"\n",
        "\n",
        "        proc_csv_remove_needless_column(input_file, output_file)\n",
        "\n",
        "        # 2023년도 레시피 처리\n",
        "        input_file = \"TB_RECIPE_SEARCH-20231130-utf8.csv\"\n",
        "        output_file = \"TB_RECIPE_2023.csv\"\n",
        "\n",
        "        proc_csv_remove_needless_column(input_file, output_file)\n",
        "\n",
        "        # 2024년도 레시피 처리\n",
        "        input_file = \"TB_RECIPE_SEARCH_241226-utf8.csv\"\n",
        "        output_file = \"TB_RECIPE_2024.csv\"\n",
        "\n",
        "        proc_csv_remove_needless_column(input_file, output_file)\n",
        "\n",
        "        merge_csv_files([\"TB_RECIPE_2022.csv\", \"TB_RECIPE_2023.csv\", \"TB_RECIPE_2024.csv\"], \"TB_RECIPE.csv\")\n",
        "\n",
        "        ##### 통계 출력\n",
        "        end_time = datetime.now()\n",
        "        duration = end_time - start_time\n",
        "\n",
        "        print(f\"\\n처리 완료!\")\n",
        "        print(f\"시작 시간: {start_time}\")\n",
        "        print(f\"종료 시간: {end_time}\")\n",
        "        print(f\"소요 시간: {duration}\")\n",
        "        print(f\"저장 파일명: {output_file}\")\n",
        "\n",
        "    except Exception as e:\n",
        "        print(f\"프로그램 실행 중 오류 발생: {str(e)}\")\n",
        "\n",
        "if __name__ == \"__main__\":\n",
        "    main()"
      ],
      "metadata": {
        "colab": {
          "base_uri": "https://localhost:8080/"
        },
        "id": "wd6rZDCFXxY3",
        "outputId": "e8e4d9cf-71be-4120-cf5e-d4623cb537d1"
      },
      "execution_count": 4,
      "outputs": [
        {
          "output_type": "stream",
          "name": "stdout",
          "text": [
            "수집 시작: 2025-01-08 12:13:17.435704\n",
            "파일이 성공적으로 처리되어 TB_RECIPE_2022.csv로 저장되었습니다.\n",
            "파일이 성공적으로 처리되어 TB_RECIPE_2023.csv로 저장되었습니다.\n",
            "파일이 성공적으로 처리되어 TB_RECIPE_2024.csv로 저장되었습니다.\n",
            "파일이 성공적으로 병합되어 'TB_RECIPE.csv'로 저장되었습니다.\n",
            "\n",
            "처리 완료!\n",
            "시작 시간: 2025-01-08 12:13:17.435704\n",
            "종료 시간: 2025-01-08 12:13:32.810587\n",
            "소요 시간: 0:00:15.374883\n",
            "저장 파일명: TB_RECIPE_2024.csv\n"
          ]
        }
      ]
    },
    {
      "cell_type": "markdown",
      "source": [
        "함수 : 여러 재료와 양념이 기재된 문자열에서 재료 수와 양념 수 카운팅"
      ],
      "metadata": {
        "id": "kCJXfCle0PpJ"
      }
    },
    {
      "cell_type": "code",
      "source": [
        "# prompt: 문자열을 입력받아 '[재료]' 단어부터 '[양념]' 단어 사이에 있는 문자열에서 '|'로 구분된 단어수를 'material_cnt'라는 딕셔너리 항목으로\n",
        "# '[양념]' 단어 뒤 문자열에서 '|' 로 구분된 단어수를 'seasoning_cnt' 라는 딕셔너리 항목으로 반환하는 함수 작성\n",
        "\n",
        "def count_material_and_seasoning(str_value):\n",
        "    \"\"\"\n",
        "    입력 문자열에서 재료와 양념의 개수를 계산하는 함수\n",
        "\n",
        "    Args:\n",
        "        str_value: 분석할 문자열\n",
        "\n",
        "    Returns:\n",
        "        재료와 양념의 개수를 담은 딕셔너리\n",
        "    \"\"\"\n",
        "    try:\n",
        "        if len(str(str_value)) == 0:\n",
        "            return {'material_cnt': 0, 'seasoning_cnt': 0}\n",
        "\n",
        "        start_idx = str_value.find('[재료]')  # '[재료]' 문자열의 끝 위치를 시작으로\n",
        "\n",
        "        if start_idx == -1:\n",
        "            start_idx = 0\n",
        "            end_idx = str_value.find('[')    # 첫 '[' 문자열의 시작 위치\n",
        "        else:\n",
        "            start_idx += 4\n",
        "            end_idx = str_value.find('[', start_idx)     # 4번째 뒤 '[' 문자열의 시작 위치\n",
        "\n",
        "        if end_idx == -1:\n",
        "            end_idx = len(str_value)\n",
        "\n",
        "        # print('len(text): ', len(str_value))\n",
        "        # print('start_idx: ', start_idx)\n",
        "        # print('end_idx: ', end_idx)\n",
        "\n",
        "        material_part = str_value[start_idx:end_idx].strip()\n",
        "        seasoning_part = str_value[end_idx:len(str_value)].strip()\n",
        "\n",
        "        # print(f'material_part: \\'{material_part}\\'')\n",
        "        # print(f'seasoning_part: \\'{seasoning_part}\\'')\n",
        "\n",
        "        if '|' in material_part:\n",
        "            material_cnt = len(material_part.split('|'))\n",
        "        elif '|' not in material_part:\n",
        "            if len(material_part) > 0:\n",
        "                material_cnt = 1\n",
        "            else:\n",
        "                material_cnt = 0\n",
        "        else:\n",
        "            material_cnt = 0\n",
        "\n",
        "        if len(seasoning_part) == 0:\n",
        "            seasoning_cnt = 0\n",
        "        elif seasoning_part.count('[') > 1:\n",
        "            seasoning_cnt = seasoning_part.count('[') + seasoning_part.count('|')\n",
        "        else:\n",
        "            seasoning_cnt = len(seasoning_part.split('|'))\n",
        "\n",
        "#        if '|' in seasoning_part:\n",
        "#            seasoning_cnt = len(seasoning_part.split('|'))\n",
        "#        elif '|' not in seasoning_part:\n",
        "#            if len(seasoning_part) > 0:\n",
        "#                if seasoning_part.count('[') > 1:\n",
        "#                    # 각 양념 파트가 1개씩 존재하는 경우 '[패티양념] 후추 [소스] 소금'\n",
        "#                    seasoning_cnt = seasoning_part.count('[')\n",
        "#                else:\n",
        "#                    seasoning_cnt = 1\n",
        "#            else:\n",
        "#                seasoning_cnt = 0\n",
        "#        else:\n",
        "#            seasoning_cnt = 0\n",
        "\n",
        "        return {'material_cnt': material_cnt, 'seasoning_cnt': seasoning_cnt}\n",
        "\n",
        "    except ValueError:\n",
        "        return {'material_cnt': 0, 'seasoning_cnt': 0}"
      ],
      "metadata": {
        "id": "iXaweKkUqgtV"
      },
      "execution_count": 5,
      "outputs": []
    },
    {
      "cell_type": "markdown",
      "source": [
        "### 문자열 파싱 테스트"
      ],
      "metadata": {
        "id": "OMC99PT7yvfW"
      }
    },
    {
      "cell_type": "code",
      "source": [
        "# [재료] 가래떡 1개| 호두 15알 정도 [양념] 깨 3T\n",
        "# [재료] 가래떡 1개| 호두 15알 정도 [양념] 깨 3T | 간장\n",
        "# [재료] 모닝빵 3개| 새우 10마리 [패티양념] 다진양파 1/2개| 빵가루| 밀가루| 계란 [소스] 소금| 후추\n",
        "counts = count_material_and_seasoning('[재료] 모닝빵 3개| 새우 10마리 [패티양념] 다진양파 1/2개| 빵가루| 밀가루| 계란 [소스] 소금| 후추')\n",
        "print('material_cnt:', counts['material_cnt'])\n",
        "print('seasoning_cnt', counts['seasoning_cnt'])"
      ],
      "metadata": {
        "colab": {
          "base_uri": "https://localhost:8080/"
        },
        "id": "bGi0PQeviryV",
        "outputId": "0debb3cf-cc8d-4266-e788-e7d93660d7ae"
      },
      "execution_count": 6,
      "outputs": [
        {
          "output_type": "stream",
          "name": "stdout",
          "text": [
            "material_cnt: 2\n",
            "seasoning_cnt 6\n"
          ]
        }
      ]
    },
    {
      "cell_type": "markdown",
      "source": [
        "추가 실행 : 재료 수와 양념 수 센 뒤 컬럼 추가"
      ],
      "metadata": {
        "id": "4wKew_ch0d7R"
      }
    },
    {
      "cell_type": "code",
      "source": [
        "# prompt: TB_RECIPE.csv 파일의 CKG_MTRL_CN 컬럼 문자열을 위 count_material_and_seasoning 함수에 사용한 결과 딕셔너리 중\n",
        "# seasoning_cnt 는 SEASONING_CNT 컬럼에 저장\n",
        "# material_cnt 는 MATERIAL_CNT 컬럼에 저장\n",
        "# 하여 새로운 TB_RECIPE_CAT.csv 파일로 저장\n",
        "\n",
        "def process_and_save_recipe_data(input_file, output_file):\n",
        "    \"\"\"\n",
        "    TB_RECIPE.csv 파일을 읽어 CKG_MTRL_CN 컬럼을 처리하고 새로운 CSV 파일을 생성합니다.\n",
        "    \"\"\"\n",
        "    try:\n",
        "        df = pd.read_csv(input_file, encoding='utf-8-sig')\n",
        "\n",
        "        # 새로운 컬럼 추가\n",
        "        df['MATERIAL_CNT'] = 0\n",
        "        df['SEASONING_CNT'] = 0\n",
        "\n",
        "        # CKG_MTRL_CN 컬럼의 각 값에 대해 함수 실행\n",
        "        for index, row in df.iterrows():\n",
        "            if not pd.isna(row['CKG_MTRL_CN']):  # NaN 값 확인 추가\n",
        "              try:\n",
        "                  counts = count_material_and_seasoning(row['CKG_MTRL_CN'])\n",
        "                  df.loc[index, 'MATERIAL_CNT'] = counts['material_cnt']\n",
        "                  df.loc[index, 'SEASONING_CNT'] = counts['seasoning_cnt']\n",
        "              except Exception as e:\n",
        "                  print(f\"Error processing row {index}: {e}\")\n",
        "                  df.loc[index, 'MATERIAL_CNT'] = 0\n",
        "                  df.loc[index, 'SEASONING_CNT'] = 0\n",
        "            else:\n",
        "              df.loc[index, 'MATERIAL_CNT'] = 0\n",
        "              df.loc[index, 'SEASONING_CNT'] = 0\n",
        "\n",
        "        df.to_csv(output_file, index=False, encoding='utf-8-sig')\n",
        "        print(f\"파일이 성공적으로 처리되어 {output_file}로 저장되었습니다.\")\n",
        "    except FileNotFoundError:\n",
        "        print(f\"에러: {input_file} 파일을 찾을 수 없습니다.\")\n",
        "    except Exception as e:\n",
        "        print(f\"에러 발생: {str(e)}\")\n",
        "\n",
        "\n",
        "def main():\n",
        "    # ... (기존 main 함수 코드)\n",
        "\n",
        "    # 새로운 함수 호출\n",
        "    process_and_save_recipe_data(\"TB_RECIPE.csv\", \"TB_RECIPE_CAT.csv\")\n",
        "\n",
        "if __name__ == \"__main__\":\n",
        "    main()"
      ],
      "metadata": {
        "colab": {
          "base_uri": "https://localhost:8080/"
        },
        "id": "-v_tEUAyrHcV",
        "outputId": "ac455859-0b66-4893-9cee-82c99547f389"
      },
      "execution_count": 8,
      "outputs": [
        {
          "output_type": "stream",
          "name": "stdout",
          "text": [
            "파일이 성공적으로 처리되어 TB_RECIPE_CAT.csv로 저장되었습니다.\n"
          ]
        }
      ]
    }
  ]
}