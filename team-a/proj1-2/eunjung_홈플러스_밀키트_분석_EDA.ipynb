{
 "cells": [
  {
   "cell_type": "markdown",
   "id": "408b00a6-0c16-4dd5-a9a4-ef5e8223084a",
   "metadata": {},
   "source": [
    "# 홈플러스 데이터 \n",
    "\n",
    "오프라인 데이터를 구하기 힘들기 때문에\n",
    "온라인에서 수집해서 밀키트 상품 기획을 위한 분석 수행\n",
    "\n",
    "링크 : https://mfront.homeplus.co.kr/search?addSubCategoryYn=Y&categoryDepth=2&categoryId=200071&entry=direct&inputKeyword=%EA%B0%84%ED%8E%B8%EC%8B%9D&keyword=%EA%B0%84%ED%8E%B8%EC%8B%9D&searchType=NONE&sort=SALES_UP"
   ]
  },
  {
   "cell_type": "markdown",
   "id": "90968e77-ddcb-4cd1-8512-a1d50d3937f6",
   "metadata": {},
   "source": [
    "## 데이터 수집"
   ]
  },
  {
   "cell_type": "code",
   "execution_count": 1,
   "id": "a62ea652-ee84-4f70-8a42-ae5df0af0481",
   "metadata": {},
   "outputs": [],
   "source": [
    "from selenium import webdriver\n",
    "from selenium.webdriver.common.by import By\n",
    "from selenium.webdriver.support.ui import WebDriverWait\n",
    "from selenium.webdriver.support import expected_conditions as EC\n",
    "from selenium.webdriver.chrome.options import Options\n",
    "import pandas as pd\n",
    "import time"
   ]
  },
  {
   "cell_type": "code",
   "execution_count": 2,
   "id": "eaa5515d-95b7-4748-80f7-85a611a7bc6f",
   "metadata": {},
   "outputs": [],
   "source": [
    "driver = webdriver.Chrome()\n",
    "\n",
    "url = \"https://mfront.homeplus.co.kr/search?addSubCategoryYn=Y&categoryDepth=2&categoryId=200071&entry=direct&inputKeyword=%EA%B0%84%ED%8E%B8%EC%8B%9D&keyword=%EA%B0%84%ED%8E%B8%EC%8B%9D&searchType=NONE&sort=SALES_UP\"\n",
    "driver.get(url)"
   ]
  },
  {
   "cell_type": "markdown",
   "id": "c01962e3-47a5-4194-b03b-bc00dd0353d6",
   "metadata": {},
   "source": [
    "### 스크래핑할 부분 샘플 체크"
   ]
  },
  {
   "cell_type": "code",
   "execution_count": 3,
   "id": "a8cbe296-35f8-44b4-b520-cdd1b375d6c0",
   "metadata": {},
   "outputs": [],
   "source": [
    " product_name = driver.find_element(By.CSS_SELECTOR, f\"#site-wrapper > div.content-container.bannerUnderLine.css-130pxjn.e6c4o0v6 > div > div.search-prod-list-wrap > div.infinite-scroll-component__outerdiv > div > div:nth-child(1) > div:nth-child(1) > div.detailInfoWrap > div.detailInfo > a > p\").text"
   ]
  },
  {
   "cell_type": "code",
   "execution_count": 4,
   "id": "af226394-97a1-48f0-ae00-52e016785ad4",
   "metadata": {},
   "outputs": [
    {
     "name": "stdout",
     "output_type": "stream",
     "text": [
      "애슐리 오리지널 통살치킨 500G\n"
     ]
    }
   ],
   "source": [
    "print( product_name)   "
   ]
  },
  {
   "cell_type": "code",
   "execution_count": 6,
   "id": "0f3beb10-a7b6-42b3-9c2f-629a06fac4d0",
   "metadata": {},
   "outputs": [
    {
     "name": "stdout",
     "output_type": "stream",
     "text": [
      "가격: 8990\n"
     ]
    }
   ],
   "source": [
    "price_text = driver.find_element(By.CSS_SELECTOR, f\"#site-wrapper > div.content-container.bannerUnderLine.css-130pxjn.e6c4o0v6 > div > div.search-prod-list-wrap > div.infinite-scroll-component__outerdiv > div > div:nth-child(1) > div:nth-child(1) > div.detailInfoWrap > div.detailInfo > div.priceWrap > div > strong\").text\n",
    "price = int(price_text.replace(\",\", \"\"))  # 쉼표 제거 후 정수로 변환\n",
    "print(f\"가격: {price}\")"
   ]
  },
  {
   "cell_type": "code",
   "execution_count": 7,
   "id": "eda4ec6d-1a0f-4dfd-bdb2-2b04fe7fa77e",
   "metadata": {},
   "outputs": [
    {
     "name": "stdout",
     "output_type": "stream",
     "text": [
      "가격: 10900\n",
      "10,900\n"
     ]
    }
   ],
   "source": [
    "price_text = driver.find_element(By.CSS_SELECTOR, f\"#site-wrapper > div.content-container.bannerUnderLine.css-130pxjn.e6c4o0v6 > div > div.search-prod-list-wrap > div.infinite-scroll-component__outerdiv > div > div:nth-child(1) > div:nth-child(2) > div.detailInfoWrap > div.detailInfo > div.priceWrap > div > strong\").text\n",
    "price = int(price_text.replace(\",\", \"\"))\n",
    "print(f\"가격: {price}\")\n",
    "print(price_text)"
   ]
  },
  {
   "cell_type": "code",
   "execution_count": 9,
   "id": "10cf111e-8486-4b69-9226-7c7fcb195e2b",
   "metadata": {},
   "outputs": [
    {
     "name": "stdout",
     "output_type": "stream",
     "text": [
      "별점: 4.7\n"
     ]
    }
   ],
   "source": [
    "rating_text = driver.find_element(By.CSS_SELECTOR,\n",
    "                                  \"#site-wrapper > div.content-container.bannerUnderLine.css-130pxjn.e6c4o0v6 > div > div.search-prod-list-wrap > div.infinite-scroll-component__outerdiv > div > div:nth-child(1) > div:nth-child(1) > div.detailInfoWrap > div.detailInfo > div.prodScoreWrap > span.score\").text\n",
    "rating = float(rating_text)  # 문자열을 실수로 변환\n",
    "print(f\"별점: {rating}\")"
   ]
  },
  {
   "cell_type": "code",
   "execution_count": 10,
   "id": "b445a5c1-d42c-4a96-8124-0d9d7d46accd",
   "metadata": {},
   "outputs": [
    {
     "name": "stdout",
     "output_type": "stream",
     "text": [
      "별점: 4.7\n"
     ]
    }
   ],
   "source": [
    "rating_text = driver.find_element(By.CSS_SELECTOR, f\"#site-wrapper > div.content-container.bannerUnderLine.css-130pxjn.e6c4o0v6 > div > div.search-prod-list-wrap > div.infinite-scroll-component__outerdiv > div > div:nth-child(1) > div:nth-child(1) > div.detailInfoWrap > div.detailInfo > div.prodScoreWrap > span.score\").text\n",
    "rating = float(rating_text)\n",
    "print(f\"별점: {rating}\")"
   ]
  },
  {
   "cell_type": "code",
   "execution_count": null,
   "id": "c9865f3f-2687-4976-9f32-8b83c0d7134a",
   "metadata": {
    "scrolled": true
   },
   "outputs": [],
   "source": [
    "# 한 줄에 두개상품씩 있을 때\n",
    "review_text = driver.find_element(By.CSS_SELECTOR, \"#site-wrapper > div.content-container.bannerUnderLine.css-130pxjn.e6c4o0v6 > div.infinite-scroll-component__outerdiv > div > div:nth-child(1) > div:nth-child(1) > div.detailInfoWrap > div.detailInfo > div.prodScoreWrap > span.reviewCnt\").text\n",
    "review_count = int(review_text.replace(\"/\", \"\").replace(\",\", \"\"))  # '/'와 ',' 제거 후 정수로 변환\n",
    "print(f\"리뷰 수: {review_count}\")"
   ]
  },
  {
   "cell_type": "code",
   "execution_count": 12,
   "id": "4e5ec323-aad2-4304-bc50-da57236009f6",
   "metadata": {},
   "outputs": [
    {
     "name": "stdout",
     "output_type": "stream",
     "text": [
      "리뷰 수: 6922\n"
     ]
    }
   ],
   "source": [
    "# 한 줄에 세개 상품 씩 있을 때\n",
    "review_text = driver.find_element(By.CSS_SELECTOR, f\"#site-wrapper > div.content-container.bannerUnderLine.css-130pxjn.e6c4o0v6 > div > div.search-prod-list-wrap > div.infinite-scroll-component__outerdiv > div > div:nth-child(1) > div:nth-child(1) > div.detailInfoWrap > div.detailInfo > div.prodScoreWrap > span.reviewCnt\").text\n",
    "review_count = int(review_text.replace(\"/\", \"\").replace(\",\", \"\"))\n",
    "print(f\"리뷰 수: {review_count}\")"
   ]
  },
  {
   "cell_type": "code",
   "execution_count": 15,
   "id": "611591ef-d4ce-4a2f-9214-d95b9e20abe3",
   "metadata": {},
   "outputs": [
    {
     "name": "stdout",
     "output_type": "stream",
     "text": [
      "판매 수량: 65428\n"
     ]
    }
   ],
   "source": [
    "# 한 줄에 세개 상품 씩 있을 때\n",
    "sale_count_text = driver.find_element(By.CSS_SELECTOR, \"#site-wrapper > div.content-container.bannerUnderLine.css-130pxjn.e6c4o0v6 > div > div.search-prod-list-wrap > div.infinite-scroll-component__outerdiv > div > div:nth-child(1) > div:nth-child(1) > div.detailInfoWrap > div.detailInfo > div.prodScoreWrap > span.saleCount\").text\n",
    "sale_count = int(sale_count_text.replace(\",\", \"\"))  # 쉼표 제거 후 정수로 변환\n",
    "print(f\"판매 수량: {sale_count}\")"
   ]
  },
  {
   "cell_type": "code",
   "execution_count": null,
   "id": "07421635-eea5-4474-9858-b4fd6654cdb9",
   "metadata": {},
   "outputs": [],
   "source": [
    "# 한 줄에 두개상품씩 있을 때\n",
    "g_100_price = driver.find_element(By.CSS_SELECTOR, f\"#site-wrapper > div.content-container.bannerUnderLine.css-130pxjn.e6c4o0v6 > div.infinite-scroll-component__outerdiv > div > div:nth-child(1) > div:nth-child(1) > div.detailInfoWrap > div.detailInfo > div.priceQty > span\").text\n",
    "g100price_count = int(g_100_price.replace(\",\", \"\"))\n",
    "print(f\"100g당가격: {g100price_count}\")   "
   ]
  },
  {
   "cell_type": "code",
   "execution_count": 18,
   "id": "840b53a2-65c2-4fa2-ba01-9e4fe8b13af0",
   "metadata": {},
   "outputs": [
    {
     "name": "stdout",
     "output_type": "stream",
     "text": [
      "100g당가격: 1798\n"
     ]
    }
   ],
   "source": [
    "# 한 줄에 세개 상품 씩 있을 때\n",
    "g_100_price = driver.find_element(By.CSS_SELECTOR, f\"#site-wrapper > div.content-container.bannerUnderLine.css-130pxjn.e6c4o0v6 > div > div.search-prod-list-wrap > div.infinite-scroll-component__outerdiv > div > div:nth-child(1) > div:nth-child(1) > div.detailInfoWrap > div.detailInfo > div.priceQty > span\").text\n",
    "g100price_count = int(g_100_price.replace(\",\", \"\"))\n",
    "print(f\"100g당가격: {g100price_count}\")   "
   ]
  },
  {
   "cell_type": "markdown",
   "id": "8a7eaf3d-474f-410d-84ef-b6e29f6efdf2",
   "metadata": {},
   "source": [
    "### 반복문으로 끌고오기\n",
    "\n",
    "**주의1)** 새창에서 스크롤을 먼저 제일 아래로 수행해줘야 수집이 가능하다. (무한스크롤이라 다음 상품이 로딩되는데 시간이 있다. 따라서 먼저 스크롤 다 한후 진행)\n",
    "\n",
    "**주의2)** 첫번째 상품 카테고리 4개와 그 밑은 selector 구조가 다르다. 따라서 두개로 그룹을 나누어 반복문 실행"
   ]
  },
  {
   "cell_type": "code",
   "execution_count": 20,
   "id": "9c19ffa6-8bf2-4be1-9513-b7bf5f2cb673",
   "metadata": {},
   "outputs": [
    {
     "name": "stdout",
     "output_type": "stream",
     "text": [
      "4\n"
     ]
    }
   ],
   "source": [
    "# 상품 개수 확인 (첫 번째 상품 컨테이너의 개수)\n",
    "items = driver.find_elements(By.CSS_SELECTOR, \"div.infinite-scroll-component > div > div:nth-child(1) > div\")\n",
    "total_items = len(items)\n",
    "print(total_items)"
   ]
  },
  {
   "cell_type": "code",
   "execution_count": 39,
   "id": "ea5601a7-3cb9-4d10-82dd-437af7a8d05e",
   "metadata": {},
   "outputs": [
    {
     "name": "stdout",
     "output_type": "stream",
     "text": [
      "첫 번째 그룹 1번째 상품 수집 완료\n",
      "첫 번째 그룹 2번째 상품 수집 완료\n",
      "첫 번째 그룹 3번째 상품 수집 완료\n",
      "첫 번째 그룹 4번째 상품 수집 완료\n",
      "두 번째 그룹 50번째 상품 수집 완료\n",
      "두 번째 그룹 100번째 상품 수집 완료\n",
      "두 번째 그룹 150번째 상품 수집 완료\n",
      "두 번째 그룹 200번째 상품 수집 완료\n",
      "두 번째 그룹 250번째 상품 수집 완료\n",
      "두 번째 그룹 300번째 상품 수집 완료\n",
      "두 번째 그룹 350번째 상품 수집 완료\n",
      "두 번째 그룹 400번째 상품 수집 완료\n",
      "두 번째 그룹 450번째 상품 수집 완료\n",
      "두 번째 그룹 500번째 상품 수집 완료\n",
      "두 번째 그룹 550번째 상품 수집 완료\n",
      "두 번째 그룹 600번째 상품 수집 완료\n",
      "두 번째 그룹 650번째 상품 수집 완료\n",
      "두 번째 그룹 700번째 상품 수집 완료\n",
      "두 번째 그룹 750번째 상품 수집 완료\n",
      "두 번째 그룹 800번째 상품 수집 완료\n",
      "두 번째 그룹 850번째 상품 수집 완료\n",
      "두 번째 그룹 900번째 상품 수집 완료\n",
      "두 번째 그룹 950번째 상품 수집 완료\n",
      "두 번째 그룹 1000번째 상품 수집 완료\n",
      "두 번째 그룹 1050번째 상품 수집 완료\n",
      "두 번째 그룹 1100번째 상품 수집 완료\n"
     ]
    }
   ],
   "source": [
    "product_list = []\n",
    "\n",
    "# 첫 번째 그룹 (div:nth-child(1))\n",
    "for i in range(1, 5):\n",
    "    try:\n",
    "        product_name = driver.find_element(By.CSS_SELECTOR, f\"#site-wrapper > div.content-container.bannerUnderLine.css-130pxjn.e6c4o0v6 > div > div.search-prod-list-wrap > div.infinite-scroll-component__outerdiv > div > div:nth-child(1) > div:nth-child({i}) > div.detailInfoWrap > div.detailInfo > a > p\").text\n",
    "        \n",
    "        price_text = driver.find_element(By.CSS_SELECTOR, f\"#site-wrapper > div.content-container.bannerUnderLine.css-130pxjn.e6c4o0v6 > div > div.search-prod-list-wrap > div.infinite-scroll-component__outerdiv > div > div:nth-child(1) > div:nth-child({i}) > div.detailInfoWrap > div.detailInfo > div.priceWrap > div > strong\").text\n",
    "        price = int(price_text.replace(\",\", \"\"))\n",
    "        \n",
    "        try:\n",
    "            rating_text = driver.find_element(By.CSS_SELECTOR, f\"#site-wrapper > div.content-container.bannerUnderLine.css-130pxjn.e6c4o0v6 > div > div.search-prod-list-wrap > div.infinite-scroll-component__outerdiv > div > div:nth-child(1) > div:nth-child({i}) > div.detailInfoWrap > div.detailInfo > div.prodScoreWrap > span.score\").text\n",
    "            rating = float(rating_text)\n",
    "        except:\n",
    "            rating = None\n",
    "            \n",
    "        try:\n",
    "            review_text = driver.find_element(By.CSS_SELECTOR, f\"#site-wrapper > div.content-container.bannerUnderLine.css-130pxjn.e6c4o0v6 > div > div.search-prod-list-wrap > div.infinite-scroll-component__outerdiv > div > div:nth-child(1) > div:nth-child({i}) > div.detailInfoWrap > div.detailInfo > div.prodScoreWrap > span.reviewCnt\").text\n",
    "            review_count = int(review_text.replace(\"/\", \"\").replace(\",\", \"\"))\n",
    "        except:\n",
    "            review_count = 0\n",
    "         ##여기부터 다시 고치기 2025.01.07   \n",
    "        try:\n",
    "            sale_count_text = driver.find_element(By.CSS_SELECTOR, f\"#site-wrapper > div.content-container.bannerUnderLine.css-130pxjn.e6c4o0v6 > div > div.search-prod-list-wrap > div.infinite-scroll-component__outerdiv > div > div:nth-child(1) > div:nth-child({i}) > div.detailInfoWrap > div.detailInfo > div.prodScoreWrap > span.saleCount\").text\n",
    "            sale_count = int(sale_count_text.replace(\",\", \"\"))  # 쉼표 제거 후 정수로 변환\n",
    "        except:\n",
    "            sale_count = 0\n",
    "        \n",
    "        try:\n",
    "            g_100_price = driver.find_element(By.CSS_SELECTOR, f\"#site-wrapper > div.content-container.bannerUnderLine.css-130pxjn.e6c4o0v6 > div > div.search-prod-list-wrap > div.infinite-scroll-component__outerdiv > div > div:nth-child(1) > div:nth-child({i}) > div.detailInfoWrap > div.detailInfo > div.priceQty > span\").text\n",
    "            g100price_count = int(g_100_price.replace(\",\", \"\"))\n",
    "        except:\n",
    "            g100price_count = 0\n",
    "\n",
    "        \n",
    "        \n",
    "        product_data = {\n",
    "            '상품명': product_name,\n",
    "            '가격': price,\n",
    "            '별점': rating,\n",
    "            '리뷰수': review_count,\n",
    "            '판매수량': sale_count,\n",
    "            '100g당가격' : g100price_count\n",
    "        }\n",
    "\n",
    "        product_list.append(product_data)\n",
    "        print(f\"첫 번째 그룹 {i}번째 상품 수집 완료\")\n",
    "        \n",
    "    except Exception as e:\n",
    "        print(f\"첫 번째 그룹 {i}번째 상품 수집 실패: {e}\")\n",
    "        continue\n",
    "\n",
    "# 두 번째 그룹 (div:nth-child(2))\n",
    "for i in range(1, 1113):  # 1121까지\n",
    "    try:\n",
    "        product_name = WebDriverWait(driver, 10).until(EC.presence_of_element_located((By.CSS_SELECTOR, f\"#site-wrapper > div.content-container.bannerUnderLine.css-130pxjn.e6c4o0v6 > div > div.search-prod-list-wrap > div.infinite-scroll-component__outerdiv > div > div:nth-child(2) > div:nth-child({i}) > div.detailInfoWrap > div.detailInfo > a > p\"))).text\n",
    "        price_text = driver.find_element(By.CSS_SELECTOR, f\"#site-wrapper > div.content-container.bannerUnderLine.css-130pxjn.e6c4o0v6 > div > div.search-prod-list-wrap > div.infinite-scroll-component__outerdiv > div > div:nth-child(2) > div:nth-child({i}) > div.detailInfoWrap > div.detailInfo > div.priceWrap > div > strong\").text\n",
    "        price = int(price_text.replace(\",\", \"\"))\n",
    "        \n",
    "        try:\n",
    "            rating_text = driver.find_element(By.CSS_SELECTOR, f\"#site-wrapper > div.content-container.bannerUnderLine.css-130pxjn.e6c4o0v6 > div > div.search-prod-list-wrap > div.infinite-scroll-component__outerdiv > div > div:nth-child(2) > div:nth-child({i}) > div.detailInfoWrap > div.detailInfo > div.prodScoreWrap > span.score\").text\n",
    "            rating = float(rating_text)\n",
    "        except:\n",
    "            rating = None\n",
    "            \n",
    "        try:\n",
    "            review_text = driver.find_element(By.CSS_SELECTOR, f\"#site-wrapper > div.content-container.bannerUnderLine.css-130pxjn.e6c4o0v6 > div > div.search-prod-list-wrap > div.infinite-scroll-component__outerdiv > div > div:nth-child(2) > div:nth-child({i}) > div.detailInfoWrap > div.detailInfo > div.prodScoreWrap > span.reviewCnt\").text\n",
    "            review_count = int(review_text.replace(\"/\", \"\").replace(\",\", \"\"))\n",
    "        except:\n",
    "            review_count = 0\n",
    "            \n",
    "        try:\n",
    "            sale_count_text = driver.find_element(By.CSS_SELECTOR, f\"#site-wrapper > div.content-container.bannerUnderLine.css-130pxjn.e6c4o0v6 > div > div.search-prod-list-wrap > div.infinite-scroll-component__outerdiv > div > div:nth-child(2) > div:nth-child({i}) > div.detailInfoWrap > div.detailInfo > div.prodScoreWrap > span.saleCount\").text\n",
    "            sale_count = int(sale_count_text.replace(\",\", \"\"))\n",
    "        except:\n",
    "            sale_count = 0\n",
    "        \n",
    "        try:\n",
    "            g_100_price = driver.find_element(By.CSS_SELECTOR, f\"#site-wrapper > div.content-container.bannerUnderLine.css-130pxjn.e6c4o0v6 > div > div.search-prod-list-wrap > div.infinite-scroll-component__outerdiv > div > div:nth-child(2) > div:nth-child({i}) > div.detailInfoWrap > div.detailInfo > div.priceQty > span\").text\n",
    "            g100price_count = int(g_100_price.replace(\",\", \"\"))\n",
    "        except:\n",
    "            g100price_count = 0\n",
    "\n",
    "        product_data = {\n",
    "            '상품명': product_name,\n",
    "            '가격': price,\n",
    "            '별점': rating,\n",
    "            '리뷰수': review_count,\n",
    "            '판매수량': sale_count,\n",
    "            '100g당가격': g100price_count\n",
    "        }\n",
    "        product_list.append(product_data)\n",
    "        if i % 50 == 0:  # 50개 단위로 진행상황 출력\n",
    "            print(f\"두 번째 그룹 {i}번째 상품 수집 완료\")\n",
    "        \n",
    "    except Exception as e:\n",
    "        print(f\"두 번째 그룹 {i}번째 상품 수집 실패: {e}\")\n",
    "        continue\n",
    "\n",
    "# DataFrame 생성\n",
    "df = pd.DataFrame(product_list)"
   ]
  },
  {
   "cell_type": "code",
   "execution_count": 46,
   "id": "53cd28f3-4ff4-4126-bd1f-02e396c08f4e",
   "metadata": {
    "scrolled": true
   },
   "outputs": [
    {
     "name": "stdout",
     "output_type": "stream",
     "text": [
      "첫 번째 그룹 1번째 상품 수집 완료\n",
      "첫 번째 그룹 2번째 상품 수집 완료\n",
      "첫 번째 그룹 3번째 상품 수집 완료\n",
      "첫 번째 그룹 4번째 상품 수집 완료\n",
      "두 번째 그룹 50번째 상품 수집 완료\n",
      "두 번째 그룹 100번째 상품 수집 완료\n",
      "두 번째 그룹 150번째 상품 수집 완료\n"
     ]
    },
    {
     "ename": "WebDriverException",
     "evalue": "Message: disconnected: unable to send message to renderer\n  (failed to check if window was closed: disconnected: not connected to DevTools)\n  (Session info: chrome=131.0.6778.205)\nStacktrace:\n\t(No symbol) [0x00007FFD0A6B1ECC]\n\tGetHandleVerifier [0x00007FF61F7CFB05+28789]\n\t(No symbol) [0x00007FF61F7386E0]\n\t(No symbol) [0x00007FF61F5D592A]\n\t(No symbol) [0x00007FF61F5C290C]\n\t(No symbol) [0x00007FF61F5C287C]\n\t(No symbol) [0x00007FF61F5C0F6B]\n\t(No symbol) [0x00007FF61F5C1D1F]\n\t(No symbol) [0x00007FF61F5D9F31]\n\t(No symbol) [0x00007FF61F5DAA1A]\n\t(No symbol) [0x00007FF61F5DF4BF]\n\t(No symbol) [0x00007FF61F670910]\n\t(No symbol) [0x00007FF61F64F43A]\n\t(No symbol) [0x00007FF61F66F654]\n\t(No symbol) [0x00007FF61F64F1E3]\n\t(No symbol) [0x00007FF61F61A938]\n\t(No symbol) [0x00007FF61F61BAA1]\n\tGetHandleVerifier [0x00007FF61FB0933D+3410093]\n\tGetHandleVerifier [0x00007FF61FB1E7DD+3497293]\n\tGetHandleVerifier [0x00007FF61FB12A73+3448803]\n\tGetHandleVerifier [0x00007FF61F897BBB+848171]\n\t(No symbol) [0x00007FF61F743C3F]\n\t(No symbol) [0x00007FF61F73F6E4]\n\t(No symbol) [0x00007FF61F73F87D]\n\t(No symbol) [0x00007FF61F72ED49]\n\tExitProcess [0x00007FFD07C5F95C+953884]\n\tExitProcess [0x00007FFD07BE0578+432696]\n\t(No symbol) [0x00007FFD0A5EBEF0]\n",
     "output_type": "error",
     "traceback": [
      "\u001b[1;31m---------------------------------------------------------------------------\u001b[0m",
      "\u001b[1;31mWebDriverException\u001b[0m                        Traceback (most recent call last)",
      "Cell \u001b[1;32mIn[46], line 102\u001b[0m\n\u001b[0;32m     99\u001b[0m \u001b[38;5;66;03m# 두 번째 그룹 상품 수집\u001b[39;00m\n\u001b[0;32m    100\u001b[0m \u001b[38;5;28;01mfor\u001b[39;00m i \u001b[38;5;129;01min\u001b[39;00m \u001b[38;5;28mrange\u001b[39m(\u001b[38;5;241m1\u001b[39m, \u001b[38;5;241m1110\u001b[39m):\n\u001b[0;32m    101\u001b[0m     \u001b[38;5;66;03m# 먼저 해당 요소로 스크롤\u001b[39;00m\n\u001b[1;32m--> 102\u001b[0m     \u001b[38;5;28;01mif\u001b[39;00m \u001b[38;5;129;01mnot\u001b[39;00m scroll_to_element(driver, i):\n\u001b[0;32m    103\u001b[0m         \u001b[38;5;28;01mbreak\u001b[39;00m\n\u001b[0;32m    105\u001b[0m     \u001b[38;5;28;01mtry\u001b[39;00m:\n\u001b[0;32m    106\u001b[0m         \u001b[38;5;66;03m# 상품명\u001b[39;00m\n",
      "Cell \u001b[1;32mIn[46], line 89\u001b[0m, in \u001b[0;36mscroll_to_element\u001b[1;34m(driver, i)\u001b[0m\n\u001b[0;32m     86\u001b[0m driver\u001b[38;5;241m.\u001b[39mexecute_script(\u001b[38;5;124m\"\u001b[39m\u001b[38;5;124marguments[0].scrollIntoView(true);\u001b[39m\u001b[38;5;124m\"\u001b[39m, element)\n\u001b[0;32m     88\u001b[0m \u001b[38;5;66;03m# 추가로 약간 위로 스크롤 (헤더에 가려지지 않도록)\u001b[39;00m\n\u001b[1;32m---> 89\u001b[0m driver\u001b[38;5;241m.\u001b[39mexecute_script(\u001b[38;5;124m\"\u001b[39m\u001b[38;5;124mwindow.scrollBy(0, -100);\u001b[39m\u001b[38;5;124m\"\u001b[39m)\n\u001b[0;32m     91\u001b[0m \u001b[38;5;66;03m# 새로운 컨텐츠가 로드될 때까지 대기\u001b[39;00m\n\u001b[0;32m     92\u001b[0m time\u001b[38;5;241m.\u001b[39msleep(\u001b[38;5;241m1\u001b[39m)\n",
      "File \u001b[1;32m~\\anaconda3\\Lib\\site-packages\\selenium\\webdriver\\remote\\webdriver.py:444\u001b[0m, in \u001b[0;36mWebDriver.execute_script\u001b[1;34m(self, script, *args)\u001b[0m\n\u001b[0;32m    441\u001b[0m converted_args \u001b[38;5;241m=\u001b[39m \u001b[38;5;28mlist\u001b[39m(args)\n\u001b[0;32m    442\u001b[0m command \u001b[38;5;241m=\u001b[39m Command\u001b[38;5;241m.\u001b[39mW3C_EXECUTE_SCRIPT\n\u001b[1;32m--> 444\u001b[0m \u001b[38;5;28;01mreturn\u001b[39;00m \u001b[38;5;28mself\u001b[39m\u001b[38;5;241m.\u001b[39mexecute(command, {\u001b[38;5;124m\"\u001b[39m\u001b[38;5;124mscript\u001b[39m\u001b[38;5;124m\"\u001b[39m: script, \u001b[38;5;124m\"\u001b[39m\u001b[38;5;124margs\u001b[39m\u001b[38;5;124m\"\u001b[39m: converted_args})[\u001b[38;5;124m\"\u001b[39m\u001b[38;5;124mvalue\u001b[39m\u001b[38;5;124m\"\u001b[39m]\n",
      "File \u001b[1;32m~\\anaconda3\\Lib\\site-packages\\selenium\\webdriver\\remote\\webdriver.py:384\u001b[0m, in \u001b[0;36mWebDriver.execute\u001b[1;34m(self, driver_command, params)\u001b[0m\n\u001b[0;32m    382\u001b[0m response \u001b[38;5;241m=\u001b[39m \u001b[38;5;28mself\u001b[39m\u001b[38;5;241m.\u001b[39mcommand_executor\u001b[38;5;241m.\u001b[39mexecute(driver_command, params)\n\u001b[0;32m    383\u001b[0m \u001b[38;5;28;01mif\u001b[39;00m response:\n\u001b[1;32m--> 384\u001b[0m     \u001b[38;5;28mself\u001b[39m\u001b[38;5;241m.\u001b[39merror_handler\u001b[38;5;241m.\u001b[39mcheck_response(response)\n\u001b[0;32m    385\u001b[0m     response[\u001b[38;5;124m\"\u001b[39m\u001b[38;5;124mvalue\u001b[39m\u001b[38;5;124m\"\u001b[39m] \u001b[38;5;241m=\u001b[39m \u001b[38;5;28mself\u001b[39m\u001b[38;5;241m.\u001b[39m_unwrap_value(response\u001b[38;5;241m.\u001b[39mget(\u001b[38;5;124m\"\u001b[39m\u001b[38;5;124mvalue\u001b[39m\u001b[38;5;124m\"\u001b[39m, \u001b[38;5;28;01mNone\u001b[39;00m))\n\u001b[0;32m    386\u001b[0m     \u001b[38;5;28;01mreturn\u001b[39;00m response\n",
      "File \u001b[1;32m~\\anaconda3\\Lib\\site-packages\\selenium\\webdriver\\remote\\errorhandler.py:232\u001b[0m, in \u001b[0;36mErrorHandler.check_response\u001b[1;34m(self, response)\u001b[0m\n\u001b[0;32m    230\u001b[0m         alert_text \u001b[38;5;241m=\u001b[39m value[\u001b[38;5;124m\"\u001b[39m\u001b[38;5;124malert\u001b[39m\u001b[38;5;124m\"\u001b[39m]\u001b[38;5;241m.\u001b[39mget(\u001b[38;5;124m\"\u001b[39m\u001b[38;5;124mtext\u001b[39m\u001b[38;5;124m\"\u001b[39m)\n\u001b[0;32m    231\u001b[0m     \u001b[38;5;28;01mraise\u001b[39;00m exception_class(message, screen, stacktrace, alert_text)  \u001b[38;5;66;03m# type: ignore[call-arg]  # mypy is not smart enough here\u001b[39;00m\n\u001b[1;32m--> 232\u001b[0m \u001b[38;5;28;01mraise\u001b[39;00m exception_class(message, screen, stacktrace)\n",
      "\u001b[1;31mWebDriverException\u001b[0m: Message: disconnected: unable to send message to renderer\n  (failed to check if window was closed: disconnected: not connected to DevTools)\n  (Session info: chrome=131.0.6778.205)\nStacktrace:\n\t(No symbol) [0x00007FFD0A6B1ECC]\n\tGetHandleVerifier [0x00007FF61F7CFB05+28789]\n\t(No symbol) [0x00007FF61F7386E0]\n\t(No symbol) [0x00007FF61F5D592A]\n\t(No symbol) [0x00007FF61F5C290C]\n\t(No symbol) [0x00007FF61F5C287C]\n\t(No symbol) [0x00007FF61F5C0F6B]\n\t(No symbol) [0x00007FF61F5C1D1F]\n\t(No symbol) [0x00007FF61F5D9F31]\n\t(No symbol) [0x00007FF61F5DAA1A]\n\t(No symbol) [0x00007FF61F5DF4BF]\n\t(No symbol) [0x00007FF61F670910]\n\t(No symbol) [0x00007FF61F64F43A]\n\t(No symbol) [0x00007FF61F66F654]\n\t(No symbol) [0x00007FF61F64F1E3]\n\t(No symbol) [0x00007FF61F61A938]\n\t(No symbol) [0x00007FF61F61BAA1]\n\tGetHandleVerifier [0x00007FF61FB0933D+3410093]\n\tGetHandleVerifier [0x00007FF61FB1E7DD+3497293]\n\tGetHandleVerifier [0x00007FF61FB12A73+3448803]\n\tGetHandleVerifier [0x00007FF61F897BBB+848171]\n\t(No symbol) [0x00007FF61F743C3F]\n\t(No symbol) [0x00007FF61F73F6E4]\n\t(No symbol) [0x00007FF61F73F87D]\n\t(No symbol) [0x00007FF61F72ED49]\n\tExitProcess [0x00007FFD07C5F95C+953884]\n\tExitProcess [0x00007FFD07BE0578+432696]\n\t(No symbol) [0x00007FFD0A5EBEF0]\n"
     ]
    }
   ],
   "source": [
    "from selenium.webdriver.support.ui import WebDriverWait\n",
    "from selenium.webdriver.support import expected_conditions as EC\n",
    "from selenium.common.exceptions import TimeoutException\n",
    "\n",
    "# WebDriverWait 객체 생성 (최대 60초 대기)\n",
    "wait = WebDriverWait(driver, 3)\n",
    "\n",
    "product_list = []\n",
    "\n",
    "# 첫 번째 그룹 (변경 없음)\n",
    "for i in range(1, 5):\n",
    "    try:\n",
    "        # 상품명\n",
    "        product_name = wait.until(\n",
    "            EC.presence_of_element_located((By.CSS_SELECTOR, f\"#site-wrapper > div.content-container.bannerUnderLine.css-130pxjn.e6c4o0v6 > div.infinite-scroll-component__outerdiv > div > div:nth-child(1) > div:nth-child({i}) > div.detailInfoWrap > div.detailInfo > a > p\"))\n",
    "        ).text\n",
    "        \n",
    "        # 가격\n",
    "        price_text = wait.until(\n",
    "            EC.presence_of_element_located((By.CSS_SELECTOR, f\"#site-wrapper > div.content-container.bannerUnderLine.css-130pxjn.e6c4o0v6 > div.infinite-scroll-component__outerdiv > div > div:nth-child(1) > div:nth-child({i}) > div.detailInfoWrap > div.detailInfo > div.priceWrap > div > strong\"))\n",
    "        ).text\n",
    "        price = int(price_text.replace(\",\", \"\"))\n",
    "\n",
    "        # 별점\n",
    "        try:\n",
    "            rating_text = wait.until(\n",
    "                EC.presence_of_element_located((By.CSS_SELECTOR, f\"#site-wrapper > div.content-container.bannerUnderLine.css-130pxjn.e6c4o0v6 > div.infinite-scroll-component__outerdiv > div > div:nth-child(1) > div:nth-child({i}) > div.detailInfoWrap > div.detailInfo > div.prodScoreWrap > span.score\"))\n",
    "            ).text\n",
    "            rating = float(rating_text)\n",
    "        except:\n",
    "            rating = None\n",
    "            \n",
    "        # 리뷰수\n",
    "        try:\n",
    "            review_text = wait.until(\n",
    "                EC.presence_of_element_located((By.CSS_SELECTOR, f\"#site-wrapper > div.content-container.bannerUnderLine.css-130pxjn.e6c4o0v6 > div.infinite-scroll-component__outerdiv > div > div:nth-child(1) > div:nth-child({i}) > div.detailInfoWrap > div.detailInfo > div.prodScoreWrap > span.reviewCnt\"))\n",
    "            ).text\n",
    "            review_count = int(review_text.replace(\"/\", \"\").replace(\",\", \"\"))\n",
    "        except:\n",
    "            review_count = 0\n",
    "            \n",
    "        # 판매수량\n",
    "        try:\n",
    "            sale_count_text = wait.until(\n",
    "                EC.presence_of_element_located((By.CSS_SELECTOR, f\"#site-wrapper > div.content-container.bannerUnderLine.css-130pxjn.e6c4o0v6 > div.infinite-scroll-component__outerdiv > div > div:nth-child(1) > div:nth-child({i}) > div.detailInfoWrap > div.detailInfo > div.prodScoreWrap > span.saleCount\"))\n",
    "            ).text\n",
    "            sale_count = int(sale_count_text.replace(\",\", \"\"))\n",
    "        except:\n",
    "            sale_count = 0\n",
    "\n",
    "        # 100g당 가격\n",
    "        try:\n",
    "            g_100_price = wait.until(\n",
    "                EC.presence_of_element_located((By.CSS_SELECTOR, f\"#site-wrapper > div.content-container.bannerUnderLine.css-130pxjn.e6c4o0v6 > div.infinite-scroll-component__outerdiv > div > div:nth-child(1) > div:nth-child({i}) > div.detailInfoWrap > div.detailInfo > div.priceQty > span\"))\n",
    "            ).text\n",
    "            g100price_count = int(g_100_price.replace(\",\", \"\"))\n",
    "        except:\n",
    "            g100price_count = 0\n",
    "        \n",
    "        # 수집된 데이터 저장\n",
    "        product_data = {\n",
    "            '상품명': product_name,\n",
    "            '가격': price,\n",
    "            '별점': rating,\n",
    "            '리뷰수': review_count,\n",
    "            '판매수량': sale_count,\n",
    "            '100g당가격': g100price_count\n",
    "        }\n",
    "        product_list.append(product_data)\n",
    "        print(f\"첫 번째 그룹 {i}번째 상품 수집 완료\")\n",
    "        \n",
    "    except Exception as e:\n",
    "        print(f\"첫 번째 그룹 {i}번째 상품 수집 실패: {e}\")\n",
    "        continue\n",
    "\n",
    "# 두 번째 그룹 (스크롤 처리 추가)\n",
    "def scroll_to_element(driver, i):\n",
    "    try:\n",
    "        # i번째 요소의 CSS 선택자\n",
    "        element_selector = f\"#site-wrapper > div.content-container.bannerUnderLine.css-130pxjn.e6c4o0v6 > div.infinite-scroll-component__outerdiv > div > div:nth-child(2) > div:nth-child({i})\"\n",
    "        \n",
    "        # 요소가 있는 위치로 스크롤\n",
    "        element = WebDriverWait(driver, 10).until(\n",
    "            EC.presence_of_element_located((By.CSS_SELECTOR, element_selector))\n",
    "        )\n",
    "        driver.execute_script(\"arguments[0].scrollIntoView(true);\", element)\n",
    "        \n",
    "        # 추가로 약간 위로 스크롤 (헤더에 가려지지 않도록)\n",
    "        driver.execute_script(\"window.scrollBy(0, -100);\")\n",
    "        \n",
    "        # 새로운 컨텐츠가 로드될 때까지 대기\n",
    "        time.sleep(1)\n",
    "        \n",
    "        return True\n",
    "    except TimeoutException:\n",
    "        print(f\"요소 {i}를 찾을 수 없습니다. 더 이상 상품이 없을 수 있습니다.\")\n",
    "        return False\n",
    "\n",
    "# 두 번째 그룹 상품 수집\n",
    "for i in range(1, 1110):\n",
    "    # 먼저 해당 요소로 스크롤\n",
    "    if not scroll_to_element(driver, i):\n",
    "        break\n",
    "        \n",
    "    try:\n",
    "        # 상품명\n",
    "        product_name = wait.until(\n",
    "            EC.presence_of_element_located((By.CSS_SELECTOR, f\"#site-wrapper > div.content-container.bannerUnderLine.css-130pxjn.e6c4o0v6 > div.infinite-scroll-component__outerdiv > div > div:nth-child(2) > div:nth-child({i}) > div.detailInfoWrap > div.detailInfo > a > p\"))\n",
    "        ).text\n",
    "        \n",
    "        # 가격\n",
    "        price_text = wait.until(\n",
    "            EC.presence_of_element_located((By.CSS_SELECTOR, f\"#site-wrapper > div.content-container.bannerUnderLine.css-130pxjn.e6c4o0v6 > div.infinite-scroll-component__outerdiv > div > div:nth-child(2) > div:nth-child({i}) > div.detailInfoWrap > div.detailInfo > div.priceWrap > div > strong\"))\n",
    "        ).text\n",
    "        price = int(price_text.replace(\",\", \"\"))\n",
    "\n",
    "        # 별점\n",
    "        try:\n",
    "            rating_text = wait.until(\n",
    "                EC.presence_of_element_located((By.CSS_SELECTOR, f\"#site-wrapper > div.content-container.bannerUnderLine.css-130pxjn.e6c4o0v6 > div.infinite-scroll-component__outerdiv > div > div:nth-child(2) > div:nth-child({i}) > div.detailInfoWrap > div.detailInfo > div.prodScoreWrap > span.score\"))\n",
    "            ).text\n",
    "            rating = float(rating_text)\n",
    "        except:\n",
    "            rating = None\n",
    "            \n",
    "        # 리뷰수\n",
    "        try:\n",
    "            review_text = wait.until(\n",
    "                EC.presence_of_element_located((By.CSS_SELECTOR, f\"#site-wrapper > div.content-container.bannerUnderLine.css-130pxjn.e6c4o0v6 > div.infinite-scroll-component__outerdiv > div > div:nth-child(2) > div:nth-child({i}) > div.detailInfoWrap > div.detailInfo > div.prodScoreWrap > span.reviewCnt\"))\n",
    "            ).text\n",
    "            review_count = int(review_text.replace(\"/\", \"\").replace(\",\", \"\"))\n",
    "        except:\n",
    "            review_count = 0\n",
    "            \n",
    "        # 판매수량\n",
    "        try:\n",
    "            sale_count_text = wait.until(\n",
    "                EC.presence_of_element_located((By.CSS_SELECTOR, f\"#site-wrapper > div.content-container.bannerUnderLine.css-130pxjn.e6c4o0v6 > div.infinite-scroll-component__outerdiv > div > div:nth-child(2) > div:nth-child({i}) > div.detailInfoWrap > div.detailInfo > div.prodScoreWrap > span.saleCount\"))\n",
    "            ).text\n",
    "            sale_count = int(sale_count_text.replace(\",\", \"\"))\n",
    "        except:\n",
    "            sale_count = 0\n",
    "\n",
    "        # 100g당 가격\n",
    "        try:\n",
    "            g_100_price = wait.until(\n",
    "                EC.presence_of_element_located((By.CSS_SELECTOR, f\"#site-wrapper > div.content-container.bannerUnderLine.css-130pxjn.e6c4o0v6 > div.infinite-scroll-component__outerdiv > div > div:nth-child(2) > div:nth-child({i}) > div.detailInfoWrap > div.detailInfo > div.priceQty > span\"))\n",
    "            ).text\n",
    "            g100price_count = int(g_100_price.replace(\",\", \"\"))\n",
    "        except:\n",
    "            g100price_count = 0\n",
    "        \n",
    "        # 수집된 데이터 저장\n",
    "        product_data = {\n",
    "            '상품명': product_name,\n",
    "            '가격': price,\n",
    "            '별점': rating,\n",
    "            '리뷰수': review_count,\n",
    "            '판매수량': sale_count,\n",
    "            '100g당가격': g100price_count\n",
    "        }\n",
    "        product_list.append(product_data)\n",
    "        if i % 50 == 0:\n",
    "            print(f\"두 번째 그룹 {i}번째 상품 수집 완료\")\n",
    "        \n",
    "    except Exception as e:\n",
    "        print(f\"두 번째 그룹 {i}번째 상품 수집 실패: {e}\")\n",
    "        continue\n",
    "\n",
    "# DataFrame 생성\n",
    "df = pd.DataFrame(product_list)\n"
   ]
  },
  {
   "cell_type": "markdown",
   "id": "fffa787d-e1ba-45b4-a243-d3fd0b8b28bb",
   "metadata": {},
   "source": [
    "### 데이터 확인"
   ]
  },
  {
   "cell_type": "code",
   "execution_count": 43,
   "id": "f48b3283-b5b5-4887-ad88-8239a3099222",
   "metadata": {
    "scrolled": true
   },
   "outputs": [
    {
     "data": {
      "text/html": [
       "<div>\n",
       "<style scoped>\n",
       "    .dataframe tbody tr th:only-of-type {\n",
       "        vertical-align: middle;\n",
       "    }\n",
       "\n",
       "    .dataframe tbody tr th {\n",
       "        vertical-align: top;\n",
       "    }\n",
       "\n",
       "    .dataframe thead th {\n",
       "        text-align: right;\n",
       "    }\n",
       "</style>\n",
       "<table border=\"1\" class=\"dataframe\">\n",
       "  <thead>\n",
       "    <tr style=\"text-align: right;\">\n",
       "      <th></th>\n",
       "      <th>상품명</th>\n",
       "      <th>가격</th>\n",
       "      <th>별점</th>\n",
       "      <th>리뷰수</th>\n",
       "      <th>판매수량</th>\n",
       "      <th>100g당가격</th>\n",
       "      <th>온라인판매금액</th>\n",
       "    </tr>\n",
       "  </thead>\n",
       "  <tbody>\n",
       "    <tr>\n",
       "      <th>1111</th>\n",
       "      <td>청정원 포테이토 돈카츠 통등심 390g</td>\n",
       "      <td>8980</td>\n",
       "      <td>NaN</td>\n",
       "      <td>0</td>\n",
       "      <td>0</td>\n",
       "      <td>0</td>\n",
       "      <td>0</td>\n",
       "    </tr>\n",
       "    <tr>\n",
       "      <th>1112</th>\n",
       "      <td>청정원 중화풍볶음소스 2kg /식자재/대용량</td>\n",
       "      <td>15560</td>\n",
       "      <td>NaN</td>\n",
       "      <td>0</td>\n",
       "      <td>0</td>\n",
       "      <td>0</td>\n",
       "      <td>0</td>\n",
       "    </tr>\n",
       "    <tr>\n",
       "      <th>1113</th>\n",
       "      <td>[밀키트] 홈밀 채선당 소고기 샤브샤브 845G</td>\n",
       "      <td>9990</td>\n",
       "      <td>4.8</td>\n",
       "      <td>944</td>\n",
       "      <td>6912</td>\n",
       "      <td>1182</td>\n",
       "      <td>69050880</td>\n",
       "    </tr>\n",
       "    <tr>\n",
       "      <th>1114</th>\n",
       "      <td>[밀키트] 홈밀 알탕 873G</td>\n",
       "      <td>9990</td>\n",
       "      <td>4.7</td>\n",
       "      <td>302</td>\n",
       "      <td>1848</td>\n",
       "      <td>1144</td>\n",
       "      <td>18461520</td>\n",
       "    </tr>\n",
       "    <tr>\n",
       "      <th>1115</th>\n",
       "      <td>홈밀 북엇국 500G</td>\n",
       "      <td>4990</td>\n",
       "      <td>4.8</td>\n",
       "      <td>116</td>\n",
       "      <td>251</td>\n",
       "      <td>998</td>\n",
       "      <td>1252490</td>\n",
       "    </tr>\n",
       "  </tbody>\n",
       "</table>\n",
       "</div>"
      ],
      "text/plain": [
       "                             상품명     가격   별점  리뷰수  판매수량  100g당가격   온라인판매금액\n",
       "1111       청정원 포테이토 돈카츠 통등심 390g   8980  NaN    0     0        0         0\n",
       "1112    청정원 중화풍볶음소스 2kg /식자재/대용량  15560  NaN    0     0        0         0\n",
       "1113  [밀키트] 홈밀 채선당 소고기 샤브샤브 845G   9990  4.8  944  6912     1182  69050880\n",
       "1114            [밀키트] 홈밀 알탕 873G   9990  4.7  302  1848     1144  18461520\n",
       "1115                 홈밀 북엇국 500G   4990  4.8  116   251      998   1252490"
      ]
     },
     "execution_count": 43,
     "metadata": {},
     "output_type": "execute_result"
    }
   ],
   "source": [
    "df.tail()"
   ]
  },
  {
   "cell_type": "code",
   "execution_count": 42,
   "id": "68d8c0e7-7d5a-47a5-9dec-d7e329efe478",
   "metadata": {},
   "outputs": [],
   "source": [
    "df[\"온라인판매금액\"] = df[\"가격\"] * df[\"판매수량\"]"
   ]
  },
  {
   "cell_type": "code",
   "execution_count": 44,
   "id": "a68086b5-8f88-420d-a653-2cec770e9c0d",
   "metadata": {},
   "outputs": [],
   "source": [
    "df[\"100g당판매금액\"] = df[\"100g당가격\"] * df[\"판매수량\"]"
   ]
  },
  {
   "cell_type": "code",
   "execution_count": 45,
   "id": "204bfeb3-4374-4db0-a253-0f3074536dfe",
   "metadata": {},
   "outputs": [
    {
     "data": {
      "text/html": [
       "<div>\n",
       "<style scoped>\n",
       "    .dataframe tbody tr th:only-of-type {\n",
       "        vertical-align: middle;\n",
       "    }\n",
       "\n",
       "    .dataframe tbody tr th {\n",
       "        vertical-align: top;\n",
       "    }\n",
       "\n",
       "    .dataframe thead th {\n",
       "        text-align: right;\n",
       "    }\n",
       "</style>\n",
       "<table border=\"1\" class=\"dataframe\">\n",
       "  <thead>\n",
       "    <tr style=\"text-align: right;\">\n",
       "      <th></th>\n",
       "      <th>상품명</th>\n",
       "      <th>가격</th>\n",
       "      <th>별점</th>\n",
       "      <th>리뷰수</th>\n",
       "      <th>판매수량</th>\n",
       "      <th>100g당가격</th>\n",
       "      <th>온라인판매금액</th>\n",
       "      <th>100g당판매금액</th>\n",
       "    </tr>\n",
       "  </thead>\n",
       "  <tbody>\n",
       "    <tr>\n",
       "      <th>0</th>\n",
       "      <td>애슐리 오리지널 통살치킨 500G</td>\n",
       "      <td>8990</td>\n",
       "      <td>4.7</td>\n",
       "      <td>6922</td>\n",
       "      <td>65428</td>\n",
       "      <td>1798</td>\n",
       "      <td>588197720</td>\n",
       "      <td>117639544</td>\n",
       "    </tr>\n",
       "    <tr>\n",
       "      <th>1</th>\n",
       "      <td>하코야 통 치즈 돈까스 350G</td>\n",
       "      <td>10900</td>\n",
       "      <td>4.8</td>\n",
       "      <td>7121</td>\n",
       "      <td>20368</td>\n",
       "      <td>3114</td>\n",
       "      <td>222011200</td>\n",
       "      <td>63425952</td>\n",
       "    </tr>\n",
       "    <tr>\n",
       "      <th>2</th>\n",
       "      <td>하코야 통 고구마 치즈 돈까스 280G</td>\n",
       "      <td>10900</td>\n",
       "      <td>4.8</td>\n",
       "      <td>1570</td>\n",
       "      <td>12257</td>\n",
       "      <td>3893</td>\n",
       "      <td>133601300</td>\n",
       "      <td>47716501</td>\n",
       "    </tr>\n",
       "    <tr>\n",
       "      <th>3</th>\n",
       "      <td>투다리 김치오뎅전골 653G</td>\n",
       "      <td>15900</td>\n",
       "      <td>4.7</td>\n",
       "      <td>1091</td>\n",
       "      <td>12087</td>\n",
       "      <td>2435</td>\n",
       "      <td>192183300</td>\n",
       "      <td>29431845</td>\n",
       "    </tr>\n",
       "    <tr>\n",
       "      <th>4</th>\n",
       "      <td>[밀키트] 홈밀 채선당 소고기 샤브샤브 845G</td>\n",
       "      <td>9990</td>\n",
       "      <td>4.8</td>\n",
       "      <td>944</td>\n",
       "      <td>6846</td>\n",
       "      <td>1182</td>\n",
       "      <td>68391540</td>\n",
       "      <td>8091972</td>\n",
       "    </tr>\n",
       "  </tbody>\n",
       "</table>\n",
       "</div>"
      ],
      "text/plain": [
       "                          상품명     가격   별점   리뷰수   판매수량  100g당가격    온라인판매금액  \\\n",
       "0          애슐리 오리지널 통살치킨 500G   8990  4.7  6922  65428     1798  588197720   \n",
       "1           하코야 통 치즈 돈까스 350G  10900  4.8  7121  20368     3114  222011200   \n",
       "2       하코야 통 고구마 치즈 돈까스 280G  10900  4.8  1570  12257     3893  133601300   \n",
       "3             투다리 김치오뎅전골 653G  15900  4.7  1091  12087     2435  192183300   \n",
       "4  [밀키트] 홈밀 채선당 소고기 샤브샤브 845G   9990  4.8   944   6846     1182   68391540   \n",
       "\n",
       "   100g당판매금액  \n",
       "0  117639544  \n",
       "1   63425952  \n",
       "2   47716501  \n",
       "3   29431845  \n",
       "4    8091972  "
      ]
     },
     "execution_count": 45,
     "metadata": {},
     "output_type": "execute_result"
    }
   ],
   "source": [
    "df.head()"
   ]
  },
  {
   "cell_type": "code",
   "execution_count": 107,
   "id": "d994c358-bfb9-4762-9c67-e48b2e9c991a",
   "metadata": {
    "scrolled": true
   },
   "outputs": [],
   "source": [
    "#데이터 csv파일로 출력하기\n",
    "df.to_csv('homplus_mealkit_data2.csv', encoding = 'cp949', index=False)"
   ]
  },
  {
   "cell_type": "markdown",
   "id": "f2327ebf-dea8-4b3b-886e-3bcac1baaad0",
   "metadata": {},
   "source": [
    "## 데이터 정제"
   ]
  },
  {
   "cell_type": "markdown",
   "id": "2752ae7e-6de4-4ecb-a423-7f0f540bbc46",
   "metadata": {
    "jp-MarkdownHeadingCollapsed": true
   },
   "source": [
    "### 질문 : 아래 상품명 데이터를 가지고 상품 카테고리를 어떻게 나눠야 할지 모르겠음 \n",
    "* 지혜님 의견 : 굳이 카테고리를 나누는 것보다는 패스트 팔로워 관점에서 잘나가는 상품 3~4개만 집중해보자"
   ]
  },
  {
   "cell_type": "code",
   "execution_count": 36,
   "id": "78c9b36b-46e3-4ce3-88b2-555d2d97ef3a",
   "metadata": {},
   "outputs": [],
   "source": [
    "file_path = r\"C:\\Users\\eunju\\Downloads\\TB_RECIPE_SEARCH_241226.csv\"\n",
    "df2 = pd.read_csv(file_path, encoding = 'utf-8')"
   ]
  },
  {
   "cell_type": "code",
   "execution_count": 37,
   "id": "33f36407-feb3-4e2f-b8fc-e9cb69c47cf5",
   "metadata": {},
   "outputs": [
    {
     "data": {
      "text/html": [
       "<div>\n",
       "<style scoped>\n",
       "    .dataframe tbody tr th:only-of-type {\n",
       "        vertical-align: middle;\n",
       "    }\n",
       "\n",
       "    .dataframe tbody tr th {\n",
       "        vertical-align: top;\n",
       "    }\n",
       "\n",
       "    .dataframe thead th {\n",
       "        text-align: right;\n",
       "    }\n",
       "</style>\n",
       "<table border=\"1\" class=\"dataframe\">\n",
       "  <thead>\n",
       "    <tr style=\"text-align: right;\">\n",
       "      <th></th>\n",
       "      <th>RCP_SNO</th>\n",
       "      <th>RCP_TTL</th>\n",
       "      <th>CKG_NM</th>\n",
       "      <th>RGTR_ID</th>\n",
       "      <th>RGTR_NM</th>\n",
       "      <th>INQ_CNT</th>\n",
       "      <th>RCMM_CNT</th>\n",
       "      <th>SRAP_CNT</th>\n",
       "      <th>CKG_MTH_ACTO_NM</th>\n",
       "      <th>CKG_STA_ACTO_NM</th>\n",
       "      <th>CKG_MTRL_ACTO_NM</th>\n",
       "      <th>CKG_KND_ACTO_NM</th>\n",
       "      <th>CKG_IPDC</th>\n",
       "      <th>CKG_MTRL_CN</th>\n",
       "      <th>CKG_INBUN_NM</th>\n",
       "      <th>CKG_DODF_NM</th>\n",
       "      <th>CKG_TIME_NM</th>\n",
       "      <th>FIRST_REG_DT</th>\n",
       "      <th>RCP_IMG_URL</th>\n",
       "    </tr>\n",
       "  </thead>\n",
       "  <tbody>\n",
       "    <tr>\n",
       "      <th>0</th>\n",
       "      <td>7016813</td>\n",
       "      <td>멸치육수 소고기 떡국 만드는법</td>\n",
       "      <td>소고기떡국</td>\n",
       "      <td>ranch6356</td>\n",
       "      <td>반이짝이</td>\n",
       "      <td>743</td>\n",
       "      <td>0</td>\n",
       "      <td>2</td>\n",
       "      <td>끓이기</td>\n",
       "      <td>명절</td>\n",
       "      <td>소고기</td>\n",
       "      <td>국/탕</td>\n",
       "      <td>새해가 되면 뜨끈한 떡국 한 그릇이 생각나는데요. 오늘은 집에서 간단하게 요리할 수...</td>\n",
       "      <td>[재료] 떡국떡\u0007400\u0007g\u0007| 다진소고기\u0007100\u0007g\u0007| 멸치육수\u0007800\u0007ml\u0007| 대...</td>\n",
       "      <td>2인분</td>\n",
       "      <td>초급</td>\n",
       "      <td>NaN</td>\n",
       "      <td>20240101000857</td>\n",
       "      <td>https://recipe1.ezmember.co.kr/cache/recipe/20...</td>\n",
       "    </tr>\n",
       "    <tr>\n",
       "      <th>1</th>\n",
       "      <td>7016814</td>\n",
       "      <td>#수육용삼겹살 #된장수육만들기 #일상먹거리 #무생채와함께먹는된장수육</td>\n",
       "      <td>된장수육</td>\n",
       "      <td>kstencil</td>\n",
       "      <td>강철새잎</td>\n",
       "      <td>1396</td>\n",
       "      <td>0</td>\n",
       "      <td>1</td>\n",
       "      <td>삶기</td>\n",
       "      <td>술안주</td>\n",
       "      <td>돼지고기</td>\n",
       "      <td>메인반찬</td>\n",
       "      <td>수육용 삼겹살을 사다가 된장과 술을 넣고 일상먹거리 수육한접시를 만들어 주었습니다....</td>\n",
       "      <td>[재료] 돼지고기 수육용삼겹살\u0007500\u0007g\u0007| 된장\u00071.5\u0007큰술\u0007| 술\u00074\u0007큰술\u0007| ...</td>\n",
       "      <td>2인분</td>\n",
       "      <td>아무나</td>\n",
       "      <td>2시간이내</td>\n",
       "      <td>20240101002917</td>\n",
       "      <td>https://recipe1.ezmember.co.kr/cache/recipe/20...</td>\n",
       "    </tr>\n",
       "    <tr>\n",
       "      <th>2</th>\n",
       "      <td>7016815</td>\n",
       "      <td>우거지감자탕 뼈해장국 끓이는법</td>\n",
       "      <td>우거지감자탕</td>\n",
       "      <td>87771622</td>\n",
       "      <td>김한솔</td>\n",
       "      <td>4008</td>\n",
       "      <td>0</td>\n",
       "      <td>29</td>\n",
       "      <td>끓이기</td>\n",
       "      <td>해장</td>\n",
       "      <td>돼지고기</td>\n",
       "      <td>국/탕</td>\n",
       "      <td>까다로운 남편의 입맛을 맞추기위해 여러번 시도끝에 만들어낸 최적의 레시피입니다. 한...</td>\n",
       "      <td>[재료] 돼지등뼈\u00071.5\u0007kg\u0007| 양파\u00071/2\u0007개\u0007| 감자\u00071\u0007개\u0007| 대파\u00071\u0007대\u0007...</td>\n",
       "      <td>4인분</td>\n",
       "      <td>중급</td>\n",
       "      <td>2시간이내</td>\n",
       "      <td>20240101020501</td>\n",
       "      <td>https://recipe1.ezmember.co.kr/cache/recipe/20...</td>\n",
       "    </tr>\n",
       "    <tr>\n",
       "      <th>3</th>\n",
       "      <td>7016816</td>\n",
       "      <td>만두전골 레시피 백종원 만두 전골요리 뜨끈하고 진한 국물이 일품</td>\n",
       "      <td>만두전골</td>\n",
       "      <td>aeaelove</td>\n",
       "      <td>춤추는루나</td>\n",
       "      <td>6350</td>\n",
       "      <td>0</td>\n",
       "      <td>6</td>\n",
       "      <td>끓이기</td>\n",
       "      <td>손님접대</td>\n",
       "      <td>가공식품류</td>\n",
       "      <td>국/탕</td>\n",
       "      <td>속이 꽉 찬 만두가 듬뿍 푸짐한 백종원 만두전골 만두전골 레시피 만두 요리는 다양한...</td>\n",
       "      <td>[재료] 만두\u000712\u0007개\u0007| 청경채\u00073\u0007개\u0007| 양파\u00071/2\u0007개\u0007| 대파\u00071/2\u0007개\u0007|...</td>\n",
       "      <td>4인분</td>\n",
       "      <td>초급</td>\n",
       "      <td>60분이내</td>\n",
       "      <td>20240101073609</td>\n",
       "      <td>https://recipe1.ezmember.co.kr/cache/recipe/20...</td>\n",
       "    </tr>\n",
       "    <tr>\n",
       "      <th>4</th>\n",
       "      <td>7016817</td>\n",
       "      <td>새해 통삼겹살 무수분 보쌈 삶는법 백종원 보쌈 마늘소스 만들기</td>\n",
       "      <td>무수분보쌈</td>\n",
       "      <td>aeaelove</td>\n",
       "      <td>춤추는루나</td>\n",
       "      <td>1829</td>\n",
       "      <td>0</td>\n",
       "      <td>6</td>\n",
       "      <td>삶기</td>\n",
       "      <td>손님접대</td>\n",
       "      <td>돼지고기</td>\n",
       "      <td>메인반찬</td>\n",
       "      <td>촉촉하고 부드러운 통삼겹살 무수분 보쌈 삶는법 무수분 보쌈 삶는 시간 백종원 보쌈 ...</td>\n",
       "      <td>[재료] 통삼겹살\u0007600\u0007g\u0007| 양파\u00071\u0007개\u0007| 못난이 사과 小\u00072\u0007개\u0007| 대파\u00072...</td>\n",
       "      <td>4인분</td>\n",
       "      <td>초급</td>\n",
       "      <td>90분이내</td>\n",
       "      <td>20240101074507</td>\n",
       "      <td>https://recipe1.ezmember.co.kr/cache/recipe/20...</td>\n",
       "    </tr>\n",
       "  </tbody>\n",
       "</table>\n",
       "</div>"
      ],
      "text/plain": [
       "   RCP_SNO                                RCP_TTL  CKG_NM    RGTR_ID RGTR_NM  \\\n",
       "0  7016813                       멸치육수 소고기 떡국 만드는법   소고기떡국  ranch6356    반이짝이   \n",
       "1  7016814  #수육용삼겹살 #된장수육만들기 #일상먹거리 #무생채와함께먹는된장수육    된장수육   kstencil    강철새잎   \n",
       "2  7016815                       우거지감자탕 뼈해장국 끓이는법  우거지감자탕   87771622     김한솔   \n",
       "3  7016816    만두전골 레시피 백종원 만두 전골요리 뜨끈하고 진한 국물이 일품    만두전골   aeaelove   춤추는루나   \n",
       "4  7016817     새해 통삼겹살 무수분 보쌈 삶는법 백종원 보쌈 마늘소스 만들기   무수분보쌈   aeaelove   춤추는루나   \n",
       "\n",
       "   INQ_CNT  RCMM_CNT  SRAP_CNT CKG_MTH_ACTO_NM CKG_STA_ACTO_NM  \\\n",
       "0      743         0         2             끓이기              명절   \n",
       "1     1396         0         1              삶기             술안주   \n",
       "2     4008         0        29             끓이기              해장   \n",
       "3     6350         0         6             끓이기            손님접대   \n",
       "4     1829         0         6              삶기            손님접대   \n",
       "\n",
       "  CKG_MTRL_ACTO_NM CKG_KND_ACTO_NM  \\\n",
       "0              소고기             국/탕   \n",
       "1             돼지고기            메인반찬   \n",
       "2             돼지고기             국/탕   \n",
       "3            가공식품류             국/탕   \n",
       "4             돼지고기            메인반찬   \n",
       "\n",
       "                                            CKG_IPDC  \\\n",
       "0  새해가 되면 뜨끈한 떡국 한 그릇이 생각나는데요. 오늘은 집에서 간단하게 요리할 수...   \n",
       "1  수육용 삼겹살을 사다가 된장과 술을 넣고 일상먹거리 수육한접시를 만들어 주었습니다....   \n",
       "2  까다로운 남편의 입맛을 맞추기위해 여러번 시도끝에 만들어낸 최적의 레시피입니다. 한...   \n",
       "3  속이 꽉 찬 만두가 듬뿍 푸짐한 백종원 만두전골 만두전골 레시피 만두 요리는 다양한...   \n",
       "4  촉촉하고 부드러운 통삼겹살 무수분 보쌈 삶는법 무수분 보쌈 삶는 시간 백종원 보쌈 ...   \n",
       "\n",
       "                                         CKG_MTRL_CN CKG_INBUN_NM CKG_DODF_NM  \\\n",
       "0  [재료] 떡국떡\u0007400\u0007g\u0007| 다진소고기\u0007100\u0007g\u0007| 멸치육수\u0007800\u0007ml\u0007| 대...          2인분          초급   \n",
       "1  [재료] 돼지고기 수육용삼겹살\u0007500\u0007g\u0007| 된장\u00071.5\u0007큰술\u0007| 술\u00074\u0007큰술\u0007| ...          2인분         아무나   \n",
       "2  [재료] 돼지등뼈\u00071.5\u0007kg\u0007| 양파\u00071/2\u0007개\u0007| 감자\u00071\u0007개\u0007| 대파\u00071\u0007대\u0007...          4인분          중급   \n",
       "3  [재료] 만두\u000712\u0007개\u0007| 청경채\u00073\u0007개\u0007| 양파\u00071/2\u0007개\u0007| 대파\u00071/2\u0007개\u0007|...          4인분          초급   \n",
       "4  [재료] 통삼겹살\u0007600\u0007g\u0007| 양파\u00071\u0007개\u0007| 못난이 사과 小\u00072\u0007개\u0007| 대파\u00072...          4인분          초급   \n",
       "\n",
       "  CKG_TIME_NM    FIRST_REG_DT  \\\n",
       "0         NaN  20240101000857   \n",
       "1       2시간이내  20240101002917   \n",
       "2       2시간이내  20240101020501   \n",
       "3       60분이내  20240101073609   \n",
       "4       90분이내  20240101074507   \n",
       "\n",
       "                                         RCP_IMG_URL  \n",
       "0  https://recipe1.ezmember.co.kr/cache/recipe/20...  \n",
       "1  https://recipe1.ezmember.co.kr/cache/recipe/20...  \n",
       "2  https://recipe1.ezmember.co.kr/cache/recipe/20...  \n",
       "3  https://recipe1.ezmember.co.kr/cache/recipe/20...  \n",
       "4  https://recipe1.ezmember.co.kr/cache/recipe/20...  "
      ]
     },
     "execution_count": 37,
     "metadata": {},
     "output_type": "execute_result"
    }
   ],
   "source": [
    "df2.head()"
   ]
  },
  {
   "cell_type": "markdown",
   "id": "6c36d765-e1e6-4736-b5d9-01e509134e47",
   "metadata": {},
   "source": [
    "### 데이터 분석"
   ]
  },
  {
   "cell_type": "code",
   "execution_count": 34,
   "id": "3f744189-b4f0-441d-9f39-07367ffd9779",
   "metadata": {},
   "outputs": [],
   "source": [
    "# 파일 경로 지정 \n",
    "file_path = r\"C:\\Users\\eunju\\Downloads\\homplus_mealkit_data2.csv\"\n",
    "\n",
    "df = pd.read_csv(file_path, encoding = 'cp949')"
   ]
  },
  {
   "cell_type": "code",
   "execution_count": 47,
   "id": "2e66ec33-7de7-4a8b-ace4-74b5a5d2eccf",
   "metadata": {},
   "outputs": [
    {
     "data": {
      "text/html": [
       "<div>\n",
       "<style scoped>\n",
       "    .dataframe tbody tr th:only-of-type {\n",
       "        vertical-align: middle;\n",
       "    }\n",
       "\n",
       "    .dataframe tbody tr th {\n",
       "        vertical-align: top;\n",
       "    }\n",
       "\n",
       "    .dataframe thead th {\n",
       "        text-align: right;\n",
       "    }\n",
       "</style>\n",
       "<table border=\"1\" class=\"dataframe\">\n",
       "  <thead>\n",
       "    <tr style=\"text-align: right;\">\n",
       "      <th></th>\n",
       "      <th>상품명</th>\n",
       "      <th>가격</th>\n",
       "      <th>별점</th>\n",
       "      <th>리뷰수</th>\n",
       "      <th>판매수량</th>\n",
       "      <th>100g당가격</th>\n",
       "      <th>온라인판매금액</th>\n",
       "      <th>100g당판매금액</th>\n",
       "    </tr>\n",
       "  </thead>\n",
       "  <tbody>\n",
       "    <tr>\n",
       "      <th>0</th>\n",
       "      <td>애슐리 오리지널 통살치킨 500G</td>\n",
       "      <td>8990</td>\n",
       "      <td>4.7</td>\n",
       "      <td>6922</td>\n",
       "      <td>65428</td>\n",
       "      <td>1798</td>\n",
       "      <td>588197720</td>\n",
       "      <td>117639544</td>\n",
       "    </tr>\n",
       "    <tr>\n",
       "      <th>1</th>\n",
       "      <td>하코야 통 치즈 돈까스 350G</td>\n",
       "      <td>10900</td>\n",
       "      <td>4.8</td>\n",
       "      <td>7121</td>\n",
       "      <td>20368</td>\n",
       "      <td>3114</td>\n",
       "      <td>222011200</td>\n",
       "      <td>63425952</td>\n",
       "    </tr>\n",
       "    <tr>\n",
       "      <th>2</th>\n",
       "      <td>하코야 통 고구마 치즈 돈까스 280G</td>\n",
       "      <td>10900</td>\n",
       "      <td>4.8</td>\n",
       "      <td>1570</td>\n",
       "      <td>12257</td>\n",
       "      <td>3893</td>\n",
       "      <td>133601300</td>\n",
       "      <td>47716501</td>\n",
       "    </tr>\n",
       "    <tr>\n",
       "      <th>3</th>\n",
       "      <td>투다리 김치오뎅전골 653G</td>\n",
       "      <td>15900</td>\n",
       "      <td>4.7</td>\n",
       "      <td>1091</td>\n",
       "      <td>12087</td>\n",
       "      <td>2435</td>\n",
       "      <td>192183300</td>\n",
       "      <td>29431845</td>\n",
       "    </tr>\n",
       "    <tr>\n",
       "      <th>4</th>\n",
       "      <td>[밀키트] 홈밀 채선당 소고기 샤브샤브 845G</td>\n",
       "      <td>9990</td>\n",
       "      <td>4.8</td>\n",
       "      <td>944</td>\n",
       "      <td>6846</td>\n",
       "      <td>1182</td>\n",
       "      <td>68391540</td>\n",
       "      <td>8091972</td>\n",
       "    </tr>\n",
       "  </tbody>\n",
       "</table>\n",
       "</div>"
      ],
      "text/plain": [
       "                          상품명     가격   별점   리뷰수   판매수량  100g당가격    온라인판매금액  \\\n",
       "0          애슐리 오리지널 통살치킨 500G   8990  4.7  6922  65428     1798  588197720   \n",
       "1           하코야 통 치즈 돈까스 350G  10900  4.8  7121  20368     3114  222011200   \n",
       "2       하코야 통 고구마 치즈 돈까스 280G  10900  4.8  1570  12257     3893  133601300   \n",
       "3             투다리 김치오뎅전골 653G  15900  4.7  1091  12087     2435  192183300   \n",
       "4  [밀키트] 홈밀 채선당 소고기 샤브샤브 845G   9990  4.8   944   6846     1182   68391540   \n",
       "\n",
       "   100g당판매금액  \n",
       "0  117639544  \n",
       "1   63425952  \n",
       "2   47716501  \n",
       "3   29431845  \n",
       "4    8091972  "
      ]
     },
     "execution_count": 47,
     "metadata": {},
     "output_type": "execute_result"
    }
   ],
   "source": [
    "df.head()"
   ]
  },
  {
   "cell_type": "markdown",
   "id": "be36d6ca-f5e0-4cc0-a30e-a40e7af7a111",
   "metadata": {},
   "source": [
    "## EDA"
   ]
  },
  {
   "cell_type": "code",
   "execution_count": 48,
   "id": "8b5287eb-0095-4a4f-9977-366506df7af1",
   "metadata": {},
   "outputs": [
    {
     "name": "stdout",
     "output_type": "stream",
     "text": [
      "<class 'pandas.core.frame.DataFrame'>\n",
      "RangeIndex: 1116 entries, 0 to 1115\n",
      "Data columns (total 8 columns):\n",
      " #   Column     Non-Null Count  Dtype  \n",
      "---  ------     --------------  -----  \n",
      " 0   상품명        1116 non-null   object \n",
      " 1   가격         1116 non-null   int64  \n",
      " 2   별점         189 non-null    float64\n",
      " 3   리뷰수        1116 non-null   int64  \n",
      " 4   판매수량       1116 non-null   int64  \n",
      " 5   100g당가격    1116 non-null   int64  \n",
      " 6   온라인판매금액    1116 non-null   int64  \n",
      " 7   100g당판매금액  1116 non-null   int64  \n",
      "dtypes: float64(1), int64(6), object(1)\n",
      "memory usage: 69.9+ KB\n"
     ]
    }
   ],
   "source": [
    "df.info()"
   ]
  },
  {
   "cell_type": "markdown",
   "id": "c1a5384b-6a90-47e6-a41b-a224aeaed473",
   "metadata": {},
   "source": [
    "### 인기있는 상품 목록 확인"
   ]
  },
  {
   "cell_type": "markdown",
   "id": "b32ca6de-dbbf-4b10-b224-52509a019852",
   "metadata": {},
   "source": [
    "#### 별점이 가장 높은 5개 상품은? "
   ]
  },
  {
   "cell_type": "code",
   "execution_count": 49,
   "id": "f43cdb45-39f8-4daf-8b3e-af6cff4e3329",
   "metadata": {},
   "outputs": [
    {
     "data": {
      "text/html": [
       "<div>\n",
       "<style scoped>\n",
       "    .dataframe tbody tr th:only-of-type {\n",
       "        vertical-align: middle;\n",
       "    }\n",
       "\n",
       "    .dataframe tbody tr th {\n",
       "        vertical-align: top;\n",
       "    }\n",
       "\n",
       "    .dataframe thead th {\n",
       "        text-align: right;\n",
       "    }\n",
       "</style>\n",
       "<table border=\"1\" class=\"dataframe\">\n",
       "  <thead>\n",
       "    <tr style=\"text-align: right;\">\n",
       "      <th></th>\n",
       "      <th>상품명</th>\n",
       "      <th>가격</th>\n",
       "      <th>별점</th>\n",
       "      <th>리뷰수</th>\n",
       "      <th>판매수량</th>\n",
       "      <th>100g당가격</th>\n",
       "      <th>온라인판매금액</th>\n",
       "      <th>100g당판매금액</th>\n",
       "    </tr>\n",
       "  </thead>\n",
       "  <tbody>\n",
       "    <tr>\n",
       "      <th>94</th>\n",
       "      <td>[경복궁]불고기 LA갈비 혼합구성 (양념불고기 1팩+칼집LA갈비 1팩)</td>\n",
       "      <td>58700</td>\n",
       "      <td>5.0</td>\n",
       "      <td>1</td>\n",
       "      <td>90</td>\n",
       "      <td>0</td>\n",
       "      <td>5283000</td>\n",
       "      <td>0</td>\n",
       "    </tr>\n",
       "    <tr>\n",
       "      <th>190</th>\n",
       "      <td>[한양족발] 국내산 순살족발(뒷발) x 2개</td>\n",
       "      <td>23800</td>\n",
       "      <td>5.0</td>\n",
       "      <td>1</td>\n",
       "      <td>10</td>\n",
       "      <td>0</td>\n",
       "      <td>238000</td>\n",
       "      <td>0</td>\n",
       "    </tr>\n",
       "    <tr>\n",
       "      <th>175</th>\n",
       "      <td>[800g x 2팩] 송가네 송탄 부대찌개 밀키트+라면사리</td>\n",
       "      <td>27900</td>\n",
       "      <td>5.0</td>\n",
       "      <td>3</td>\n",
       "      <td>15</td>\n",
       "      <td>0</td>\n",
       "      <td>418500</td>\n",
       "      <td>0</td>\n",
       "    </tr>\n",
       "    <tr>\n",
       "      <th>167</th>\n",
       "      <td>[박참봉부대찌개]송탄식 모듬 부대찌개 밀키트 1,460g (2~3인분) 간편식 / ...</td>\n",
       "      <td>25200</td>\n",
       "      <td>5.0</td>\n",
       "      <td>1</td>\n",
       "      <td>17</td>\n",
       "      <td>0</td>\n",
       "      <td>428400</td>\n",
       "      <td>0</td>\n",
       "    </tr>\n",
       "    <tr>\n",
       "      <th>157</th>\n",
       "      <td>[경복궁]꼬리곰탕 600gx3팩</td>\n",
       "      <td>33600</td>\n",
       "      <td>5.0</td>\n",
       "      <td>1</td>\n",
       "      <td>22</td>\n",
       "      <td>0</td>\n",
       "      <td>739200</td>\n",
       "      <td>0</td>\n",
       "    </tr>\n",
       "  </tbody>\n",
       "</table>\n",
       "</div>"
      ],
      "text/plain": [
       "                                                   상품명     가격   별점  리뷰수  판매수량  \\\n",
       "94             [경복궁]불고기 LA갈비 혼합구성 (양념불고기 1팩+칼집LA갈비 1팩)  58700  5.0    1    90   \n",
       "190                           [한양족발] 국내산 순살족발(뒷발) x 2개  23800  5.0    1    10   \n",
       "175                   [800g x 2팩] 송가네 송탄 부대찌개 밀키트+라면사리  27900  5.0    3    15   \n",
       "167  [박참봉부대찌개]송탄식 모듬 부대찌개 밀키트 1,460g (2~3인분) 간편식 / ...  25200  5.0    1    17   \n",
       "157                                  [경복궁]꼬리곰탕 600gx3팩  33600  5.0    1    22   \n",
       "\n",
       "     100g당가격  온라인판매금액  100g당판매금액  \n",
       "94         0  5283000          0  \n",
       "190        0   238000          0  \n",
       "175        0   418500          0  \n",
       "167        0   428400          0  \n",
       "157        0   739200          0  "
      ]
     },
     "execution_count": 49,
     "metadata": {},
     "output_type": "execute_result"
    }
   ],
   "source": [
    "top_5_ratings = df.sort_values(by=\"별점\", ascending=False).head(5)\n",
    "top_5_ratings"
   ]
  },
  {
   "cell_type": "markdown",
   "id": "12ce74c1-3e51-472d-b1fc-a9ee50ae33ef",
   "metadata": {},
   "source": [
    "#### 판매수량이 가장 높은 5개 상품은? "
   ]
  },
  {
   "cell_type": "code",
   "execution_count": 50,
   "id": "ecaa008c-39ba-4a2d-be52-daf73d2cebc6",
   "metadata": {},
   "outputs": [
    {
     "data": {
      "text/html": [
       "<div>\n",
       "<style scoped>\n",
       "    .dataframe tbody tr th:only-of-type {\n",
       "        vertical-align: middle;\n",
       "    }\n",
       "\n",
       "    .dataframe tbody tr th {\n",
       "        vertical-align: top;\n",
       "    }\n",
       "\n",
       "    .dataframe thead th {\n",
       "        text-align: right;\n",
       "    }\n",
       "</style>\n",
       "<table border=\"1\" class=\"dataframe\">\n",
       "  <thead>\n",
       "    <tr style=\"text-align: right;\">\n",
       "      <th></th>\n",
       "      <th>상품명</th>\n",
       "      <th>가격</th>\n",
       "      <th>별점</th>\n",
       "      <th>리뷰수</th>\n",
       "      <th>판매수량</th>\n",
       "      <th>100g당가격</th>\n",
       "      <th>온라인판매금액</th>\n",
       "      <th>100g당판매금액</th>\n",
       "    </tr>\n",
       "  </thead>\n",
       "  <tbody>\n",
       "    <tr>\n",
       "      <th>0</th>\n",
       "      <td>애슐리 오리지널 통살치킨 500G</td>\n",
       "      <td>8990</td>\n",
       "      <td>4.7</td>\n",
       "      <td>6922</td>\n",
       "      <td>65428</td>\n",
       "      <td>1798</td>\n",
       "      <td>588197720</td>\n",
       "      <td>117639544</td>\n",
       "    </tr>\n",
       "    <tr>\n",
       "      <th>1</th>\n",
       "      <td>하코야 통 치즈 돈까스 350G</td>\n",
       "      <td>10900</td>\n",
       "      <td>4.8</td>\n",
       "      <td>7121</td>\n",
       "      <td>20368</td>\n",
       "      <td>3114</td>\n",
       "      <td>222011200</td>\n",
       "      <td>63425952</td>\n",
       "    </tr>\n",
       "    <tr>\n",
       "      <th>2</th>\n",
       "      <td>하코야 통 고구마 치즈 돈까스 280G</td>\n",
       "      <td>10900</td>\n",
       "      <td>4.8</td>\n",
       "      <td>1570</td>\n",
       "      <td>12257</td>\n",
       "      <td>3893</td>\n",
       "      <td>133601300</td>\n",
       "      <td>47716501</td>\n",
       "    </tr>\n",
       "    <tr>\n",
       "      <th>3</th>\n",
       "      <td>투다리 김치오뎅전골 653G</td>\n",
       "      <td>15900</td>\n",
       "      <td>4.7</td>\n",
       "      <td>1091</td>\n",
       "      <td>12087</td>\n",
       "      <td>2435</td>\n",
       "      <td>192183300</td>\n",
       "      <td>29431845</td>\n",
       "    </tr>\n",
       "    <tr>\n",
       "      <th>1113</th>\n",
       "      <td>[밀키트] 홈밀 채선당 소고기 샤브샤브 845G</td>\n",
       "      <td>9990</td>\n",
       "      <td>4.8</td>\n",
       "      <td>944</td>\n",
       "      <td>6912</td>\n",
       "      <td>1182</td>\n",
       "      <td>69050880</td>\n",
       "      <td>8169984</td>\n",
       "    </tr>\n",
       "  </tbody>\n",
       "</table>\n",
       "</div>"
      ],
      "text/plain": [
       "                             상품명     가격   별점   리뷰수   판매수량  100g당가격    온라인판매금액  \\\n",
       "0             애슐리 오리지널 통살치킨 500G   8990  4.7  6922  65428     1798  588197720   \n",
       "1              하코야 통 치즈 돈까스 350G  10900  4.8  7121  20368     3114  222011200   \n",
       "2          하코야 통 고구마 치즈 돈까스 280G  10900  4.8  1570  12257     3893  133601300   \n",
       "3                투다리 김치오뎅전골 653G  15900  4.7  1091  12087     2435  192183300   \n",
       "1113  [밀키트] 홈밀 채선당 소고기 샤브샤브 845G   9990  4.8   944   6912     1182   69050880   \n",
       "\n",
       "      100g당판매금액  \n",
       "0     117639544  \n",
       "1      63425952  \n",
       "2      47716501  \n",
       "3      29431845  \n",
       "1113    8169984  "
      ]
     },
     "execution_count": 50,
     "metadata": {},
     "output_type": "execute_result"
    }
   ],
   "source": [
    "df.sort_values(by=\"판매수량\", ascending=False).head(5)"
   ]
  },
  {
   "cell_type": "markdown",
   "id": "6cc86e4d-0b5e-4c73-8fa5-de9f6fbf73dd",
   "metadata": {},
   "source": [
    "#### 판매금액이 가장 높은 5개 상품은? "
   ]
  },
  {
   "cell_type": "code",
   "execution_count": 51,
   "id": "bb5ee124-2722-4e2a-82b1-9f04e1e081ea",
   "metadata": {},
   "outputs": [
    {
     "data": {
      "text/html": [
       "<div>\n",
       "<style scoped>\n",
       "    .dataframe tbody tr th:only-of-type {\n",
       "        vertical-align: middle;\n",
       "    }\n",
       "\n",
       "    .dataframe tbody tr th {\n",
       "        vertical-align: top;\n",
       "    }\n",
       "\n",
       "    .dataframe thead th {\n",
       "        text-align: right;\n",
       "    }\n",
       "</style>\n",
       "<table border=\"1\" class=\"dataframe\">\n",
       "  <thead>\n",
       "    <tr style=\"text-align: right;\">\n",
       "      <th></th>\n",
       "      <th>상품명</th>\n",
       "      <th>가격</th>\n",
       "      <th>별점</th>\n",
       "      <th>리뷰수</th>\n",
       "      <th>판매수량</th>\n",
       "      <th>100g당가격</th>\n",
       "      <th>온라인판매금액</th>\n",
       "      <th>100g당판매금액</th>\n",
       "    </tr>\n",
       "  </thead>\n",
       "  <tbody>\n",
       "    <tr>\n",
       "      <th>0</th>\n",
       "      <td>애슐리 오리지널 통살치킨 500G</td>\n",
       "      <td>8990</td>\n",
       "      <td>4.7</td>\n",
       "      <td>6922</td>\n",
       "      <td>65428</td>\n",
       "      <td>1798</td>\n",
       "      <td>588197720</td>\n",
       "      <td>117639544</td>\n",
       "    </tr>\n",
       "    <tr>\n",
       "      <th>1</th>\n",
       "      <td>하코야 통 치즈 돈까스 350G</td>\n",
       "      <td>10900</td>\n",
       "      <td>4.8</td>\n",
       "      <td>7121</td>\n",
       "      <td>20368</td>\n",
       "      <td>3114</td>\n",
       "      <td>222011200</td>\n",
       "      <td>63425952</td>\n",
       "    </tr>\n",
       "    <tr>\n",
       "      <th>3</th>\n",
       "      <td>투다리 김치오뎅전골 653G</td>\n",
       "      <td>15900</td>\n",
       "      <td>4.7</td>\n",
       "      <td>1091</td>\n",
       "      <td>12087</td>\n",
       "      <td>2435</td>\n",
       "      <td>192183300</td>\n",
       "      <td>29431845</td>\n",
       "    </tr>\n",
       "    <tr>\n",
       "      <th>2</th>\n",
       "      <td>하코야 통 고구마 치즈 돈까스 280G</td>\n",
       "      <td>10900</td>\n",
       "      <td>4.8</td>\n",
       "      <td>1570</td>\n",
       "      <td>12257</td>\n",
       "      <td>3893</td>\n",
       "      <td>133601300</td>\n",
       "      <td>47716501</td>\n",
       "    </tr>\n",
       "    <tr>\n",
       "      <th>5</th>\n",
       "      <td>하코야 김치카츠 나베 680G</td>\n",
       "      <td>16900</td>\n",
       "      <td>4.8</td>\n",
       "      <td>1392</td>\n",
       "      <td>4659</td>\n",
       "      <td>2485</td>\n",
       "      <td>78737100</td>\n",
       "      <td>11577615</td>\n",
       "    </tr>\n",
       "  </tbody>\n",
       "</table>\n",
       "</div>"
      ],
      "text/plain": [
       "                     상품명     가격   별점   리뷰수   판매수량  100g당가격    온라인판매금액  \\\n",
       "0     애슐리 오리지널 통살치킨 500G   8990  4.7  6922  65428     1798  588197720   \n",
       "1      하코야 통 치즈 돈까스 350G  10900  4.8  7121  20368     3114  222011200   \n",
       "3        투다리 김치오뎅전골 653G  15900  4.7  1091  12087     2435  192183300   \n",
       "2  하코야 통 고구마 치즈 돈까스 280G  10900  4.8  1570  12257     3893  133601300   \n",
       "5       하코야 김치카츠 나베 680G  16900  4.8  1392   4659     2485   78737100   \n",
       "\n",
       "   100g당판매금액  \n",
       "0  117639544  \n",
       "1   63425952  \n",
       "3   29431845  \n",
       "2   47716501  \n",
       "5   11577615  "
      ]
     },
     "execution_count": 51,
     "metadata": {},
     "output_type": "execute_result"
    }
   ],
   "source": [
    "df.sort_values(by=\"온라인판매금액\", ascending=False).head(5)"
   ]
  },
  {
   "cell_type": "code",
   "execution_count": 52,
   "id": "e34420ea-a3be-4246-9e3c-f5a9698e39fb",
   "metadata": {},
   "outputs": [
    {
     "data": {
      "text/html": [
       "<div>\n",
       "<style scoped>\n",
       "    .dataframe tbody tr th:only-of-type {\n",
       "        vertical-align: middle;\n",
       "    }\n",
       "\n",
       "    .dataframe tbody tr th {\n",
       "        vertical-align: top;\n",
       "    }\n",
       "\n",
       "    .dataframe thead th {\n",
       "        text-align: right;\n",
       "    }\n",
       "</style>\n",
       "<table border=\"1\" class=\"dataframe\">\n",
       "  <thead>\n",
       "    <tr style=\"text-align: right;\">\n",
       "      <th></th>\n",
       "      <th>상품명</th>\n",
       "      <th>가격</th>\n",
       "      <th>별점</th>\n",
       "      <th>리뷰수</th>\n",
       "      <th>판매수량</th>\n",
       "      <th>100g당가격</th>\n",
       "      <th>온라인판매금액</th>\n",
       "      <th>100g당판매금액</th>\n",
       "    </tr>\n",
       "  </thead>\n",
       "  <tbody>\n",
       "    <tr>\n",
       "      <th>0</th>\n",
       "      <td>애슐리 오리지널 통살치킨 500G</td>\n",
       "      <td>8990</td>\n",
       "      <td>4.7</td>\n",
       "      <td>6922</td>\n",
       "      <td>65428</td>\n",
       "      <td>1798</td>\n",
       "      <td>588197720</td>\n",
       "      <td>117639544</td>\n",
       "    </tr>\n",
       "    <tr>\n",
       "      <th>1</th>\n",
       "      <td>하코야 통 치즈 돈까스 350G</td>\n",
       "      <td>10900</td>\n",
       "      <td>4.8</td>\n",
       "      <td>7121</td>\n",
       "      <td>20368</td>\n",
       "      <td>3114</td>\n",
       "      <td>222011200</td>\n",
       "      <td>63425952</td>\n",
       "    </tr>\n",
       "    <tr>\n",
       "      <th>2</th>\n",
       "      <td>하코야 통 고구마 치즈 돈까스 280G</td>\n",
       "      <td>10900</td>\n",
       "      <td>4.8</td>\n",
       "      <td>1570</td>\n",
       "      <td>12257</td>\n",
       "      <td>3893</td>\n",
       "      <td>133601300</td>\n",
       "      <td>47716501</td>\n",
       "    </tr>\n",
       "    <tr>\n",
       "      <th>3</th>\n",
       "      <td>투다리 김치오뎅전골 653G</td>\n",
       "      <td>15900</td>\n",
       "      <td>4.7</td>\n",
       "      <td>1091</td>\n",
       "      <td>12087</td>\n",
       "      <td>2435</td>\n",
       "      <td>192183300</td>\n",
       "      <td>29431845</td>\n",
       "    </tr>\n",
       "    <tr>\n",
       "      <th>5</th>\n",
       "      <td>하코야 김치카츠 나베 680G</td>\n",
       "      <td>16900</td>\n",
       "      <td>4.8</td>\n",
       "      <td>1392</td>\n",
       "      <td>4659</td>\n",
       "      <td>2485</td>\n",
       "      <td>78737100</td>\n",
       "      <td>11577615</td>\n",
       "    </tr>\n",
       "  </tbody>\n",
       "</table>\n",
       "</div>"
      ],
      "text/plain": [
       "                     상품명     가격   별점   리뷰수   판매수량  100g당가격    온라인판매금액  \\\n",
       "0     애슐리 오리지널 통살치킨 500G   8990  4.7  6922  65428     1798  588197720   \n",
       "1      하코야 통 치즈 돈까스 350G  10900  4.8  7121  20368     3114  222011200   \n",
       "2  하코야 통 고구마 치즈 돈까스 280G  10900  4.8  1570  12257     3893  133601300   \n",
       "3        투다리 김치오뎅전골 653G  15900  4.7  1091  12087     2435  192183300   \n",
       "5       하코야 김치카츠 나베 680G  16900  4.8  1392   4659     2485   78737100   \n",
       "\n",
       "   100g당판매금액  \n",
       "0  117639544  \n",
       "1   63425952  \n",
       "2   47716501  \n",
       "3   29431845  \n",
       "5   11577615  "
      ]
     },
     "execution_count": 52,
     "metadata": {},
     "output_type": "execute_result"
    }
   ],
   "source": [
    "df.sort_values(by=\"100g당판매금액\", ascending=False).head(5)"
   ]
  },
  {
   "cell_type": "markdown",
   "id": "accc62c6-5d3d-46ce-8feb-0d2e2314fa32",
   "metadata": {},
   "source": [
    "#### 리뷰가 가장 많은 5개 상품은?"
   ]
  },
  {
   "cell_type": "code",
   "execution_count": 53,
   "id": "9571ac29-8747-4958-8017-12b05714706e",
   "metadata": {},
   "outputs": [
    {
     "data": {
      "text/html": [
       "<div>\n",
       "<style scoped>\n",
       "    .dataframe tbody tr th:only-of-type {\n",
       "        vertical-align: middle;\n",
       "    }\n",
       "\n",
       "    .dataframe tbody tr th {\n",
       "        vertical-align: top;\n",
       "    }\n",
       "\n",
       "    .dataframe thead th {\n",
       "        text-align: right;\n",
       "    }\n",
       "</style>\n",
       "<table border=\"1\" class=\"dataframe\">\n",
       "  <thead>\n",
       "    <tr style=\"text-align: right;\">\n",
       "      <th></th>\n",
       "      <th>상품명</th>\n",
       "      <th>가격</th>\n",
       "      <th>별점</th>\n",
       "      <th>리뷰수</th>\n",
       "      <th>판매수량</th>\n",
       "      <th>100g당가격</th>\n",
       "      <th>온라인판매금액</th>\n",
       "      <th>100g당판매금액</th>\n",
       "    </tr>\n",
       "  </thead>\n",
       "  <tbody>\n",
       "    <tr>\n",
       "      <th>8</th>\n",
       "      <td>[밀키트] 홈밀 푸짐한 스팸 부대찌개 1120G</td>\n",
       "      <td>9990</td>\n",
       "      <td>4.7</td>\n",
       "      <td>8363</td>\n",
       "      <td>3199</td>\n",
       "      <td>892</td>\n",
       "      <td>31958010</td>\n",
       "      <td>2853508</td>\n",
       "    </tr>\n",
       "    <tr>\n",
       "      <th>1</th>\n",
       "      <td>하코야 통 치즈 돈까스 350G</td>\n",
       "      <td>10900</td>\n",
       "      <td>4.8</td>\n",
       "      <td>7121</td>\n",
       "      <td>20368</td>\n",
       "      <td>3114</td>\n",
       "      <td>222011200</td>\n",
       "      <td>63425952</td>\n",
       "    </tr>\n",
       "    <tr>\n",
       "      <th>0</th>\n",
       "      <td>애슐리 오리지널 통살치킨 500G</td>\n",
       "      <td>8990</td>\n",
       "      <td>4.7</td>\n",
       "      <td>6922</td>\n",
       "      <td>65428</td>\n",
       "      <td>1798</td>\n",
       "      <td>588197720</td>\n",
       "      <td>117639544</td>\n",
       "    </tr>\n",
       "    <tr>\n",
       "      <th>21</th>\n",
       "      <td>[밀키트] 홈밀 감자수제비 순두부 찌개 1100G</td>\n",
       "      <td>8990</td>\n",
       "      <td>4.8</td>\n",
       "      <td>3511</td>\n",
       "      <td>1568</td>\n",
       "      <td>817</td>\n",
       "      <td>14096320</td>\n",
       "      <td>1281056</td>\n",
       "    </tr>\n",
       "    <tr>\n",
       "      <th>49</th>\n",
       "      <td>애슐리 오리지널 통살치킨&amp;치폴레소스 500G</td>\n",
       "      <td>8990</td>\n",
       "      <td>4.7</td>\n",
       "      <td>3146</td>\n",
       "      <td>420</td>\n",
       "      <td>1798</td>\n",
       "      <td>3775800</td>\n",
       "      <td>755160</td>\n",
       "    </tr>\n",
       "  </tbody>\n",
       "</table>\n",
       "</div>"
      ],
      "text/plain": [
       "                            상품명     가격   별점   리뷰수   판매수량  100g당가격    온라인판매금액  \\\n",
       "8    [밀키트] 홈밀 푸짐한 스팸 부대찌개 1120G   9990  4.7  8363   3199      892   31958010   \n",
       "1             하코야 통 치즈 돈까스 350G  10900  4.8  7121  20368     3114  222011200   \n",
       "0            애슐리 오리지널 통살치킨 500G   8990  4.7  6922  65428     1798  588197720   \n",
       "21  [밀키트] 홈밀 감자수제비 순두부 찌개 1100G   8990  4.8  3511   1568      817   14096320   \n",
       "49     애슐리 오리지널 통살치킨&치폴레소스 500G   8990  4.7  3146    420     1798    3775800   \n",
       "\n",
       "    100g당판매금액  \n",
       "8     2853508  \n",
       "1    63425952  \n",
       "0   117639544  \n",
       "21    1281056  \n",
       "49     755160  "
      ]
     },
     "execution_count": 53,
     "metadata": {},
     "output_type": "execute_result"
    }
   ],
   "source": [
    "df.sort_values(by=\"리뷰수\", ascending=False).head(5)"
   ]
  },
  {
   "cell_type": "markdown",
   "id": "35c179b9-01e6-4c11-a7d4-20b31dd7cbd0",
   "metadata": {},
   "source": [
    "### 인기있는 상품들의 평균 가격대는 어떠한가? "
   ]
  },
  {
   "cell_type": "code",
   "execution_count": 64,
   "id": "0959de43-debd-44b3-b748-d577b586b119",
   "metadata": {},
   "outputs": [],
   "source": [
    "# 리뷰수와 판매수량이 많은 상품 데이터를 각각 상위 20개씩 가져오기\n",
    "top_reviews = df.sort_values(by=\"리뷰수\", ascending=False).head(20)\n",
    "top_sales = df.sort_values(by=\"판매수량\", ascending=False).head(20)\n",
    "\n",
    "# union all: 두 데이터프레임을 합치기 (중복 포함)\n",
    "combined_top_products = pd.concat([top_reviews, top_sales], ignore_index=True)"
   ]
  },
  {
   "cell_type": "code",
   "execution_count": 65,
   "id": "117bde35-6b43-4cff-98c7-52799090e969",
   "metadata": {},
   "outputs": [
    {
     "data": {
      "text/html": [
       "<div>\n",
       "<style scoped>\n",
       "    .dataframe tbody tr th:only-of-type {\n",
       "        vertical-align: middle;\n",
       "    }\n",
       "\n",
       "    .dataframe tbody tr th {\n",
       "        vertical-align: top;\n",
       "    }\n",
       "\n",
       "    .dataframe thead th {\n",
       "        text-align: right;\n",
       "    }\n",
       "</style>\n",
       "<table border=\"1\" class=\"dataframe\">\n",
       "  <thead>\n",
       "    <tr style=\"text-align: right;\">\n",
       "      <th></th>\n",
       "      <th>상품명</th>\n",
       "      <th>가격</th>\n",
       "      <th>별점</th>\n",
       "      <th>리뷰수</th>\n",
       "      <th>판매수량</th>\n",
       "      <th>100g당가격</th>\n",
       "      <th>온라인판매금액</th>\n",
       "      <th>100g당판매금액</th>\n",
       "    </tr>\n",
       "  </thead>\n",
       "  <tbody>\n",
       "    <tr>\n",
       "      <th>0</th>\n",
       "      <td>[밀키트] 홈밀 푸짐한 스팸 부대찌개 1120G</td>\n",
       "      <td>9990</td>\n",
       "      <td>4.7</td>\n",
       "      <td>8363</td>\n",
       "      <td>3199</td>\n",
       "      <td>892</td>\n",
       "      <td>31958010</td>\n",
       "      <td>2853508</td>\n",
       "    </tr>\n",
       "    <tr>\n",
       "      <th>1</th>\n",
       "      <td>하코야 통 치즈 돈까스 350G</td>\n",
       "      <td>10900</td>\n",
       "      <td>4.8</td>\n",
       "      <td>7121</td>\n",
       "      <td>20368</td>\n",
       "      <td>3114</td>\n",
       "      <td>222011200</td>\n",
       "      <td>63425952</td>\n",
       "    </tr>\n",
       "    <tr>\n",
       "      <th>2</th>\n",
       "      <td>애슐리 오리지널 통살치킨 500G</td>\n",
       "      <td>8990</td>\n",
       "      <td>4.7</td>\n",
       "      <td>6922</td>\n",
       "      <td>65428</td>\n",
       "      <td>1798</td>\n",
       "      <td>588197720</td>\n",
       "      <td>117639544</td>\n",
       "    </tr>\n",
       "    <tr>\n",
       "      <th>3</th>\n",
       "      <td>[밀키트] 홈밀 감자수제비 순두부 찌개 1100G</td>\n",
       "      <td>8990</td>\n",
       "      <td>4.8</td>\n",
       "      <td>3511</td>\n",
       "      <td>1568</td>\n",
       "      <td>817</td>\n",
       "      <td>14096320</td>\n",
       "      <td>1281056</td>\n",
       "    </tr>\n",
       "    <tr>\n",
       "      <th>4</th>\n",
       "      <td>애슐리 오리지널 통살치킨&amp;치폴레소스 500G</td>\n",
       "      <td>8990</td>\n",
       "      <td>4.7</td>\n",
       "      <td>3146</td>\n",
       "      <td>420</td>\n",
       "      <td>1798</td>\n",
       "      <td>3775800</td>\n",
       "      <td>755160</td>\n",
       "    </tr>\n",
       "  </tbody>\n",
       "</table>\n",
       "</div>"
      ],
      "text/plain": [
       "                           상품명     가격   별점   리뷰수   판매수량  100g당가격    온라인판매금액  \\\n",
       "0   [밀키트] 홈밀 푸짐한 스팸 부대찌개 1120G   9990  4.7  8363   3199      892   31958010   \n",
       "1            하코야 통 치즈 돈까스 350G  10900  4.8  7121  20368     3114  222011200   \n",
       "2           애슐리 오리지널 통살치킨 500G   8990  4.7  6922  65428     1798  588197720   \n",
       "3  [밀키트] 홈밀 감자수제비 순두부 찌개 1100G   8990  4.8  3511   1568      817   14096320   \n",
       "4     애슐리 오리지널 통살치킨&치폴레소스 500G   8990  4.7  3146    420     1798    3775800   \n",
       "\n",
       "   100g당판매금액  \n",
       "0    2853508  \n",
       "1   63425952  \n",
       "2  117639544  \n",
       "3    1281056  \n",
       "4     755160  "
      ]
     },
     "execution_count": 65,
     "metadata": {},
     "output_type": "execute_result"
    }
   ],
   "source": [
    "combined_top_products.head()"
   ]
  },
  {
   "cell_type": "code",
   "execution_count": 66,
   "id": "42b8f82b-6071-4c98-a57e-88e924fbf0cc",
   "metadata": {
    "scrolled": true
   },
   "outputs": [
    {
     "name": "stdout",
     "output_type": "stream",
     "text": [
      "전체 상품의 평균 가격대 (0 제외): 10839.06\n"
     ]
    }
   ],
   "source": [
    "# 전체 상품의 평균 가격대 계산\n",
    "average_price1 = df[df[\"100g당가격\"] > 0][\"가격\"].mean()\n",
    "print(f\"전체 상품의 평균 가격대 (0 제외): {average_price1:.2f}\")"
   ]
  },
  {
   "cell_type": "code",
   "execution_count": 67,
   "id": "ba355238-59c9-4d10-8076-6abf4e304647",
   "metadata": {},
   "outputs": [
    {
     "name": "stdout",
     "output_type": "stream",
     "text": [
      "전체 상품의 평균 100g당가격대 (0 제외): 1715.05\n"
     ]
    }
   ],
   "source": [
    "average_price2 = df[df[\"100g당가격\"] > 0][\"100g당가격\"].mean()\n",
    "print(f\"전체 상품의 평균 100g당가격대 (0 제외): {average_price2:.2f}\")"
   ]
  },
  {
   "cell_type": "code",
   "execution_count": 68,
   "id": "1e663854-e6ed-4eea-8d41-6e79d3aec045",
   "metadata": {},
   "outputs": [
    {
     "name": "stdout",
     "output_type": "stream",
     "text": [
      "인기 상품의 평균 가격대: 11363.00\n"
     ]
    }
   ],
   "source": [
    "# 인기 상품의 평균 가격대 계산\n",
    "top_online_sales_mean = combined_top_products[\"가격\"].mean()\n",
    "print(f\"인기 상품의 평균 가격대: {top_online_sales_mean:.2f}\")"
   ]
  },
  {
   "cell_type": "code",
   "execution_count": 69,
   "id": "6bccbf3c-0fc6-4ed6-93be-e062bbb27a54",
   "metadata": {},
   "outputs": [
    {
     "name": "stdout",
     "output_type": "stream",
     "text": [
      "인기 상품의 평균 100g당가격대 (0 제외): 1880.50\n"
     ]
    }
   ],
   "source": [
    "average_price2 = combined_top_products[\"100g당가격\"].mean()\n",
    "print(f\"인기 상품의 평균 100g당가격대 (0 제외): {average_price2:.2f}\")"
   ]
  },
  {
   "cell_type": "markdown",
   "id": "2455279f-c7ad-4a08-8025-cf0d3e134674",
   "metadata": {},
   "source": [
    "#### 정리"
   ]
  },
  {
   "cell_type": "markdown",
   "id": "a0369b9b-d5bb-467a-81f1-553812243df7",
   "metadata": {},
   "source": [
    "인기상품과 그렇지 않은 것들의 가격대 차이가 있어보이지 않는다."
   ]
  },
  {
   "cell_type": "markdown",
   "id": "9f5d6504-5fad-4eac-82e2-bb64faed299b",
   "metadata": {},
   "source": [
    "### 판매수량과의 상관관계 찍어보기"
   ]
  },
  {
   "cell_type": "code",
   "execution_count": null,
   "id": "497a1956-2299-4de1-aa8c-739be9c390af",
   "metadata": {},
   "outputs": [],
   "source": [
    "# 가격과 판매수량 간의 상관계수 확인\n",
    "correlation = df[\"100g당가격\"].corr(df[\"판매수량\"])\n",
    "print(f\"가격과 판매수량 간의 상관계수: {correlation}\")"
   ]
  },
  {
   "cell_type": "code",
   "execution_count": 77,
   "id": "bb85de21-1b11-4db8-8294-07cdd5045b6f",
   "metadata": {},
   "outputs": [
    {
     "name": "stdout",
     "output_type": "stream",
     "text": [
      "피어슨 상관계수: 0.2450016165737961\n",
      "p-value: 1.020737277821464e-16\n"
     ]
    }
   ],
   "source": [
    "from scipy.stats import pearsonr\n",
    "\n",
    "price = df['100g당가격']\n",
    "sales_quantity = df['판매수량']\n",
    "\n",
    "# 상관계수와 p-value 계산\n",
    "corr, p_value = pearsonr(price, sales_quantity)\n",
    "\n",
    "print(f\"피어슨 상관계수: {corr}\")\n",
    "print(f\"p-value: {p_value}\")"
   ]
  },
  {
   "cell_type": "markdown",
   "id": "891e0d6f-dd6f-4f4c-afc2-917fe06236d0",
   "metadata": {},
   "source": [
    "#### 상관계수 정리"
   ]
  },
  {
   "cell_type": "markdown",
   "id": "f0a574d5-ca4b-48fc-b429-3f2942e4d277",
   "metadata": {},
   "source": [
    "**피어슨 상관계수 (corr)**\n",
    "\n",
    "대립가설 : 가격이 낮을 수록 판매수량이 높을 것이다. \n",
    "\n",
    "상관계수가 음수라면, 가격이 낮을수록 판매수량이 증가한다는 가설과 일치하는 결과일 수 있다.  \n",
    "상관계수가 절댓값 기준으로 0.4 이상이면 어느 정도 의미 있는 관계라고 볼 수 있다. \n",
    "그런데 0.24로 판매수량과 가격은 크게 상관이 없다.\n",
    "\n",
    "---\n",
    "\n",
    "**p-value**\n",
    "\n",
    "- p-value < 0.05: 통계적으로 유의미한 상관관계 (가설을 지지할 가능성 있음)  \n",
    "- p-value ≥ 0.05: 통계적으로 유의하지 않음 (가설을 지지하기 어려움)\n",
    "p-value 또한 높아서  가설을 지지하지 않는다. (대립가설 기각)"
   ]
  },
  {
   "cell_type": "markdown",
   "id": "56e6b11e-f604-466d-8918-4ec23bb46f32",
   "metadata": {},
   "source": [
    "#### (시각화)상관관계 매트릭스 히트맵"
   ]
  },
  {
   "cell_type": "code",
   "execution_count": 74,
   "id": "b7f0e7e9-6341-418f-aeeb-e1b4074a11e0",
   "metadata": {},
   "outputs": [
    {
     "name": "stdout",
     "output_type": "stream",
     "text": [
      "판매수량         1.000000\n",
      "온라인판매금액      0.987069\n",
      "100g당판매금액    0.966451\n",
      "리뷰수          0.641630\n",
      "100g당가격      0.245002\n",
      "별점           0.046394\n",
      "가격          -0.046626\n",
      "Name: 판매수량, dtype: float64\n"
     ]
    },
    {
     "name": "stderr",
     "output_type": "stream",
     "text": [
      "C:\\Users\\eunju\\anaconda3\\Lib\\site-packages\\seaborn\\utils.py:61: UserWarning: Glyph 44032 (\\N{HANGUL SYLLABLE GA}) missing from font(s) DejaVu Sans.\n",
      "  fig.canvas.draw()\n",
      "C:\\Users\\eunju\\anaconda3\\Lib\\site-packages\\seaborn\\utils.py:61: UserWarning: Glyph 44201 (\\N{HANGUL SYLLABLE GYEOG}) missing from font(s) DejaVu Sans.\n",
      "  fig.canvas.draw()\n",
      "C:\\Users\\eunju\\anaconda3\\Lib\\site-packages\\seaborn\\utils.py:61: UserWarning: Glyph 48324 (\\N{HANGUL SYLLABLE BYEOL}) missing from font(s) DejaVu Sans.\n",
      "  fig.canvas.draw()\n",
      "C:\\Users\\eunju\\anaconda3\\Lib\\site-packages\\seaborn\\utils.py:61: UserWarning: Glyph 51216 (\\N{HANGUL SYLLABLE JEOM}) missing from font(s) DejaVu Sans.\n",
      "  fig.canvas.draw()\n",
      "C:\\Users\\eunju\\anaconda3\\Lib\\site-packages\\seaborn\\utils.py:61: UserWarning: Glyph 47532 (\\N{HANGUL SYLLABLE RI}) missing from font(s) DejaVu Sans.\n",
      "  fig.canvas.draw()\n",
      "C:\\Users\\eunju\\anaconda3\\Lib\\site-packages\\seaborn\\utils.py:61: UserWarning: Glyph 48624 (\\N{HANGUL SYLLABLE BYU}) missing from font(s) DejaVu Sans.\n",
      "  fig.canvas.draw()\n",
      "C:\\Users\\eunju\\anaconda3\\Lib\\site-packages\\seaborn\\utils.py:61: UserWarning: Glyph 49688 (\\N{HANGUL SYLLABLE SU}) missing from font(s) DejaVu Sans.\n",
      "  fig.canvas.draw()\n",
      "C:\\Users\\eunju\\anaconda3\\Lib\\site-packages\\seaborn\\utils.py:61: UserWarning: Glyph 54032 (\\N{HANGUL SYLLABLE PAN}) missing from font(s) DejaVu Sans.\n",
      "  fig.canvas.draw()\n",
      "C:\\Users\\eunju\\anaconda3\\Lib\\site-packages\\seaborn\\utils.py:61: UserWarning: Glyph 47588 (\\N{HANGUL SYLLABLE MAE}) missing from font(s) DejaVu Sans.\n",
      "  fig.canvas.draw()\n",
      "C:\\Users\\eunju\\anaconda3\\Lib\\site-packages\\seaborn\\utils.py:61: UserWarning: Glyph 47049 (\\N{HANGUL SYLLABLE RYANG}) missing from font(s) DejaVu Sans.\n",
      "  fig.canvas.draw()\n",
      "C:\\Users\\eunju\\anaconda3\\Lib\\site-packages\\seaborn\\utils.py:61: UserWarning: Glyph 45817 (\\N{HANGUL SYLLABLE DANG}) missing from font(s) DejaVu Sans.\n",
      "  fig.canvas.draw()\n",
      "C:\\Users\\eunju\\anaconda3\\Lib\\site-packages\\seaborn\\utils.py:61: UserWarning: Glyph 50728 (\\N{HANGUL SYLLABLE ON}) missing from font(s) DejaVu Sans.\n",
      "  fig.canvas.draw()\n",
      "C:\\Users\\eunju\\anaconda3\\Lib\\site-packages\\seaborn\\utils.py:61: UserWarning: Glyph 46972 (\\N{HANGUL SYLLABLE RA}) missing from font(s) DejaVu Sans.\n",
      "  fig.canvas.draw()\n",
      "C:\\Users\\eunju\\anaconda3\\Lib\\site-packages\\seaborn\\utils.py:61: UserWarning: Glyph 51064 (\\N{HANGUL SYLLABLE IN}) missing from font(s) DejaVu Sans.\n",
      "  fig.canvas.draw()\n",
      "C:\\Users\\eunju\\anaconda3\\Lib\\site-packages\\seaborn\\utils.py:61: UserWarning: Glyph 44552 (\\N{HANGUL SYLLABLE GEUM}) missing from font(s) DejaVu Sans.\n",
      "  fig.canvas.draw()\n",
      "C:\\Users\\eunju\\anaconda3\\Lib\\site-packages\\seaborn\\utils.py:61: UserWarning: Glyph 50529 (\\N{HANGUL SYLLABLE AEG}) missing from font(s) DejaVu Sans.\n",
      "  fig.canvas.draw()\n"
     ]
    },
    {
     "data": {
      "image/png": "[encoded data removed]",
      "text/plain": [
       "<Figure size 1000x600 with 2 Axes>"
      ]
     },
     "metadata": {},
     "output_type": "display_data"
    }
   ],
   "source": [
    "import matplotlib.font_manager as fm\n",
    "import matplotlib.pyplot as plt\n",
    "import seaborn as sns\n",
    "\n",
    "# 한글 폰트 설정\n",
    "font_path = \"C:/Windows/Fonts/malgun.ttf\"  # 맑은 고딕 폰트 경로\n",
    "fontprop = fm.FontProperties(fname=font_path)\n",
    "\n",
    "# 숫자형 열만 선택\n",
    "numeric_df = df.select_dtypes(include=[\"int64\", \"float64\"])\n",
    "\n",
    "# 상관관계 분석\n",
    "correlation_matrix = numeric_df.corr()\n",
    "print(correlation_matrix[\"판매수량\"].sort_values(ascending=False))\n",
    "\n",
    "# 상관관계 시각화\n",
    "plt.figure(figsize=(10, 6))\n",
    "sns.heatmap(correlation_matrix, annot=True, cmap=\"coolwarm\", fmt=\".2f\")\n",
    "\n",
    "# 제목 및 폰트 설정\n",
    "plt.title(\"상관관계 행렬\", fontproperties=fontprop, fontsize=16)\n",
    "\n",
    "# x축, y축 라벨 폰트 설정\n",
    "plt.xticks(fontproperties=fontprop)\n",
    "plt.yticks(fontproperties=fontprop)\n",
    "\n",
    "# 그래프 출력\n",
    "plt.show()"
   ]
  },
  {
   "cell_type": "markdown",
   "id": "b840d9fe-3c2c-45f8-a906-1e80ec6a4a0a",
   "metadata": {},
   "source": [
    "#### 주성분 분석"
   ]
  },
  {
   "cell_type": "code",
   "execution_count": 103,
   "id": "7a516fdf-80f9-4f57-bd23-d488d4ab74d6",
   "metadata": {},
   "outputs": [
    {
     "name": "stdout",
     "output_type": "stream",
     "text": [
      "판매수량    1.000000\n",
      "PC1     0.960980\n",
      "PC2     0.181596\n",
      "PC3     0.027777\n",
      "PC4    -0.060173\n",
      "PC7    -0.070739\n",
      "PC6    -0.087465\n",
      "PC5    -0.162767\n",
      "Name: 판매수량, dtype: float64\n"
     ]
    }
   ],
   "source": [
    "from sklearn.decomposition import PCA\n",
    "from sklearn.preprocessing import StandardScaler\n",
    "\n",
    "# 결측값이 있는 행 제거\n",
    "df_cleaned = df.dropna()\n",
    "\n",
    "# 숫자형 열만 선택\n",
    "numeric_df = df_cleaned.select_dtypes(include=[\"int64\", \"float64\"])\n",
    "\n",
    "# 데이터 표준화\n",
    "scaler = StandardScaler()\n",
    "X_scaled = scaler.fit_transform(numeric_df)\n",
    "\n",
    "# PCA 수행\n",
    "pca = PCA()\n",
    "X_pca = pca.fit_transform(X_scaled)\n",
    "\n",
    "# 주성분과 판매수량 간의 상관관계 분석\n",
    "df_pca = pd.DataFrame(X_pca, columns=[f\"PC{i+1}\" for i in range(X_pca.shape[1])])\n",
    "df_pca[\"판매수량\"] = df_cleaned[\"판매수량\"].values\n",
    "\n",
    "# 상관관계 확인\n",
    "pca_correlation = df_pca.corr()[\"판매수량\"].sort_values(ascending=False)\n",
    "print(pca_correlation)"
   ]
  },
  {
   "cell_type": "code",
   "execution_count": 104,
   "id": "875e173e-6ae5-47d2-b6cc-2a9f2685c458",
   "metadata": {},
   "outputs": [
    {
     "name": "stdout",
     "output_type": "stream",
     "text": [
      "가격: -0.1107\n",
      "별점: 0.0508\n",
      "리뷰수: 0.4078\n",
      "판매수량: 0.5108\n",
      "100g당가격: 0.1734\n",
      "온라인판매금액: 0.5136\n",
      "100g당판매금액: 0.5139\n"
     ]
    }
   ],
   "source": [
    "# PCA 모델의 components_ 속성 확인\n",
    "pca_components = pca.components_\n",
    "\n",
    "# 첫 번째 주성분(PC1)의 가중치\n",
    "pc1_weights = pca_components[0]\n",
    "\n",
    "# 원본 컬럼명과 함께 출력\n",
    "for col, weight in zip(numeric_df.columns, pc1_weights):\n",
    "    print(f\"{col}: {weight:.4f}\")"
   ]
  },
  {
   "cell_type": "markdown",
   "id": "18a735c7-4277-41c4-8fa4-b09e92e1f32a",
   "metadata": {},
   "source": [
    "-> 변수가 거의없고 가중치를 높게 둔것들이 하필이면 판매수량가지고 만든 변수들이기 때문에 0.96으로 높을 수 밖에 없는 것. \n",
    "\n",
    "지금데이터로는 PCA하기가 힘들어서 상품명을 기준으로 요리복잡도, 투여재료 개수 등등 더 추가 데이터를 결합해서 봐야 주성분분석을 수행할 수 있을 것 같다.\n",
    "상관 관계 쪽도 마찬가지"
   ]
  },
  {
   "cell_type": "markdown",
   "id": "25ce17a4-ef29-445d-8396-d71d4ca2a174",
   "metadata": {},
   "source": [
    "### 이상치 제거 후 상관관계 보기\n",
    "일단 판매한 이력이 있는 걸로만 보기"
   ]
  },
  {
   "cell_type": "code",
   "execution_count": 85,
   "id": "ed63ea40-b2ef-4109-94eb-1dd787a48c31",
   "metadata": {},
   "outputs": [],
   "source": [
    "# 이상치 제거: 판매수량 > 0 \n",
    "filtered_df = df[(df[\"판매수량\"] > 0) ]"
   ]
  },
  {
   "cell_type": "code",
   "execution_count": 88,
   "id": "85b70be9-3863-4713-8609-95c28786636e",
   "metadata": {},
   "outputs": [
    {
     "data": {
      "text/html": [
       "<div>\n",
       "<style scoped>\n",
       "    .dataframe tbody tr th:only-of-type {\n",
       "        vertical-align: middle;\n",
       "    }\n",
       "\n",
       "    .dataframe tbody tr th {\n",
       "        vertical-align: top;\n",
       "    }\n",
       "\n",
       "    .dataframe thead th {\n",
       "        text-align: right;\n",
       "    }\n",
       "</style>\n",
       "<table border=\"1\" class=\"dataframe\">\n",
       "  <thead>\n",
       "    <tr style=\"text-align: right;\">\n",
       "      <th></th>\n",
       "      <th>상품명</th>\n",
       "      <th>가격</th>\n",
       "      <th>별점</th>\n",
       "      <th>리뷰수</th>\n",
       "      <th>판매수량</th>\n",
       "      <th>100g당가격</th>\n",
       "      <th>온라인판매금액</th>\n",
       "      <th>100g당판매금액</th>\n",
       "    </tr>\n",
       "  </thead>\n",
       "  <tbody>\n",
       "    <tr>\n",
       "      <th>116</th>\n",
       "      <td>호밍스 언양식 바싹불고기 270G</td>\n",
       "      <td>10900</td>\n",
       "      <td>4.7</td>\n",
       "      <td>167</td>\n",
       "      <td>46</td>\n",
       "      <td>4037</td>\n",
       "      <td>501400</td>\n",
       "      <td>185702</td>\n",
       "    </tr>\n",
       "    <tr>\n",
       "      <th>15</th>\n",
       "      <td>라그릴리아 시그니처 바비큐폭립 600G</td>\n",
       "      <td>23900</td>\n",
       "      <td>4.6</td>\n",
       "      <td>182</td>\n",
       "      <td>2037</td>\n",
       "      <td>3983</td>\n",
       "      <td>48684300</td>\n",
       "      <td>8113371</td>\n",
       "    </tr>\n",
       "    <tr>\n",
       "      <th>2</th>\n",
       "      <td>하코야 통 고구마 치즈 돈까스 280G</td>\n",
       "      <td>10900</td>\n",
       "      <td>4.8</td>\n",
       "      <td>1570</td>\n",
       "      <td>12257</td>\n",
       "      <td>3893</td>\n",
       "      <td>133601300</td>\n",
       "      <td>47716501</td>\n",
       "    </tr>\n",
       "    <tr>\n",
       "      <th>178</th>\n",
       "      <td>[밀키트] 블루베리 부채살 로얄 정통스테이크 냉동 320G</td>\n",
       "      <td>11900</td>\n",
       "      <td>4.5</td>\n",
       "      <td>15</td>\n",
       "      <td>15</td>\n",
       "      <td>3719</td>\n",
       "      <td>178500</td>\n",
       "      <td>55785</td>\n",
       "    </tr>\n",
       "    <tr>\n",
       "      <th>19</th>\n",
       "      <td>하코야 롱 오징어까스 320G</td>\n",
       "      <td>10900</td>\n",
       "      <td>4.6</td>\n",
       "      <td>2325</td>\n",
       "      <td>1637</td>\n",
       "      <td>3406</td>\n",
       "      <td>17843300</td>\n",
       "      <td>5575622</td>\n",
       "    </tr>\n",
       "  </tbody>\n",
       "</table>\n",
       "</div>"
      ],
      "text/plain": [
       "                                  상품명     가격   별점   리뷰수   판매수량  100g당가격  \\\n",
       "116                호밍스 언양식 바싹불고기 270G  10900  4.7   167     46     4037   \n",
       "15              라그릴리아 시그니처 바비큐폭립 600G  23900  4.6   182   2037     3983   \n",
       "2               하코야 통 고구마 치즈 돈까스 280G  10900  4.8  1570  12257     3893   \n",
       "178  [밀키트] 블루베리 부채살 로얄 정통스테이크 냉동 320G  11900  4.5    15     15     3719   \n",
       "19                   하코야 롱 오징어까스 320G  10900  4.6  2325   1637     3406   \n",
       "\n",
       "       온라인판매금액  100g당판매금액  \n",
       "116     501400     185702  \n",
       "15    48684300    8113371  \n",
       "2    133601300   47716501  \n",
       "178     178500      55785  \n",
       "19    17843300    5575622  "
      ]
     },
     "execution_count": 88,
     "metadata": {},
     "output_type": "execute_result"
    }
   ],
   "source": [
    "top_price = filtered_df.sort_values(by=\"100g당가격\", ascending=False).head(5)\n",
    "top_price"
   ]
  },
  {
   "cell_type": "code",
   "execution_count": 89,
   "id": "b7c00245-5c4e-471a-b98e-0083474dbcda",
   "metadata": {},
   "outputs": [
    {
     "data": {
      "text/html": [
       "<div>\n",
       "<style scoped>\n",
       "    .dataframe tbody tr th:only-of-type {\n",
       "        vertical-align: middle;\n",
       "    }\n",
       "\n",
       "    .dataframe tbody tr th {\n",
       "        vertical-align: top;\n",
       "    }\n",
       "\n",
       "    .dataframe thead th {\n",
       "        text-align: right;\n",
       "    }\n",
       "</style>\n",
       "<table border=\"1\" class=\"dataframe\">\n",
       "  <thead>\n",
       "    <tr style=\"text-align: right;\">\n",
       "      <th></th>\n",
       "      <th>상품명</th>\n",
       "      <th>가격</th>\n",
       "      <th>별점</th>\n",
       "      <th>리뷰수</th>\n",
       "      <th>판매수량</th>\n",
       "      <th>100g당가격</th>\n",
       "      <th>온라인판매금액</th>\n",
       "      <th>100g당판매금액</th>\n",
       "    </tr>\n",
       "  </thead>\n",
       "  <tbody>\n",
       "    <tr>\n",
       "      <th>152</th>\n",
       "      <td>하남돼지집 돼지 김치찌개 500g x 3개</td>\n",
       "      <td>22800</td>\n",
       "      <td>5.0</td>\n",
       "      <td>2</td>\n",
       "      <td>23</td>\n",
       "      <td>0</td>\n",
       "      <td>524400</td>\n",
       "      <td>0</td>\n",
       "    </tr>\n",
       "    <tr>\n",
       "      <th>153</th>\n",
       "      <td>[경복궁]직화 석쇠 불고기 150gx3팩</td>\n",
       "      <td>27900</td>\n",
       "      <td>4.3</td>\n",
       "      <td>4</td>\n",
       "      <td>23</td>\n",
       "      <td>0</td>\n",
       "      <td>641700</td>\n",
       "      <td>0</td>\n",
       "    </tr>\n",
       "    <tr>\n",
       "      <th>154</th>\n",
       "      <td>[경복궁]사골 고기 도가니탕 600gx4팩</td>\n",
       "      <td>51700</td>\n",
       "      <td>4.5</td>\n",
       "      <td>2</td>\n",
       "      <td>23</td>\n",
       "      <td>0</td>\n",
       "      <td>1189100</td>\n",
       "      <td>0</td>\n",
       "    </tr>\n",
       "    <tr>\n",
       "      <th>156</th>\n",
       "      <td>하남돼지집 차돌 된장술밥 250g x 3개</td>\n",
       "      <td>18000</td>\n",
       "      <td>5.0</td>\n",
       "      <td>2</td>\n",
       "      <td>22</td>\n",
       "      <td>0</td>\n",
       "      <td>396000</td>\n",
       "      <td>0</td>\n",
       "    </tr>\n",
       "    <tr>\n",
       "      <th>157</th>\n",
       "      <td>[경복궁]꼬리곰탕 600gx3팩</td>\n",
       "      <td>33600</td>\n",
       "      <td>5.0</td>\n",
       "      <td>1</td>\n",
       "      <td>22</td>\n",
       "      <td>0</td>\n",
       "      <td>739200</td>\n",
       "      <td>0</td>\n",
       "    </tr>\n",
       "  </tbody>\n",
       "</table>\n",
       "</div>"
      ],
      "text/plain": [
       "                         상품명     가격   별점  리뷰수  판매수량  100g당가격  온라인판매금액  \\\n",
       "152  하남돼지집 돼지 김치찌개 500g x 3개  22800  5.0    2    23        0   524400   \n",
       "153   [경복궁]직화 석쇠 불고기 150gx3팩  27900  4.3    4    23        0   641700   \n",
       "154  [경복궁]사골 고기 도가니탕 600gx4팩  51700  4.5    2    23        0  1189100   \n",
       "156  하남돼지집 차돌 된장술밥 250g x 3개  18000  5.0    2    22        0   396000   \n",
       "157        [경복궁]꼬리곰탕 600gx3팩  33600  5.0    1    22        0   739200   \n",
       "\n",
       "     100g당판매금액  \n",
       "152          0  \n",
       "153          0  \n",
       "154          0  \n",
       "156          0  \n",
       "157          0  "
      ]
     },
     "execution_count": 89,
     "metadata": {},
     "output_type": "execute_result"
    }
   ],
   "source": [
    "low_price = filtered_df.sort_values(by=\"100g당가격\", ascending=False).tail(5)\n",
    "low_price"
   ]
  },
  {
   "cell_type": "code",
   "execution_count": 90,
   "id": "ffd32848-950f-4b07-8f7d-62eab2d88618",
   "metadata": {},
   "outputs": [],
   "source": [
    "filtered_df2 = df[(df[\"100g당가격\"] > 0) ]"
   ]
  },
  {
   "cell_type": "code",
   "execution_count": 92,
   "id": "797696c8-36bc-4ff3-8afd-4e071bfc9801",
   "metadata": {},
   "outputs": [
    {
     "name": "stdout",
     "output_type": "stream",
     "text": [
      "<class 'pandas.core.frame.DataFrame'>\n",
      "Index: 139 entries, 0 to 1115\n",
      "Data columns (total 8 columns):\n",
      " #   Column     Non-Null Count  Dtype  \n",
      "---  ------     --------------  -----  \n",
      " 0   상품명        139 non-null    object \n",
      " 1   가격         139 non-null    int64  \n",
      " 2   별점         139 non-null    float64\n",
      " 3   리뷰수        139 non-null    int64  \n",
      " 4   판매수량       139 non-null    int64  \n",
      " 5   100g당가격    139 non-null    int64  \n",
      " 6   온라인판매금액    139 non-null    int64  \n",
      " 7   100g당판매금액  139 non-null    int64  \n",
      "dtypes: float64(1), int64(6), object(1)\n",
      "memory usage: 9.8+ KB\n"
     ]
    }
   ],
   "source": [
    "filtered_df2.info()"
   ]
  },
  {
   "cell_type": "code",
   "execution_count": 93,
   "id": "852f760e-b7dd-424f-9b3f-8636dad93f71",
   "metadata": {},
   "outputs": [
    {
     "data": {
      "text/html": [
       "<div>\n",
       "<style scoped>\n",
       "    .dataframe tbody tr th:only-of-type {\n",
       "        vertical-align: middle;\n",
       "    }\n",
       "\n",
       "    .dataframe tbody tr th {\n",
       "        vertical-align: top;\n",
       "    }\n",
       "\n",
       "    .dataframe thead th {\n",
       "        text-align: right;\n",
       "    }\n",
       "</style>\n",
       "<table border=\"1\" class=\"dataframe\">\n",
       "  <thead>\n",
       "    <tr style=\"text-align: right;\">\n",
       "      <th></th>\n",
       "      <th>상품명</th>\n",
       "      <th>가격</th>\n",
       "      <th>별점</th>\n",
       "      <th>리뷰수</th>\n",
       "      <th>판매수량</th>\n",
       "      <th>100g당가격</th>\n",
       "      <th>온라인판매금액</th>\n",
       "      <th>100g당판매금액</th>\n",
       "    </tr>\n",
       "  </thead>\n",
       "  <tbody>\n",
       "    <tr>\n",
       "      <th>291</th>\n",
       "      <td>[밀키트] 불화짬뽕 찌개 476G</td>\n",
       "      <td>10900</td>\n",
       "      <td>4.1</td>\n",
       "      <td>11</td>\n",
       "      <td>0</td>\n",
       "      <td>2290</td>\n",
       "      <td>0</td>\n",
       "      <td>0</td>\n",
       "    </tr>\n",
       "    <tr>\n",
       "      <th>445</th>\n",
       "      <td>[밀키트] 팔당원조칼제비 얼큰한맛 냉동 491G</td>\n",
       "      <td>9990</td>\n",
       "      <td>5.0</td>\n",
       "      <td>3</td>\n",
       "      <td>0</td>\n",
       "      <td>2035</td>\n",
       "      <td>0</td>\n",
       "      <td>0</td>\n",
       "    </tr>\n",
       "    <tr>\n",
       "      <th>1113</th>\n",
       "      <td>[밀키트] 홈밀 채선당 소고기 샤브샤브 845G</td>\n",
       "      <td>9990</td>\n",
       "      <td>4.8</td>\n",
       "      <td>944</td>\n",
       "      <td>6912</td>\n",
       "      <td>1182</td>\n",
       "      <td>69050880</td>\n",
       "      <td>8169984</td>\n",
       "    </tr>\n",
       "    <tr>\n",
       "      <th>1114</th>\n",
       "      <td>[밀키트] 홈밀 알탕 873G</td>\n",
       "      <td>9990</td>\n",
       "      <td>4.7</td>\n",
       "      <td>302</td>\n",
       "      <td>1848</td>\n",
       "      <td>1144</td>\n",
       "      <td>18461520</td>\n",
       "      <td>2114112</td>\n",
       "    </tr>\n",
       "    <tr>\n",
       "      <th>1115</th>\n",
       "      <td>홈밀 북엇국 500G</td>\n",
       "      <td>4990</td>\n",
       "      <td>4.8</td>\n",
       "      <td>116</td>\n",
       "      <td>251</td>\n",
       "      <td>998</td>\n",
       "      <td>1252490</td>\n",
       "      <td>250498</td>\n",
       "    </tr>\n",
       "  </tbody>\n",
       "</table>\n",
       "</div>"
      ],
      "text/plain": [
       "                             상품명     가격   별점  리뷰수  판매수량  100g당가격   온라인판매금액  \\\n",
       "291           [밀키트] 불화짬뽕 찌개 476G  10900  4.1   11     0     2290         0   \n",
       "445   [밀키트] 팔당원조칼제비 얼큰한맛 냉동 491G   9990  5.0    3     0     2035         0   \n",
       "1113  [밀키트] 홈밀 채선당 소고기 샤브샤브 845G   9990  4.8  944  6912     1182  69050880   \n",
       "1114            [밀키트] 홈밀 알탕 873G   9990  4.7  302  1848     1144  18461520   \n",
       "1115                 홈밀 북엇국 500G   4990  4.8  116   251      998   1252490   \n",
       "\n",
       "      100g당판매금액  \n",
       "291           0  \n",
       "445           0  \n",
       "1113    8169984  \n",
       "1114    2114112  \n",
       "1115     250498  "
      ]
     },
     "execution_count": 93,
     "metadata": {},
     "output_type": "execute_result"
    }
   ],
   "source": [
    "filtered_df2.tail()"
   ]
  },
  {
   "cell_type": "code",
   "execution_count": 79,
   "id": "99be971d-b94d-441f-894f-a1796b7a29d3",
   "metadata": {},
   "outputs": [
    {
     "name": "stdout",
     "output_type": "stream",
     "text": [
      "가격과 판매수량 간의 상관계수: 0.16723804471136736\n"
     ]
    }
   ],
   "source": [
    "# 가격과 온라인판매금액 간의 상관계수 계산\n",
    "correlation = filtered_df[\"100g당가격\"].corr(filtered_df[\"판매수량\"])\n",
    "print(f\"가격과 판매수량 간의 상관계수: {correlation}\")"
   ]
  },
  {
   "cell_type": "code",
   "execution_count": 94,
   "id": "0f8b7644-28e1-4518-9e20-3a88858ba9d8",
   "metadata": {},
   "outputs": [
    {
     "name": "stdout",
     "output_type": "stream",
     "text": [
      "가격과 판매수량 간의 상관계수: 0.10024972778988986\n"
     ]
    }
   ],
   "source": [
    "# 가격과 온라인판매금액 간의 상관계수 계산\n",
    "correlation = filtered_df2[\"100g당가격\"].corr(filtered_df2[\"판매수량\"])\n",
    "print(f\"가격과 판매수량 간의 상관계수: {correlation}\")"
   ]
  },
  {
   "cell_type": "markdown",
   "id": "ff5a3957-df10-4311-b3cc-d96fef1c6215",
   "metadata": {},
   "source": [
    "filtered_df = df[(df[\"판매수량\"] > 0) ] \n",
    "\n",
    "filtered_df2 = df[(df[\"100g당가격\"] > 0) ]\n",
    "\n",
    "filtered_df와 2 둘다 이상치 제거해본 결과 상관계수가 작다. -> 별로 상관이 있지 않다. "
   ]
  },
  {
   "cell_type": "markdown",
   "id": "c6cd3721-9c1c-43cf-95eb-df0a1f2ac564",
   "metadata": {},
   "source": [
    "#### (시각화)상관관계 매트릭스 히트맵 - 이상치 제거"
   ]
  },
  {
   "cell_type": "code",
   "execution_count": 80,
   "id": "9d8a5a07-2a37-4935-b91d-5ed4c5dd62b6",
   "metadata": {},
   "outputs": [
    {
     "name": "stdout",
     "output_type": "stream",
     "text": [
      "판매수량         1.000000\n",
      "온라인판매금액      0.986871\n",
      "100g당판매금액    0.965289\n",
      "리뷰수          0.626250\n",
      "100g당가격      0.167238\n",
      "별점           0.066515\n",
      "가격          -0.083726\n",
      "Name: 판매수량, dtype: float64\n"
     ]
    },
    {
     "name": "stderr",
     "output_type": "stream",
     "text": [
      "C:\\Users\\eunju\\anaconda3\\Lib\\site-packages\\seaborn\\utils.py:61: UserWarning: Glyph 44032 (\\N{HANGUL SYLLABLE GA}) missing from font(s) DejaVu Sans.\n",
      "  fig.canvas.draw()\n",
      "C:\\Users\\eunju\\anaconda3\\Lib\\site-packages\\seaborn\\utils.py:61: UserWarning: Glyph 44201 (\\N{HANGUL SYLLABLE GYEOG}) missing from font(s) DejaVu Sans.\n",
      "  fig.canvas.draw()\n",
      "C:\\Users\\eunju\\anaconda3\\Lib\\site-packages\\seaborn\\utils.py:61: UserWarning: Glyph 48324 (\\N{HANGUL SYLLABLE BYEOL}) missing from font(s) DejaVu Sans.\n",
      "  fig.canvas.draw()\n",
      "C:\\Users\\eunju\\anaconda3\\Lib\\site-packages\\seaborn\\utils.py:61: UserWarning: Glyph 51216 (\\N{HANGUL SYLLABLE JEOM}) missing from font(s) DejaVu Sans.\n",
      "  fig.canvas.draw()\n",
      "C:\\Users\\eunju\\anaconda3\\Lib\\site-packages\\seaborn\\utils.py:61: UserWarning: Glyph 47532 (\\N{HANGUL SYLLABLE RI}) missing from font(s) DejaVu Sans.\n",
      "  fig.canvas.draw()\n",
      "C:\\Users\\eunju\\anaconda3\\Lib\\site-packages\\seaborn\\utils.py:61: UserWarning: Glyph 48624 (\\N{HANGUL SYLLABLE BYU}) missing from font(s) DejaVu Sans.\n",
      "  fig.canvas.draw()\n",
      "C:\\Users\\eunju\\anaconda3\\Lib\\site-packages\\seaborn\\utils.py:61: UserWarning: Glyph 49688 (\\N{HANGUL SYLLABLE SU}) missing from font(s) DejaVu Sans.\n",
      "  fig.canvas.draw()\n",
      "C:\\Users\\eunju\\anaconda3\\Lib\\site-packages\\seaborn\\utils.py:61: UserWarning: Glyph 54032 (\\N{HANGUL SYLLABLE PAN}) missing from font(s) DejaVu Sans.\n",
      "  fig.canvas.draw()\n",
      "C:\\Users\\eunju\\anaconda3\\Lib\\site-packages\\seaborn\\utils.py:61: UserWarning: Glyph 47588 (\\N{HANGUL SYLLABLE MAE}) missing from font(s) DejaVu Sans.\n",
      "  fig.canvas.draw()\n",
      "C:\\Users\\eunju\\anaconda3\\Lib\\site-packages\\seaborn\\utils.py:61: UserWarning: Glyph 47049 (\\N{HANGUL SYLLABLE RYANG}) missing from font(s) DejaVu Sans.\n",
      "  fig.canvas.draw()\n",
      "C:\\Users\\eunju\\anaconda3\\Lib\\site-packages\\seaborn\\utils.py:61: UserWarning: Glyph 45817 (\\N{HANGUL SYLLABLE DANG}) missing from font(s) DejaVu Sans.\n",
      "  fig.canvas.draw()\n",
      "C:\\Users\\eunju\\anaconda3\\Lib\\site-packages\\seaborn\\utils.py:61: UserWarning: Glyph 50728 (\\N{HANGUL SYLLABLE ON}) missing from font(s) DejaVu Sans.\n",
      "  fig.canvas.draw()\n",
      "C:\\Users\\eunju\\anaconda3\\Lib\\site-packages\\seaborn\\utils.py:61: UserWarning: Glyph 46972 (\\N{HANGUL SYLLABLE RA}) missing from font(s) DejaVu Sans.\n",
      "  fig.canvas.draw()\n",
      "C:\\Users\\eunju\\anaconda3\\Lib\\site-packages\\seaborn\\utils.py:61: UserWarning: Glyph 51064 (\\N{HANGUL SYLLABLE IN}) missing from font(s) DejaVu Sans.\n",
      "  fig.canvas.draw()\n",
      "C:\\Users\\eunju\\anaconda3\\Lib\\site-packages\\seaborn\\utils.py:61: UserWarning: Glyph 44552 (\\N{HANGUL SYLLABLE GEUM}) missing from font(s) DejaVu Sans.\n",
      "  fig.canvas.draw()\n",
      "C:\\Users\\eunju\\anaconda3\\Lib\\site-packages\\seaborn\\utils.py:61: UserWarning: Glyph 50529 (\\N{HANGUL SYLLABLE AEG}) missing from font(s) DejaVu Sans.\n",
      "  fig.canvas.draw()\n"
     ]
    },
    {
     "data": {
      "image/png": "[encoded data removed]",
      "text/plain": [
       "<Figure size 1000x600 with 2 Axes>"
      ]
     },
     "metadata": {},
     "output_type": "display_data"
    }
   ],
   "source": [
    "# 숫자형 열만 선택\n",
    "numeric_df = filtered_df.select_dtypes(include=[\"int64\", \"float64\"])\n",
    "\n",
    "# 상관관계 분석\n",
    "correlation_matrix = numeric_df.corr()\n",
    "print(correlation_matrix[\"판매수량\"].sort_values(ascending=False))\n",
    "\n",
    "# 상관관계 시각화\n",
    "plt.figure(figsize=(10, 6))\n",
    "sns.heatmap(correlation_matrix, annot=True, cmap=\"coolwarm\", fmt=\".2f\")\n",
    "\n",
    "# 제목 및 폰트 설정\n",
    "plt.title(\"상관관계 행렬\", fontproperties=fontprop, fontsize=16)\n",
    "\n",
    "# x축, y축 라벨 폰트 설정\n",
    "plt.xticks(fontproperties=fontprop)\n",
    "plt.yticks(fontproperties=fontprop)\n",
    "\n",
    "# 그래프 출력\n",
    "plt.show()"
   ]
  },
  {
   "cell_type": "markdown",
   "id": "db616855-4d4e-4303-b878-dac8d08824ee",
   "metadata": {},
   "source": [
    " -> 이상치를 제거했음에도 거의 상관이 없는 것을 확인할 수 있다. 따라서 싸다고 무조건 잘팔리지는 않는다. \n",
    " \n",
    " 리뷰수같은 경우는 많이 팔릴 수록 리뷰도 많이 달리기 때문에 0.64로 상관계수가 높게 나오는 것."
   ]
  },
  {
   "cell_type": "markdown",
   "id": "1808ab77-dca0-431c-b7c0-8a4eaa2ee034",
   "metadata": {},
   "source": [
    "#### (시각화) 가격과 판매수량 산점도"
   ]
  },
  {
   "cell_type": "code",
   "execution_count": 82,
   "id": "c2c10408-da20-42f4-be5c-f358c12bd010",
   "metadata": {
    "scrolled": true
   },
   "outputs": [
    {
     "data": {
      "image/png": "[encoded data removed]",
      "text/plain": [
       "<Figure size 1000x600 with 1 Axes>"
      ]
     },
     "metadata": {},
     "output_type": "display_data"
    }
   ],
   "source": [
    "import matplotlib.font_manager as fm\n",
    "import matplotlib.pyplot as plt\n",
    "import seaborn as sns\n",
    "font_path = \"C:/Windows/Fonts/malgun.ttf\"\n",
    "fontprop = fm.FontProperties(fname=font_path)\n",
    "\n",
    "# 가격과 온라인판매금액 간의 산점도 시각화\n",
    "plt.figure(figsize=(10, 6))\n",
    "sns.scatterplot(x='100g당가격', y='판매수량', data=filtered_df)\n",
    "plt.title('100g당가격 vs 판매수량 (이상치 제거 후)', fontproperties=fontprop)\n",
    "plt.xlabel('100g당가격', fontproperties=fontprop)\n",
    "plt.ylabel('판매수량', fontproperties=fontprop)\n",
    "plt.show()"
   ]
  },
  {
   "cell_type": "markdown",
   "id": "46fc4b60-e85d-4383-94c4-89014b4e0974",
   "metadata": {},
   "source": [
    "#### (시각화) 히스토그램+ 커널밀도함수 - 이상치 제거 버전\n",
    "100g당 가격이 없는건 제외 했다."
   ]
  },
  {
   "cell_type": "code",
   "execution_count": 95,
   "id": "947af728-3313-4ace-8962-d31fe93bba51",
   "metadata": {
    "scrolled": true
   },
   "outputs": [
    {
     "data": {
      "image/png": "[encoded data removed]",
      "text/plain": [
       "<Figure size 1000x600 with 1 Axes>"
      ]
     },
     "metadata": {},
     "output_type": "display_data"
    }
   ],
   "source": [
    "# 전역 폰트 설정\n",
    "plt.rcParams[\"font.family\"] = fontprop.get_name()\n",
    "\n",
    "# 히스토그램 + KDE 그리기\n",
    "plt.figure(figsize=(10, 6))\n",
    "sns.histplot(filtered_df2[\"100g당가격\"], kde=True, bins=30, color=\"skyblue\")\n",
    "\n",
    "# 제목 및 라벨 설정\n",
    "plt.title(\"100g당가격 분포 (히스토그램 + KDE)\", fontsize=16)\n",
    "plt.xlabel(\"100g당가격\", fontsize=12)\n",
    "plt.ylabel(\"빈도\", fontsize=12)\n",
    "\n",
    "# 그래프 출력\n",
    "plt.show()"
   ]
  },
  {
   "cell_type": "markdown",
   "id": "6e69c145-53be-49eb-8f57-2a04bda3a2c8",
   "metadata": {},
   "source": [
    "-> 주로 가격대 형성이 100g당 1000~2000원대 인것을 볼 수 있다."
   ]
  },
  {
   "cell_type": "markdown",
   "id": "4ccc641e-9930-4d7e-9ac5-e4c506a35f96",
   "metadata": {},
   "source": [
    "### 자주 등장하는 상품명 확인 \n",
    "판매이력이 있는 데이터에서, 인기상품 100위 까지 가장 자주 등장하는 상품명은 뭘까 ? "
   ]
  },
  {
   "cell_type": "code",
   "execution_count": 29,
   "id": "df9664cc-0612-4f76-b4da-a3f086d6c34f",
   "metadata": {},
   "outputs": [
    {
     "name": "stdout",
     "output_type": "stream",
     "text": [
      "<class 'pandas.core.frame.DataFrame'>\n",
      "Index: 196 entries, 0 to 1124\n",
      "Data columns (total 6 columns):\n",
      " #   Column   Non-Null Count  Dtype  \n",
      "---  ------   --------------  -----  \n",
      " 0   상품명      196 non-null    object \n",
      " 1   가격       196 non-null    int64  \n",
      " 2   별점       169 non-null    float64\n",
      " 3   리뷰수      196 non-null    int64  \n",
      " 4   판매수량     196 non-null    int64  \n",
      " 5   온라인판매금액  196 non-null    int64  \n",
      "dtypes: float64(1), int64(4), object(1)\n",
      "memory usage: 10.7+ KB\n"
     ]
    }
   ],
   "source": [
    "filtered_df.info()"
   ]
  },
  {
   "cell_type": "code",
   "execution_count": 96,
   "id": "1df1cc02-bfa2-44ea-9bad-c584b840f18f",
   "metadata": {},
   "outputs": [],
   "source": [
    "df2= filtered_df.sort_values(by=\"판매수량\", ascending=False).head(100)"
   ]
  },
  {
   "cell_type": "markdown",
   "id": "6821395a-a5b1-4636-978c-9253e61629cf",
   "metadata": {},
   "source": [
    "#### 상품명 리스트화"
   ]
  },
  {
   "cell_type": "code",
   "execution_count": 97,
   "id": "99a2a0da-b8e7-4847-b009-c89d9cf39bff",
   "metadata": {
    "scrolled": true
   },
   "outputs": [
    {
     "name": "stdout",
     "output_type": "stream",
     "text": [
      "['애슐리 오리지널 통살치킨 500G', '하코야 통 치즈 돈까스 350G', '하코야 통 고구마 치즈 돈까스 280G', '투다리 김치오뎅전골 653G', '[밀키트] 홈밀 채선당 소고기 샤브샤브 845G', '[밀키트] 홈밀 채선당 소고기 샤브샤브 845G', '하코야 김치카츠 나베 680G', '하코야 멘치까스 360G', '[밀키트] 밀푀유 나베 4인분 1129G', '[밀키트] 홈밀 푸짐한 스팸 부대찌개 1120G', '[밀키트] 얼큰 미나리 버섯샤브전골 835G', '[밀키트] 홈밀 놀부 부대찌개 1042G', '하코야 오뎅전골 751G', '[밀키트] 홈밀 이건 꼭 사야해 부대찌개 2.5KG', '[밀키트] 홈밀 감바스 알 아히요 420G', '[밀키트] 홈밀 푸짐한 밀푀유나베 1079G', '라그릴리아 시그니처 바비큐폭립 600G', '[밀키트] 홈밀 알탕 873G', '[밀키트] 려강 국내산 사골육수 모둠 순대국 1.4KG', '[밀키트] 홈밀 푸짐한 스팸 부대찌개 525G', '[밀키트] 홈밀 이춘삼 쟁반짜장 890G', '하코야 롱 오징어까스 320G', '달떡볶이 쫄깃 바삭 떡꼬치 330G', '[밀키트] 홈밀 감자수제비 순두부 찌개 1100G', '하코야 롱 생선까스 300G', '[밀키트] 홈밀 칼칼하고 시원한 부대찌개 735G', '[밀키트] 홈밀 쟌슨빌 부대찌개 425G', '추억의 1999 홍대떡볶이 냉동 426G', '[밀키트] 홈밀 소불고기 버섯전골 300G', '[밀키트] 홈밀 직화 소불고기 버섯전골 490G', '홈밀 튤립 국물닭발 400G', '[밀키트] 홈밀 우삼겹 된장찌개 480G (1인분)', '[밀키트] 우삼겹 낙곱새 전골 4인분 1585G', '[밀키트] 홈밀 돼지고기 김치찌개 738G', '[밀키트] 홈밀 동태탕 863G', '[밀키트] 홈밀 북창동식해물순두부찌개', '[밀키트] 홈밀 한우곱창전골 832G', '[밀키트] 홈밀 직화 우삼겹 된장찌개 670G', '[밀키트] 홈밀 대구매운탕 823G', '[밀키트] 채선당 굴림만두전골 790G', '[밀키트] 홈밀 바질 크림 빠네파스타 636G', '[밀키트] 홈밀 콩나물불고기 787G', '[밀키트] 홈밀 이비가 짬뽕순두부 1025G', '[밀키트] 홈밀 오삼불고기 400G', '[밀키트] 신당동식 사리듬뿍 즉석 떡볶이 4인분 1545G', '[밀키트] 홈밀 놀부 부대찌개 1인분 491G', '[밀키트] 홈밀 순두부찌개 요리재료 610G', '[밀키트] 홈밀 매콤 깻잎 순대볶음 627G', '[밀키트] 홈밀 청국장찌개 요리재료 560G', '[밀키트] 홈밀 삼선 해물 누룽지탕 678G', '[밀키트] 홈밀 오코노미야끼 533G', '애슐리 오리지널 통살치킨&치폴레소스 500G', '[밀키트] 홈밀 사천식 마라탕 566G', '[밀키트] 홈밀 순살 닭볶음탕 1100G', '[밀키트] 팜앤들 동대문식 닭한마리 칼국수 1265G', '[VIPS] 오리지널 바비큐 폭립 x 2개', '[밀키트] 려강 나주식맑은곰탕 1005G', '[밀키트] 당면가득 안동식 찜닭 1677G', '[밀키트] 홈밀 소고기듬뿍 쌀국수 650G', '[밀키트] 홈밀 캠핑포차 직화 삼진어묵탕 770G', '[밀키트] 홈밀 고깃집 된장찌개 535G', '[밀키트] 홈밀 춘천식 닭갈비 820G', '[밀키트] 홈밀 된장찌개 요리재료 465G', '[밀키트] 홈밀 이차돌 숙주볶음 460G', '[밀키트] 채선당 백합칼국수 990G', '[밀키트] 홈밀 하이디라오 소스로 만든 마라훠궈 915G', '[밀키트] 홈밀 우동사리 닭갈비 600G', '[밀키트] 홈밀 전주식 콩나물국밥 410.7G', '[밀키트] 홈밀 고추잡채와 꽃빵 500G', '[밀키트] 홈밀 캠핑포차 직화 두루치기 600G', '남다른 감자탕순살 800G', '호밍스 부산식 곱창 전골 760G', '[밀키트] 홈밀 직화 우삼겹 라볶이 620G', '홈밀 북엇국 500G', '[밀키트] 홈밀 부채살 큐브 스테이크 607G', '[밀키트] 홈밀 직화 푸짐한 순대곱창 전골 580G', '[밀키트] 홈밀 김치비지찌개 요리재료 350G', '[밀키트] 마이셰프 바지락술찜과 파스타 1062G', '[밀키트] 홈밀 제주흑돼지 애호박찌개 370G(1인분)', '프레시지 소고기버섯잡채 305G', '풀무원 2분조리 국물 떡볶이 1인분 170G', '북촌손만두 고기굴림만두 500G', '[하남돼지집] 고깃집 김치볶음밥 x 6개', '[밀키트] 마이셰프 월남쌈 883G', '[밀키트] 이화수 육개장 칼국수 950G', '[밀키트] 홈밀 야끼소바 743G', '[밀키트] 홈밀 소고기 마라샹궈 635G', '[밀키트] 홈밀 고추장찌개 요리재료 485G', '프레시지 우삼겹청국장찌개 773G', '[밀키트] 홈밀 포크&가니쉬 바비큐 스테이크 624G', '[밀키트] 홈밀 모둠버섯 두부전골 1,019G', '빕스 고르곤졸라피자 400G', '[밀키트] 홈밀 해물탕 908G', '[밀키트] 려강 소머리 국밥 1090G', '[밀키트] 애슐리 목살 스테이크 플래터 635G', '[경복궁]칼집 LA갈비 600g', '[밀키트] 애슐리 멕시칸 타코 470G', '[경복궁]불고기 LA갈비 혼합구성 (양념불고기 1팩+칼집LA갈비 1팩)', '대상 호밍스 서울식 소불고기 전골 650G', '[밀키트] 홈밀 한우 곱도리탕 1700G']\n"
     ]
    }
   ],
   "source": [
    "product_names = df2[\"상품명\"].tolist()\n",
    "print(product_names)"
   ]
  },
  {
   "cell_type": "markdown",
   "id": "11d5f538-5d75-42e8-b7e2-48f3be44251d",
   "metadata": {},
   "source": [
    "#### 불용어 제거"
   ]
  },
  {
   "cell_type": "code",
   "execution_count": 98,
   "id": "ac8be456-4e4b-467e-8b26-3ad6b2a83975",
   "metadata": {},
   "outputs": [
    {
     "name": "stdout",
     "output_type": "stream",
     "text": [
      "하코야: 7\n",
      "부대찌개: 7\n",
      "애슐리: 4\n",
      "채선당: 4\n",
      "푸짐한: 4\n",
      "우삼겹: 4\n",
      "된장찌개: 4\n",
      "전골: 4\n",
      "오리지널: 3\n",
      "소고기: 3\n",
      "려강: 3\n",
      "소불고기: 3\n",
      "스테이크: 3\n",
      "통: 2\n",
      "치즈: 2\n",
      "돈까스: 2\n",
      "샤브샤브: 2\n",
      "나베: 2\n",
      "스팸: 2\n",
      "놀부: 2\n"
     ]
    }
   ],
   "source": [
    "from collections import Counter\n",
    "import re\n",
    "\n",
    "# 제거할 불용어 담기\n",
    "stopwords = ['밀키트', '홈밀', '요리재료', 'G', 'KG', 'x', '개', '인분', '직화', 'g']\n",
    "\n",
    "# 정규화로 단어 정제하는 함수\n",
    "def clean_and_tokenize(text):\n",
    "    # Remove special characters and digits\n",
    "    text = re.sub(r'[^\\w\\s]', '', text)\n",
    "    text = re.sub(r'\\d+', '', text)\n",
    "    # Convert to lowercase and split into words\n",
    "    words = text.lower().split()\n",
    "    # Remove stopwords\n",
    "    words = [word for word in words if word not in stopwords]\n",
    "    return words\n",
    "\n",
    "# 하나의 string으로 모두 합치기\n",
    "all_text = ' '.join(product_names)\n",
    "\n",
    "# 정규화정제로 상품명들 정제하기\n",
    "words = clean_and_tokenize(all_text)\n",
    "\n",
    "# 자주등장하는 단어 개수 세기\n",
    "word_counts = Counter(words)\n",
    "\n",
    "# 가장 자주 등장하는 것 20개\n",
    "most_common = word_counts.most_common(20)\n",
    "\n",
    "# 결과\n",
    "for word, count in most_common:\n",
    "    print(f\"{word}: {count}\")"
   ]
  },
  {
   "cell_type": "markdown",
   "id": "9e997ae2-22bf-48b1-a9f6-ebe26f9b8bc8",
   "metadata": {},
   "source": [
    "### 결과정리"
   ]
  },
  {
   "cell_type": "markdown",
   "id": "95b281ef-958a-421c-aabb-a446a8cfcbd8",
   "metadata": {},
   "source": [
    "-> 부대찌개, 하코야, 애슐리, 채선당, 된장찌개, 전골 등이 보인다."
   ]
  },
  {
   "cell_type": "markdown",
   "id": "3337b9bd-b48d-450f-8759-febd854b49a7",
   "metadata": {},
   "source": [
    "### 디벨롭 방안"
   ]
  },
  {
   "cell_type": "markdown",
   "id": "f4600d54-3c1d-4bb9-a37d-df831da3dab7",
   "metadata": {},
   "source": [
    "1. 분석 추가 아이디어 : 각 상품별 가격대 분포 확인하기 -> 상품을 기획할 때 가격대 형성에 참고\n",
    "2. 레시피 데이터 결합해서 분석해보기 -> 레시피 데이터 결합할 때 상품분류를 어떻게 할 지 고민\n",
    "   ex.바비큐 폭립은 바비큐이기도 하고 폭립에 속하기도 한다."
   ]
  }
 ],
 "metadata": {
  "kernelspec": {
   "display_name": "Python 3 (ipykernel)",
   "language": "python",
   "name": "python3"
  },
  "language_info": {
   "codemirror_mode": {
    "name": "ipython",
    "version": 3
   },
   "file_extension": ".py",
   "mimetype": "text/x-python",
   "name": "python",
   "nbconvert_exporter": "python",
   "pygments_lexer": "ipython3",
   "version": "3.12.7"
  }
 },
 "nbformat": 4,
 "nbformat_minor": 5
}
