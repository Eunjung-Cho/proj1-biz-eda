{
  "cells": [
    {
      "cell_type": "code",
      "source": [
        "!sudo apt-get install -y fonts-nanum\n",
        "!sudo fc-cache -fv\n",
        "!rm ~/.cache/matplotlib -rf"
      ],
      "metadata": {
        "colab": {
          "base_uri": "https://localhost:8080/"
        },
        "id": "JGKHz9VfHLK1",
        "outputId": "06b6781d-d7f8-440b-8e5b-f87f0fdf6cd3"
      },
      "execution_count": null,
      "outputs": [
        {
          "output_type": "stream",
          "name": "stdout",
          "text": [
            "Reading package lists... Done\n",
            "Building dependency tree... Done\n",
            "Reading state information... Done\n",
            "fonts-nanum is already the newest version (20200506-1).\n",
            "0 upgraded, 0 newly installed, 0 to remove and 29 not upgraded.\n",
            "/usr/share/fonts: caching, new cache contents: 0 fonts, 1 dirs\n",
            "/usr/share/fonts/truetype: caching, new cache contents: 0 fonts, 3 dirs\n",
            "/usr/share/fonts/truetype/humor-sans: caching, new cache contents: 1 fonts, 0 dirs\n",
            "/usr/share/fonts/truetype/liberation: caching, new cache contents: 16 fonts, 0 dirs\n",
            "/usr/share/fonts/truetype/nanum: caching, new cache contents: 12 fonts, 0 dirs\n",
            "/usr/local/share/fonts: caching, new cache contents: 0 fonts, 0 dirs\n",
            "/root/.local/share/fonts: skipping, no such directory\n",
            "/root/.fonts: skipping, no such directory\n",
            "/usr/share/fonts/truetype: skipping, looped directory detected\n",
            "/usr/share/fonts/truetype/humor-sans: skipping, looped directory detected\n",
            "/usr/share/fonts/truetype/liberation: skipping, looped directory detected\n",
            "/usr/share/fonts/truetype/nanum: skipping, looped directory detected\n",
            "/var/cache/fontconfig: cleaning cache directory\n",
            "/root/.cache/fontconfig: not cleaning non-existent cache directory\n",
            "/root/.fontconfig: not cleaning non-existent cache directory\n",
            "fc-cache: succeeded\n"
          ]
        }
      ]
    },
    {
      "cell_type": "code",
      "source": [
        "# 2️⃣ CSV 파일 복사 (Colab 내부에서 사용 가능하게)\n",
        "import os\n",
        "\n",
        "file_path = \"/mnt/data/ad_simulation_data (3).csv\"\n",
        "local_file_path = \"ad_data_0222.csv\"\n",
        "os.system(f\"cp {file_path} {local_file_path}\")\n"
      ],
      "metadata": {
        "colab": {
          "base_uri": "https://localhost:8080/"
        },
        "id": "8-BRj1DofqHq",
        "outputId": "caa5cde1-6519-44f5-ed5a-c90e9daab4e1"
      },
      "execution_count": 11,
      "outputs": [
        {
          "output_type": "execute_result",
          "data": {
            "text/plain": [
              "512"
            ]
          },
          "metadata": {},
          "execution_count": 11
        }
      ]
    },
    {
      "cell_type": "code",
      "source": [
        "\n",
        "\n",
        "# 3️⃣ Streamlit 앱 코드 저장\n",
        "streamlit_code = \"\"\"\n",
        "import streamlit as st\n",
        "import pandas as pd\n",
        "import plotly.express as px\n",
        "from datetime import datetime\n",
        "\n",
        "# CSV 파일 로드\n",
        "file_path = \"ad_data_0222.csv\"\n",
        "df = pd.read_csv(file_path)\n",
        "\n",
        "# Streamlit 페이지 설정\n",
        "st.set_page_config(page_title='이지혜_광고 효과 분석 대시보드', layout='wide')\n",
        "\n",
        "# 제목 및 설명\n",
        "st.title('광고 효과 분석 대시보드')\n",
        "st.write('광고 캠페인의 성과를 분석하고, 광고 지출 대비 매출 효과를 평가합니다.')\n",
        "\n",
        "# 광고 채널 선택 필터\n",
        "selected_channel = st.multiselect('분석할 광고 채널을 선택하세요:', options=df['광고_채널'].unique(), default=df['광고_채널'].unique())\n",
        "filtered_df = df[df['광고_채널'].isin(selected_channel)]\n",
        "\n",
        "\n",
        "# 광고_시작일 및 광고_종료일 컬럼을 datetime 형식으로 변환\n",
        "filtered_df['광고_시작일'] = pd.to_datetime(filtered_df['광고_시작일'])\n",
        "filtered_df['광고_종료일'] = pd.to_datetime(filtered_df['광고_종료일'])\n",
        "\n",
        "# 사용자로부터 분석 기간 입력 받기\n",
        "start_date, end_date = st.date_input(\n",
        "    '분석 기간 선택',\n",
        "    [filtered_df['광고_시작일'].min(), filtered_df['광고_종료일'].max()]\n",
        ")\n",
        "\n",
        "# datetime.date -> datetime.datetime 변환\n",
        "start_date = datetime.combine(start_date, datetime.min.time())\n",
        "end_date = datetime.combine(end_date, datetime.max.time())\n",
        "\n",
        "# 선택한 기간과 광고 기간이 겹치는 데이터 필터링\n",
        "filtered_df = filtered_df[\n",
        "    (filtered_df['광고_시작일'] <= end_date) &  # 광고 시작일이 선택한 종료일 이전\n",
        "    (filtered_df['광고_종료일'] >= start_date)  # 광고 종료일이 선택한 시작일 이후\n",
        "]\n",
        "\n",
        "\n",
        "# 데이터 다운로드 버튼\n",
        "st.subheader('데이터 다운로드')\n",
        "csv = filtered_df.to_csv(index=False).encode('utf-8-sig')\n",
        "st.download_button(\n",
        "    label=\"CSV 파일 다운로드\",\n",
        "    data=csv,\n",
        "    file_name='filtered_data.csv',\n",
        "    mime='text/csv'\n",
        ")\n",
        "\n",
        "\n",
        "#   예측모델추가\n",
        "\n",
        "from sklearn.linear_model import LinearRegression\n",
        "from sklearn.model_selection import train_test_split\n",
        "\n",
        "# 데이터 준비\n",
        "X = filtered_df[['광고_지출액']]\n",
        "y = filtered_df['매출액']\n",
        "X_train, X_test, y_train, y_test = train_test_split(X, y, test_size=0.2, random_state=42)\n",
        "\n",
        "# 모델 학습\n",
        "model = LinearRegression()\n",
        "model.fit(X_train, y_train)\n",
        "\n",
        "# 예측 결과 시각화\n",
        "filtered_df['매출 예측'] = model.predict(X)\n",
        "fig8 = px.scatter(filtered_df, x='광고_지출액', y='매출액', title='광고 지출액과 매출액 예측', trendline='ols')\n",
        "st.plotly_chart(fig8, use_container_width=True)\n",
        "\n",
        "# 추가적인 KPI분석\n",
        "# ROAS 계산\n",
        "filtered_df['ROAS'] = filtered_df['매출액'] / filtered_df['광고_지출액']\n",
        "st.subheader('광고 채널별 ROAS 분석')\n",
        "roas_channel = filtered_df.groupby('광고_채널')['ROAS'].mean().reset_index()\n",
        "fig6 = px.bar(roas_channel, x='광고_채널', y='ROAS', title='광고 채널별 ROAS', color='광고_채널')\n",
        "st.plotly_chart(fig6, use_container_width=True)\n",
        "\n",
        "\n",
        "# 광고 채널별 광고 지출액 비교\n",
        "st.subheader('광고 채널별 광고 지출 비교')\n",
        "channel_spending = filtered_df.groupby('광고_채널')['광고_지출액'].sum().reset_index()\n",
        "fig1 = px.bar(channel_spending, x='광고_채널', y='광고_지출액', title='광고 채널별 광고 지출액', color='광고_채널')\n",
        "st.plotly_chart(fig1, use_container_width=True)\n",
        "\n",
        "# 광고 형식별 클릭률(CTR) 분석\n",
        "st.subheader('광고 형식별 클릭률(CTR)')\n",
        "filtered_df['CTR'] = (filtered_df['광고_클릭_횟수'] / filtered_df['광고_노출_횟수']) * 100\n",
        "format_ctr = filtered_df.groupby('광고_형식')['CTR'].mean().reset_index()\n",
        "fig2 = px.bar(format_ctr, x='광고_형식', y='CTR', title='광고 형식별 평균 클릭률', color='광고_형식')\n",
        "st.plotly_chart(fig2, use_container_width=True)\n",
        "\n",
        "# 거주 지역별 매출액 분포\n",
        "st.subheader('지역별 매출 분포')\n",
        "region_sales = filtered_df.groupby('거주_지역')['매출액'].sum().reset_index()\n",
        "fig3 = px.pie(region_sales, names='거주_지역', values='매출액', title='지역별 매출 비율')\n",
        "st.plotly_chart(fig3, use_container_width=True)\n",
        "\n",
        "# 연령대별 평균 매출액 분석\n",
        "st.subheader('연령대별 평균 매출액')\n",
        "filtered_df['연령대'] = filtered_df['연령'].apply(lambda x: f\"{(x//10)*10}대\")\n",
        "age_sales = filtered_df.groupby('연령대')['매출액'].mean().reset_index()\n",
        "fig4 = px.line(age_sales, x='연령대', y='매출액', title='연령대별 평균 매출액', markers=True)\n",
        "st.plotly_chart(fig4, use_container_width=True)\n",
        "\n",
        "# 광고 회상률 및 태도 변화 분석\n",
        "st.subheader('광고 회상률 & 태도 변화 분석')\n",
        "fig5 = px.scatter(filtered_df, x='광고_회상률', y='광고_태도_변화', title='광고 회상률과 태도 변화의 관계', color='광고_채널', size='광고_지출액')\n",
        "st.plotly_chart(fig5, use_container_width=True)\n",
        "\n",
        "# 원본 데이터 표시\n",
        "st.subheader('원본 데이터 보기')\n",
        "st.dataframe(filtered_df)\n",
        "\n",
        "\"\"\"\n",
        "\n",
        "# 4️⃣ Streamlit 앱 코드 저장\n",
        "with open(\"app.py\", \"w\") as f:\n",
        "    f.write(streamlit_code)\n",
        "\n",
        "# 5️⃣ Streamlit 실행 & Cloudflare Tunnel 사용\n",
        "!streamlit run app.py &>/dev/null &\n",
        "!./cloudflared tunnel --url http://localhost:8501 --no-autoupdate\n"
      ],
      "metadata": {
        "colab": {
          "base_uri": "https://localhost:8080/"
        },
        "id": "UT_Soqi3fqZk",
        "outputId": "fbcf2d50-3b49-405d-cb48-3116f653212d"
      },
      "execution_count": null,
      "outputs": [
        {
          "output_type": "stream",
          "name": "stdout",
          "text": [
            "\u001b[90m2025-03-07T12:06:02Z\u001b[0m \u001b[32mINF\u001b[0m Thank you for trying Cloudflare Tunnel. Doing so, without a Cloudflare account, is a quick way to experiment and try it out. However, be aware that these account-less Tunnels have no uptime guarantee, are subject to the Cloudflare Online Services Terms of Use (https://www.cloudflare.com/website-terms/), and Cloudflare reserves the right to investigate your use of Tunnels for violations of such terms. If you intend to use Tunnels in production you should use a pre-created named tunnel by following: https://developers.cloudflare.com/cloudflare-one/connections/connect-apps\n",
            "\u001b[90m2025-03-07T12:06:02Z\u001b[0m \u001b[32mINF\u001b[0m Requesting new quick Tunnel on trycloudflare.com...\n",
            "\u001b[90m2025-03-07T12:06:05Z\u001b[0m \u001b[32mINF\u001b[0m +--------------------------------------------------------------------------------------------+\n",
            "\u001b[90m2025-03-07T12:06:05Z\u001b[0m \u001b[32mINF\u001b[0m |  Your quick Tunnel has been created! Visit it at (it may take some time to be reachable):  |\n",
            "\u001b[90m2025-03-07T12:06:05Z\u001b[0m \u001b[32mINF\u001b[0m |  https://paradise-inline-pdt-mat.trycloudflare.com                                         |\n",
            "\u001b[90m2025-03-07T12:06:05Z\u001b[0m \u001b[32mINF\u001b[0m +--------------------------------------------------------------------------------------------+\n",
            "\u001b[90m2025-03-07T12:06:05Z\u001b[0m \u001b[32mINF\u001b[0m Cannot determine default configuration path. No file [config.yml config.yaml] in [~/.cloudflared ~/.cloudflare-warp ~/cloudflare-warp /etc/cloudflared /usr/local/etc/cloudflared]\n",
            "\u001b[90m2025-03-07T12:06:05Z\u001b[0m \u001b[32mINF\u001b[0m Version 2025.2.1 (Checksum afdfadd1ef552e66bffc35246fe30a9bd578356d2d386de95585ccfc432472b8)\n",
            "\u001b[90m2025-03-07T12:06:05Z\u001b[0m \u001b[32mINF\u001b[0m GOOS: linux, GOVersion: go1.22.10, GoArch: amd64\n",
            "\u001b[90m2025-03-07T12:06:05Z\u001b[0m \u001b[32mINF\u001b[0m Settings: map[ha-connections:1 no-autoupdate:true protocol:quic url:http://localhost:8501]\n",
            "\u001b[90m2025-03-07T12:06:05Z\u001b[0m \u001b[32mINF\u001b[0m Generated Connector ID: edb2c8ad-31df-4737-bc19-4b9fe4005a07\n",
            "\u001b[90m2025-03-07T12:06:05Z\u001b[0m \u001b[32mINF\u001b[0m cloudflared will not automatically update when run from the shell. To enable auto-updates, run cloudflared as a service: https://developers.cloudflare.com/cloudflare-one/connections/connect-apps/run-tunnel/as-a-service/\n",
            "\u001b[90m2025-03-07T12:06:05Z\u001b[0m \u001b[32mINF\u001b[0m Initial protocol quic\n",
            "\u001b[90m2025-03-07T12:06:05Z\u001b[0m \u001b[32mINF\u001b[0m ICMP proxy will use 172.28.0.12 as source for IPv4\n",
            "\u001b[90m2025-03-07T12:06:05Z\u001b[0m \u001b[32mINF\u001b[0m ICMP proxy will use :: as source for IPv6\n",
            "\u001b[90m2025-03-07T12:06:05Z\u001b[0m \u001b[32mINF\u001b[0m ICMP proxy will use 172.28.0.12 as source for IPv4\n",
            "\u001b[90m2025-03-07T12:06:05Z\u001b[0m \u001b[32mINF\u001b[0m ICMP proxy will use :: as source for IPv6\n",
            "\u001b[90m2025-03-07T12:06:05Z\u001b[0m \u001b[32mINF\u001b[0m Starting metrics server on 127.0.0.1:20241/metrics\n",
            "\u001b[90m2025-03-07T12:06:05Z\u001b[0m \u001b[32mINF\u001b[0m Using [CurveID(4588) CurveID(25497) CurveP256] as curve preferences \u001b[36mconnIndex=\u001b[0m0 \u001b[36mevent=\u001b[0m0 \u001b[36mip=\u001b[0m198.41.192.107\n",
            "2025/03/07 12:06:05 failed to sufficiently increase receive buffer size (was: 208 kiB, wanted: 7168 kiB, got: 416 kiB). See https://github.com/quic-go/quic-go/wiki/UDP-Buffer-Sizes for details.\n",
            "\u001b[90m2025-03-07T12:06:06Z\u001b[0m \u001b[32mINF\u001b[0m Registered tunnel connection \u001b[36mconnIndex=\u001b[0m0 \u001b[36mconnection=\u001b[0m185538ab-39e7-44a3-8374-56c2ee0dd7b2 \u001b[36mevent=\u001b[0m0 \u001b[36mip=\u001b[0m198.41.192.107 \u001b[36mlocation=\u001b[0miad10 \u001b[36mprotocol=\u001b[0mquic\n"
          ]
        }
      ]
    }
  ],
  "metadata": {
    "colab": {
      "provenance": []
    },
    "kernelspec": {
      "display_name": "Python 3",
      "name": "python3"
    },
    "language_info": {
      "name": "python"
    }
  },
  "nbformat": 4,
  "nbformat_minor": 0
}