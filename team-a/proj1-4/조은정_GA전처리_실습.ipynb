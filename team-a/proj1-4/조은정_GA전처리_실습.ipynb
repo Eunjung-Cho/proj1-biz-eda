{
  "nbformat": 4,
  "nbformat_minor": 0,
  "metadata": {
    "colab": {
      "private_outputs": true,
      "provenance": [],
      "include_colab_link": true
    },
    "kernelspec": {
      "name": "python3",
      "display_name": "Python 3"
    },
    "language_info": {
      "name": "python"
    }
  },
  "cells": [
    {
      "cell_type": "markdown",
      "metadata": {
        "id": "view-in-github",
        "colab_type": "text"
      },
      "source": [
        "<a href=\"https://colab.research.google.com/github/Eunjung-Cho/proj1-biz-eda/blob/main/team-a/proj1-4/%EC%A1%B0%EC%9D%80%EC%A0%95_GA%EC%A0%84%EC%B2%98%EB%A6%AC_%EC%8B%A4%EC%8A%B5.ipynb\" target=\"_parent\"><img src=\"https://colab.research.google.com/assets/colab-badge.svg\" alt=\"Open In Colab\"/></a>"
      ]
    },
    {
      "cell_type": "markdown",
      "source": [
        "# GA 전처리 실습"
      ],
      "metadata": {
        "id": "YNA6pDHNzpQG"
      }
    },
    {
      "cell_type": "markdown",
      "source": [
        "## 데이터 불러오기"
      ],
      "metadata": {
        "id": "_FiZ86C1zsF9"
      }
    },
    {
      "cell_type": "code",
      "source": [
        "from google.colab import drive\n",
        "drive.mount('/content/drive')"
      ],
      "metadata": {
        "id": "J5PET4k2y5wo"
      },
      "execution_count": null,
      "outputs": []
    },
    {
      "cell_type": "code",
      "source": [
        "!pip install koreanize_matplotlib"
      ],
      "metadata": {
        "id": "I99b11ME0Hjw"
      },
      "execution_count": null,
      "outputs": []
    },
    {
      "cell_type": "code",
      "source": [
        "import pandas as pd\n",
        "import matplotlib.pyplot as plt\n",
        "import koreanize_matplotlib"
      ],
      "metadata": {
        "id": "bunSAtcizbQi"
      },
      "execution_count": null,
      "outputs": []
    },
    {
      "cell_type": "code",
      "execution_count": null,
      "metadata": {
        "id": "oUwLRmog4Rnq"
      },
      "outputs": [],
      "source": [
        "df = pd.read_csv('/content/drive/MyDrive/EJ_Data Analysis/Education Programs/패캠_inner circle/ICB_data/ga_innercircle.csv')\n",
        "df.shape"
      ]
    },
    {
      "cell_type": "markdown",
      "source": [
        "## 데이터 확인"
      ],
      "metadata": {
        "id": "JpiPqWHezwDy"
      }
    },
    {
      "cell_type": "code",
      "source": [
        "df.head()"
      ],
      "metadata": {
        "id": "YWfaY9Wm4pG6"
      },
      "execution_count": null,
      "outputs": []
    },
    {
      "cell_type": "code",
      "source": [
        "df.tail()"
      ],
      "metadata": {
        "id": "H3c8Fjgm4ve0"
      },
      "execution_count": null,
      "outputs": []
    },
    {
      "cell_type": "code",
      "source": [
        "df.info()"
      ],
      "metadata": {
        "id": "2qpNbjlu4zUA"
      },
      "execution_count": null,
      "outputs": []
    },
    {
      "cell_type": "markdown",
      "source": [
        "### 컬럼정보 프롬프트\n",
        "\n",
        "Prompt : 위의 df.info() 결과와\n",
        "\n",
        "1. 구글 애널리틱스 데이터로 추출해서 빈도수를 구한 다음의 결과에 대해 비즈니스 관점으로 해석할 것\n",
        "\n",
        "2. [링크 텍스트](https://)위에서 각 변수에 대해서 100자 내외로 불릿 형태 정리"
      ],
      "metadata": {
        "id": "RVM22QwTz0_e"
      }
    },
    {
      "cell_type": "markdown",
      "source": [
        "- **event_date**: 이벤트 발생 날짜(YYYYMMDD). 기간별 분석에 활용  \n",
        "- **event_timestamp**: 이벤트 발생 시점(마이크로초). 시간 순서 분석에 사용  \n",
        "- **event_name**: 이벤트 유형(예: scroll, screen_view). 사용자 행동 파악  \n",
        "- **event_params**: 이벤트 상세 파라미터(JSON). 맥락/추가 정보 확인  \n",
        "- **event_previous_timestamp**: 이전 이벤트 시점. 이벤트 간 간격 분석  \n",
        "- **event_value_in_usd**: 이벤트로 인한 USD 가치. 구매 등 수익 측정  \n",
        "- **event_bundle_sequence_id**: 묶음으로 전송될 때의 이벤트 순서 식별자  \n",
        "- **event_server_timestamp_offset**: 서버 기준 시간 오프셋. 시차 보정에 사용  \n",
        "- **user_id**: 로그인 사용자 ID. 회원 행동 분석에 활용  \n",
        "- **user_pseudo_id**: 비로그인 포함 익명 사용자 식별자. 전체 사용자 추적  \n",
        "- **privacy_info**: 개인정보 처리 관련 정보. 보호 상태 확인  \n",
        "- **user_properties**: 사용자 속성(예: OS, 앱 버전). 세분화 및 타겟팅  \n",
        "- **user_first_touch_timestamp**: 사용자가 처음 접속한 시점  \n",
        "- **user_ltv**: 사용자 평생가치(Lifetime Value). 매출 기여도 분석  \n",
        "- **device**: 기기 정보(모델, 제조사 등). 디바이스별 사용자 행태 파악  \n",
        "- **geo**: 지역 정보. 위치 기반 마케팅 및 지역별 트래픽 분석  \n",
        "- **app_info**: 앱 버전, 빌드 등 앱 관련 세부 정보  \n",
        "- **traffic_source**: 유입 채널(검색, 광고 등). 마케팅 성과 추적  \n",
        "- **stream_id**: 데이터 스트림 식별자. 프로젝트/프로퍼티 구분  \n",
        "- **platform**: 접속 플랫폼(웹, iOS, Android 등). 채널별 전략 수립  \n",
        "- **event_dimensions**: 이벤트에 연결된 추가 차원(JSON). 맥락 정보  \n",
        "- **ecommerce**: 이커머스 관련 속성. 구매·장바구니 이벤트 분석  \n",
        "- **items**: 이벤트 내 상품 목록 정보. 구매 아이템 파악  \n",
        "- **collected_traffic_source**: 최종 트래픽 소스. 채널 경로 추적  \n",
        "- **is_active_user**: 활성 사용자 여부(True/False). DAU·WAU 지표 계산  \n",
        "- **batch_event_index**: 동일 배치 내 이벤트 순서 식별자  \n",
        "- **batch_page_id**: 배치 처리 시 페이지 식별자. 로그 매핑 시 사용  \n",
        "- **batch_ordering_id**: 배치 내 순서 ID. 이벤트 정렬에 활용  \n",
        "- **session_traffic_source_last_click**: 세션 마지막 클릭 유입 정보  \n",
        "- **publisher**: 광고 퍼블리셔 등 채널 정보. 광고 추적에 사용  "
      ],
      "metadata": {
        "id": "-EmovPMi75cV"
      }
    },
    {
      "cell_type": "code",
      "source": [
        "\n",
        "from IPython.display import display\n",
        "\n",
        "\n",
        "# Display the shape of the DataFrame\n",
        "display(df.shape)\n",
        "\n",
        "# Display the first few rows\n",
        "display(df.head())\n",
        "\n",
        "# Display the last few rows\n",
        "display(df.tail())\n",
        "\n",
        "# Display DataFrame information\n",
        "display(df.info())\n",
        "\n",
        "# Display descriptive statistics for numerical columns\n",
        "display(df.describe())\n",
        "\n",
        "# Display descriptive statistics for categorical columns\n",
        "display(df.describe(include='object'))"
      ],
      "metadata": {
        "id": "hAVoh76o5U-s"
      },
      "execution_count": null,
      "outputs": []
    },
    {
      "cell_type": "code",
      "source": [
        "# prompt: 전체 수치변수에 대해 판다스를 활용해서 코드 한 줄로 히스토그램 작성\n",
        "\n",
        "# df.hist(figsize=(20, 20));"
      ],
      "metadata": {
        "id": "xQnFq51M9HhN"
      },
      "execution_count": null,
      "outputs": []
    },
    {
      "cell_type": "code",
      "source": [
        "df.hist(figsize=(12, 12), bins=100); #bins는 히스토그램의 막대(bin)의 개수, 값이 클수록 막대폭이 좁아진다."
      ],
      "metadata": {
        "id": "CA0DWUpx8yHm"
      },
      "execution_count": null,
      "outputs": []
    },
    {
      "cell_type": "code",
      "source": [
        "df['event_name'].value_counts()"
      ],
      "metadata": {
        "id": "j9CHZtfW8yB2"
      },
      "execution_count": null,
      "outputs": []
    },
    {
      "cell_type": "markdown",
      "source": [
        "## 데이터 전처리"
      ],
      "metadata": {
        "id": "fF763RRv2Dyj"
      }
    },
    {
      "cell_type": "markdown",
      "source": [
        "### 이벤트 파라미터를 데이터프레임으로\n",
        "\n",
        "* 프롬프트1 :\n",
        "\n",
        "df[\"event_params\"][0]의 내부가 다음과 같습니다.\n",
        "다음의 key 값을 컬럼명으로 value를 값으로 데이터프레임에 적용하는 코드 작성\n",
        "\n",
        "print(df.loc[0, \"event_params\"]) 결과물 넣기\n",
        "\n",
        "* 프롬프트2:\n",
        "\n",
        "df.head()의 결과을 넣으면서 다음과 같이 있을때 내부 데이터를 모르는 상태에서 {로 시작하고  key value로 되어 있는 데이터를 파싱해서 새로운 컬럼으로 만들고 값을 적용해주는코드 작성 기존 컬럼은 삭제할 것"
      ],
      "metadata": {
        "id": "FdoLEe8G2F9x"
      }
    },
    {
      "cell_type": "code",
      "source": [
        "df[\"event_params\"][0]"
      ],
      "metadata": {
        "id": "NKaOT-P58x-0"
      },
      "execution_count": null,
      "outputs": []
    },
    {
      "cell_type": "code",
      "source": [
        "print(df.loc[0, \"event_params\"])"
      ],
      "metadata": {
        "id": "GFjbDKO68xzv"
      },
      "execution_count": null,
      "outputs": []
    },
    {
      "cell_type": "code",
      "source": [
        "import json\n",
        "import numpy as np\n",
        "\n",
        "def parse_ga4_style_json(json_str):\n",
        "    \"\"\"\n",
        "    1) JSON 문자열인 json_str을 파싱\n",
        "    2) GA4 'key'/'value' 구조([{ \"key\": k, \"value\": {...}}])를 찾으면 -> {k: 실제값}으로 추출\n",
        "    3) 일반 딕셔너리({ \"some_key\": some_val }) 구조도 최상위 key-value만 추출\n",
        "    4) key-value를 담은 dict를 리턴 (실패 시 빈 dict)\n",
        "    \"\"\"\n",
        "    # 예외처리: JSON 파싱\n",
        "    try:\n",
        "        parsed = json.loads(json_str)\n",
        "    except:\n",
        "        return {}\n",
        "\n",
        "    # 결과를 담을 딕셔너리\n",
        "    result = {}\n",
        "\n",
        "    # 1) 리스트 형태([\"event_params\": [...]] 등) 안에서 GA4 style param 찾기\n",
        "    if isinstance(parsed, dict):\n",
        "        # 예: {\"event_params\": [{\"key\": \"...\", \"value\": {...}}, ...], \"other_key\": {...}}\n",
        "        for top_key, top_val in parsed.items():\n",
        "\n",
        "            # (A) 만약 리스트라면 → GA4 파라미터(또는 유사 구조) 가능성\n",
        "            if isinstance(top_val, list):\n",
        "                for item in top_val:\n",
        "                    if isinstance(item, dict) and \"key\" in item and \"value\" in item:\n",
        "                        # item: {\"key\": \"...\", \"value\": {...}}\n",
        "                        param_key = item[\"key\"]\n",
        "                        param_val = item[\"value\"]\n",
        "\n",
        "                        # 실제 값 추출 (int_value, string_value, float_value, double_value 중 유효한 것)\n",
        "                        if param_val.get(\"int_value\") is not None:\n",
        "                            val = int(param_val[\"int_value\"])\n",
        "                        elif param_val.get(\"string_value\") is not None:\n",
        "                            val = param_val[\"string_value\"]\n",
        "                        elif param_val.get(\"float_value\") is not None:\n",
        "                            val = float(param_val[\"float_value\"])\n",
        "                        elif param_val.get(\"double_value\") is not None:\n",
        "                            val = float(param_val[\"double_value\"])\n",
        "                        else:\n",
        "                            val = None\n",
        "\n",
        "                        result[param_key] = val\n",
        "\n",
        "            # (B) 딕셔너리 형태라면(예: {\"publisher\": null}처럼 단일 key-value) → 최상위 키/값을 넣어줌\n",
        "            elif isinstance(top_val, dict):\n",
        "                # 간단히 top_val를 평탄화해서 result에 합침 (중첩은 추가 구현 필요)\n",
        "                for inner_k, inner_v in top_val.items():\n",
        "                    # key가 \"key\"이고 value가 {...} 이런 GA4 형식이 아닌 한, 그냥 key-value로 저장\n",
        "                    result[f\"{top_key}_{inner_k}\"] = inner_v\n",
        "\n",
        "            # (C) top_val이 숫자, 문자열, None 등 스칼라일 경우\n",
        "            else:\n",
        "                result[top_key] = top_val\n",
        "\n",
        "    return result\n",
        "\n",
        "\n",
        "def flatten_ga4_json_columns(df):\n",
        "    \"\"\"\n",
        "    1) df 내에서 '{'로 시작하는 문자열이 있는 컬럼을 'JSON 컬럼'으로 판단\n",
        "    2) 각 JSON 컬럼을 parse_ga4_style_json으로 변환 -> 여러 컬럼으로 펼침\n",
        "    3) 펼쳐진 컬럼을 원본 df와 병합 후, 기존 JSON 컬럼은 삭제\n",
        "    4) 최종 df 반환\n",
        "    \"\"\"\n",
        "    json_cols = []\n",
        "\n",
        "    # 1) 우선, '{'로 시작하는 문자열이 있는 컬럼 식별\n",
        "    for col in df.columns:\n",
        "        # Series를 문자열화한 뒤 '{'로 시작하는지(any) 확인\n",
        "        if df[col].astype(str).str.startswith('{').any():\n",
        "            json_cols.append(col)\n",
        "\n",
        "    # 2) 각 JSON 컬럼별로 파싱 & 펼치기\n",
        "    expanded_dfs = []\n",
        "    for col in json_cols:\n",
        "        # parse 결과 -> dict 형태가 row별로 생김\n",
        "        parsed_series = df[col].astype(str).apply(parse_ga4_style_json)\n",
        "\n",
        "        # dict -> 데이터프레임으로 (row별 컬럼 확장)\n",
        "        expanded_df = pd.json_normalize(parsed_series)\n",
        "\n",
        "        # 혹시 컬럼 충돌 방지를 위해 '원본컬럼명.새키' 형태로 명명\n",
        "        expanded_df.columns = [f\"{col}.{c}\" for c in expanded_df.columns]\n",
        "\n",
        "        expanded_dfs.append(expanded_df)\n",
        "\n",
        "    # 3) 확장된 DF를 모두 수평 결합(concat) -> 원본 DF와 합치기\n",
        "    if expanded_dfs:\n",
        "        expanded_all = pd.concat([df] + expanded_dfs, axis=1)\n",
        "    else:\n",
        "        expanded_all = df.copy()\n",
        "\n",
        "    # 4) 기존 JSON 컬럼은 삭제\n",
        "    expanded_all.drop(columns=json_cols, inplace=True)\n",
        "\n",
        "    return expanded_all\n",
        "\n",
        "\n",
        "# 이미 df가 존재한다고 가정; 여기서는 예시로 일부 컬럼만 만듦\n",
        "# 변환 수행\n",
        "df_flattened = flatten_ga4_json_columns(df)\n",
        "print(\"=== Before ===\")\n",
        "print(df)\n",
        "print(\"\\n=== After Flattening ===\")\n",
        "print(df_flattened)"
      ],
      "metadata": {
        "id": "om0NxYM3A9To"
      },
      "execution_count": null,
      "outputs": []
    },
    {
      "cell_type": "code",
      "source": [
        "# prompt: 판다스의 데이터프레임 모든 컬럼 출력하기\n",
        "\n",
        "# Display all columns of the DataFrame\n",
        "pd.set_option(\"display.max_columns\", None)  # Show all columns\n",
        "display(df_flattened)"
      ],
      "metadata": {
        "id": "kMfCRgF1C62e"
      },
      "execution_count": null,
      "outputs": []
    },
    {
      "cell_type": "code",
      "source": [
        "# prompt: 기초 기술 통계 작성\n",
        "\n",
        "# Display descriptive statistics for numerical columns\n",
        "display(df_flattened.describe())\n",
        "\n",
        "# Display descriptive statistics for categorical columns\n",
        "display(df_flattened.describe(include='object'))\n",
        "\n",
        "# You can adjust the figsize and bins as needed\n",
        "df_flattened.hist(figsize=(12, 12), bins=100);"
      ],
      "metadata": {
        "id": "ytiKZe6aDOxe"
      },
      "execution_count": null,
      "outputs": []
    },
    {
      "cell_type": "markdown",
      "source": [
        "## 데이터 출력"
      ],
      "metadata": {
        "id": "971pzrzX5DY6"
      }
    },
    {
      "cell_type": "markdown",
      "source": [
        "### duckdb로 출력"
      ],
      "metadata": {
        "id": "1ZGtAc1E5Gks"
      }
    },
    {
      "cell_type": "code",
      "source": [
        "!pip install duckdb"
      ],
      "metadata": {
        "id": "zGSKMeGs4Jyy"
      },
      "execution_count": null,
      "outputs": []
    },
    {
      "cell_type": "code",
      "source": [
        "import duckdb\n",
        "\n",
        "# DuckDB 파일로 연결 (my_database.duckdb 파일 생성)\n",
        "con = duckdb.connect(database='ga_data.duckdb')\n",
        "\n",
        "con.register('df_flattened', df_flattened)  # DataFrame 등록\n",
        "con.execute(\"CREATE TABLE ga_data AS SELECT * FROM df_flattened\")\n",
        "\n",
        "\n",
        "# DuckDB 연결 닫기\n",
        "con.close()\n"
      ],
      "metadata": {
        "id": "XH8gIgt5CzH0"
      },
      "execution_count": null,
      "outputs": []
    },
    {
      "cell_type": "markdown",
      "source": [
        "### excel파일로 출력"
      ],
      "metadata": {
        "id": "pjbftjFG5Jgj"
      }
    },
    {
      "cell_type": "code",
      "source": [
        "df_flattened.to_excel('ga_data_전처리.xlsx', index=False)"
      ],
      "metadata": {
        "id": "O5hVRJtc5Vid"
      },
      "execution_count": null,
      "outputs": []
    }
  ]
}